{
 "cells": [
  {
   "cell_type": "code",
   "execution_count": 1,
   "outputs": [
    {
     "data": {
      "text/plain": "<module 'defs' from '/home/jovyan/dev/projects/vinx/defs.py'>"
     },
     "execution_count": 1,
     "metadata": {},
     "output_type": "execute_result"
    }
   ],
   "source": [
    "import defs as d\n",
    "import joblib\n",
    "import pandas as pd\n",
    "import numpy as np\n",
    "import matplotlib.pyplot as plt\n",
    "d"
   ],
   "metadata": {
    "collapsed": false,
    "pycharm": {
     "name": "#%%\n"
    }
   }
  },
  {
   "cell_type": "code",
   "execution_count": 2,
   "outputs": [
    {
     "name": "stdout",
     "output_type": "stream",
     "text": [
      "start\n",
      "CPU times: user 127 µs, sys: 20 µs, total: 147 µs\n",
      "Wall time: 165 µs\n"
     ]
    }
   ],
   "source": [
    "%%time\n",
    "print('start')\n",
    "def _mape(y, y_hat):\n",
    "  return np.mean(np.abs((y - y_hat)) / np.abs(y))\n",
    "\n",
    "def ape(y, y_hat):\n",
    "  return np.abs((y - y_hat)) / np.abs(y)"
   ],
   "metadata": {
    "collapsed": false,
    "pycharm": {
     "name": "#%%\n"
    }
   }
  },
  {
   "cell_type": "code",
   "execution_count": 3,
   "outputs": [
    {
     "name": "stdout",
     "output_type": "stream",
     "text": [
      "start\n",
      "CPU times: user 2.27 s, sys: 8.78 s, total: 11 s\n",
      "Wall time: 12.6 s\n"
     ]
    },
    {
     "data": {
      "text/plain": "         store_cd       date  customer_count    pred split_date  nth_pred  \\\n0             113 2019-01-01            1247  2022.0 2019-01-01         0   \n1             113 2019-01-02            1551  1835.0 2019-01-01         1   \n2             113 2019-01-02            1551  1763.0 2019-01-02         0   \n3             113 2019-01-03            1703  1677.0 2019-01-01         2   \n4             113 2019-01-03            1703  1830.0 2019-01-02         1   \n...           ...        ...             ...     ...        ...       ...   \n2067571       876 2020-01-30            2892  2796.0 2019-12-31        30   \n2067572       877 2020-01-30            3962  3877.0 2019-12-31        30   \n2067573       878 2020-01-30            2501  2605.0 2019-12-31        30   \n2067574       879 2020-01-30            4177  4136.0 2019-12-31        30   \n2067575       880 2020-01-30            3558  3640.0 2019-12-31        30   \n\n              ape  open_day_count  \n0        0.621492             704  \n1        0.183108             705  \n2        0.136686             705  \n3        0.015267             706  \n4        0.074574             706  \n...           ...             ...  \n2067571  0.033195             309  \n2067572  0.021454             280  \n2067573  0.041583             224  \n2067574  0.009816             140  \n2067575  0.023047              58  \n\n[2067576 rows x 8 columns]",
      "text/html": "<div>\n<style scoped>\n    .dataframe tbody tr th:only-of-type {\n        vertical-align: middle;\n    }\n\n    .dataframe tbody tr th {\n        vertical-align: top;\n    }\n\n    .dataframe thead th {\n        text-align: right;\n    }\n</style>\n<table border=\"1\" class=\"dataframe\">\n  <thead>\n    <tr style=\"text-align: right;\">\n      <th></th>\n      <th>store_cd</th>\n      <th>date</th>\n      <th>customer_count</th>\n      <th>pred</th>\n      <th>split_date</th>\n      <th>nth_pred</th>\n      <th>ape</th>\n      <th>open_day_count</th>\n    </tr>\n  </thead>\n  <tbody>\n    <tr>\n      <th>0</th>\n      <td>113</td>\n      <td>2019-01-01</td>\n      <td>1247</td>\n      <td>2022.0</td>\n      <td>2019-01-01</td>\n      <td>0</td>\n      <td>0.621492</td>\n      <td>704</td>\n    </tr>\n    <tr>\n      <th>1</th>\n      <td>113</td>\n      <td>2019-01-02</td>\n      <td>1551</td>\n      <td>1835.0</td>\n      <td>2019-01-01</td>\n      <td>1</td>\n      <td>0.183108</td>\n      <td>705</td>\n    </tr>\n    <tr>\n      <th>2</th>\n      <td>113</td>\n      <td>2019-01-02</td>\n      <td>1551</td>\n      <td>1763.0</td>\n      <td>2019-01-02</td>\n      <td>0</td>\n      <td>0.136686</td>\n      <td>705</td>\n    </tr>\n    <tr>\n      <th>3</th>\n      <td>113</td>\n      <td>2019-01-03</td>\n      <td>1703</td>\n      <td>1677.0</td>\n      <td>2019-01-01</td>\n      <td>2</td>\n      <td>0.015267</td>\n      <td>706</td>\n    </tr>\n    <tr>\n      <th>4</th>\n      <td>113</td>\n      <td>2019-01-03</td>\n      <td>1703</td>\n      <td>1830.0</td>\n      <td>2019-01-02</td>\n      <td>1</td>\n      <td>0.074574</td>\n      <td>706</td>\n    </tr>\n    <tr>\n      <th>...</th>\n      <td>...</td>\n      <td>...</td>\n      <td>...</td>\n      <td>...</td>\n      <td>...</td>\n      <td>...</td>\n      <td>...</td>\n      <td>...</td>\n    </tr>\n    <tr>\n      <th>2067571</th>\n      <td>876</td>\n      <td>2020-01-30</td>\n      <td>2892</td>\n      <td>2796.0</td>\n      <td>2019-12-31</td>\n      <td>30</td>\n      <td>0.033195</td>\n      <td>309</td>\n    </tr>\n    <tr>\n      <th>2067572</th>\n      <td>877</td>\n      <td>2020-01-30</td>\n      <td>3962</td>\n      <td>3877.0</td>\n      <td>2019-12-31</td>\n      <td>30</td>\n      <td>0.021454</td>\n      <td>280</td>\n    </tr>\n    <tr>\n      <th>2067573</th>\n      <td>878</td>\n      <td>2020-01-30</td>\n      <td>2501</td>\n      <td>2605.0</td>\n      <td>2019-12-31</td>\n      <td>30</td>\n      <td>0.041583</td>\n      <td>224</td>\n    </tr>\n    <tr>\n      <th>2067574</th>\n      <td>879</td>\n      <td>2020-01-30</td>\n      <td>4177</td>\n      <td>4136.0</td>\n      <td>2019-12-31</td>\n      <td>30</td>\n      <td>0.009816</td>\n      <td>140</td>\n    </tr>\n    <tr>\n      <th>2067575</th>\n      <td>880</td>\n      <td>2020-01-30</td>\n      <td>3558</td>\n      <td>3640.0</td>\n      <td>2019-12-31</td>\n      <td>30</td>\n      <td>0.023047</td>\n      <td>58</td>\n    </tr>\n  </tbody>\n</table>\n<p>2067576 rows × 8 columns</p>\n</div>"
     },
     "execution_count": 3,
     "metadata": {},
     "output_type": "execute_result"
    }
   ],
   "source": [
    "%%time\n",
    "print('start')\n",
    "\n",
    "data = pd.concat(joblib.load(d.DS_DL_PATH+'/val12_opt30/azureml/e3837e0b-0e04-4c8d-8a16-f3b5a2c566ef/assessment_data_val12_opt30'), axis=0)\n",
    "merged_data = joblib.load(d.DS_DL_PATH+'/val12_opt7/azureml/d88ab129-e091-43d6-80e9-05b913a9c4ef/merged_data')[['store_cd', 'date', 'open_day_count']]\n",
    "data['ape'] = ape(data['customer_count'], data['pred'])\n",
    "mask = (data['nth_pred'] <= 30)\n",
    "data = data[mask].copy()\n",
    "data = pd.merge(data, merged_data, on=['store_cd', 'date'], how='inner')\n",
    "\n",
    "data"
   ],
   "metadata": {
    "collapsed": false,
    "pycharm": {
     "name": "#%%\n"
    }
   }
  },
  {
   "cell_type": "code",
   "execution_count": 4,
   "outputs": [
    {
     "name": "stdout",
     "output_type": "stream",
     "text": [
      "start\n",
      "Mean:  0.06103793215873836\n",
      "Std: 2.882775265629503\n",
      "Min: 0.0\n",
      "Max: 849.0\n",
      "CPU times: user 60.1 ms, sys: 0 ns, total: 60.1 ms\n",
      "Wall time: 55.4 ms\n"
     ]
    }
   ],
   "source": [
    "%%time\n",
    "# All\n",
    "print('start')\n",
    "ape_data = data['ape']\n",
    "print('Mean: ', ape_data.mean())\n",
    "print('Std:', ape_data.std())\n",
    "print('Min:', ape_data.min())\n",
    "print('Max:', ape_data.max())\n"
   ],
   "metadata": {
    "collapsed": false,
    "pycharm": {
     "name": "#%%\n"
    }
   }
  },
  {
   "cell_type": "code",
   "execution_count": 5,
   "outputs": [
    {
     "name": "stdout",
     "output_type": "stream",
     "text": [
      "start\n",
      "Mean:  0.06075524138096051\n",
      "Std: 2.758559588631384\n",
      "Min: 0.0\n",
      "Max: 701.75\n",
      "CPU times: user 18 ms, sys: 9.25 ms, total: 27.2 ms\n",
      "Wall time: 22.3 ms\n"
     ]
    }
   ],
   "source": [
    "%%time\n",
    "print('start')\n",
    "# Diagonal\n",
    "mask = (data['nth_pred'] == 0)\n",
    "ape_data = data.loc[mask, 'ape']\n",
    "print('Mean: ', ape_data.mean())\n",
    "print('Std:', ape_data.std())\n",
    "print('Min:', ape_data.min())\n",
    "print('Max:', ape_data.max())"
   ],
   "metadata": {
    "collapsed": false,
    "pycharm": {
     "name": "#%%\n"
    }
   }
  },
  {
   "cell_type": "code",
   "execution_count": 6,
   "outputs": [
    {
     "name": "stdout",
     "output_type": "stream",
     "text": [
      "start\n",
      "Mean:  0.06226647937755328\n",
      "Std: 3.1797672840144875\n",
      "Min: 0.0\n",
      "Max: 818.25\n",
      "CPU times: user 179 ms, sys: 0 ns, total: 179 ms\n",
      "Wall time: 174 ms\n"
     ]
    }
   ],
   "source": [
    "%%time\n",
    "print('start')\n",
    "# 1st date only\n",
    "mask = (data['split_date'].dt.day == 1)\n",
    "ape_data = data.loc[mask, 'ape']\n",
    "print('Mean: ', ape_data.mean())\n",
    "print('Std:', ape_data.std())\n",
    "print('Min:', ape_data.min())\n",
    "print('Max:', ape_data.max())"
   ],
   "metadata": {
    "collapsed": false,
    "pycharm": {
     "name": "#%%\n"
    }
   }
  },
  {
   "cell_type": "code",
   "execution_count": 8,
   "outputs": [
    {
     "name": "stdout",
     "output_type": "stream",
     "text": [
      "start\n",
      "CPU times: user 91.6 ms, sys: 40.5 ms, total: 132 ms\n",
      "Wall time: 128 ms\n"
     ]
    },
    {
     "data": {
      "text/plain": "         store_cd       date  customer_count    pred split_date  nth_pred  \\\n0             113 2019-01-01            1247  2022.0 2019-01-01         0   \n1             113 2019-01-02            1551  1835.0 2019-01-01         1   \n2             113 2019-01-02            1551  1763.0 2019-01-02         0   \n3             113 2019-01-03            1703  1677.0 2019-01-01         2   \n4             113 2019-01-03            1703  1830.0 2019-01-02         1   \n...           ...        ...             ...     ...        ...       ...   \n2067571       876 2020-01-30            2892  2796.0 2019-12-31        30   \n2067572       877 2020-01-30            3962  3877.0 2019-12-31        30   \n2067573       878 2020-01-30            2501  2605.0 2019-12-31        30   \n2067574       879 2020-01-30            4177  4136.0 2019-12-31        30   \n2067575       880 2020-01-30            3558  3640.0 2019-12-31        30   \n\n              ape  open_day_count  \n0        0.621492             704  \n1        0.183108             705  \n2        0.136686             705  \n3        0.015267             706  \n4        0.074574             706  \n...           ...             ...  \n2067571  0.033195             309  \n2067572  0.021454             280  \n2067573  0.041583             224  \n2067574  0.009816             140  \n2067575  0.023047              58  \n\n[2049829 rows x 8 columns]",
      "text/html": "<div>\n<style scoped>\n    .dataframe tbody tr th:only-of-type {\n        vertical-align: middle;\n    }\n\n    .dataframe tbody tr th {\n        vertical-align: top;\n    }\n\n    .dataframe thead th {\n        text-align: right;\n    }\n</style>\n<table border=\"1\" class=\"dataframe\">\n  <thead>\n    <tr style=\"text-align: right;\">\n      <th></th>\n      <th>store_cd</th>\n      <th>date</th>\n      <th>customer_count</th>\n      <th>pred</th>\n      <th>split_date</th>\n      <th>nth_pred</th>\n      <th>ape</th>\n      <th>open_day_count</th>\n    </tr>\n  </thead>\n  <tbody>\n    <tr>\n      <th>0</th>\n      <td>113</td>\n      <td>2019-01-01</td>\n      <td>1247</td>\n      <td>2022.0</td>\n      <td>2019-01-01</td>\n      <td>0</td>\n      <td>0.621492</td>\n      <td>704</td>\n    </tr>\n    <tr>\n      <th>1</th>\n      <td>113</td>\n      <td>2019-01-02</td>\n      <td>1551</td>\n      <td>1835.0</td>\n      <td>2019-01-01</td>\n      <td>1</td>\n      <td>0.183108</td>\n      <td>705</td>\n    </tr>\n    <tr>\n      <th>2</th>\n      <td>113</td>\n      <td>2019-01-02</td>\n      <td>1551</td>\n      <td>1763.0</td>\n      <td>2019-01-02</td>\n      <td>0</td>\n      <td>0.136686</td>\n      <td>705</td>\n    </tr>\n    <tr>\n      <th>3</th>\n      <td>113</td>\n      <td>2019-01-03</td>\n      <td>1703</td>\n      <td>1677.0</td>\n      <td>2019-01-01</td>\n      <td>2</td>\n      <td>0.015267</td>\n      <td>706</td>\n    </tr>\n    <tr>\n      <th>4</th>\n      <td>113</td>\n      <td>2019-01-03</td>\n      <td>1703</td>\n      <td>1830.0</td>\n      <td>2019-01-02</td>\n      <td>1</td>\n      <td>0.074574</td>\n      <td>706</td>\n    </tr>\n    <tr>\n      <th>...</th>\n      <td>...</td>\n      <td>...</td>\n      <td>...</td>\n      <td>...</td>\n      <td>...</td>\n      <td>...</td>\n      <td>...</td>\n      <td>...</td>\n    </tr>\n    <tr>\n      <th>2067571</th>\n      <td>876</td>\n      <td>2020-01-30</td>\n      <td>2892</td>\n      <td>2796.0</td>\n      <td>2019-12-31</td>\n      <td>30</td>\n      <td>0.033195</td>\n      <td>309</td>\n    </tr>\n    <tr>\n      <th>2067572</th>\n      <td>877</td>\n      <td>2020-01-30</td>\n      <td>3962</td>\n      <td>3877.0</td>\n      <td>2019-12-31</td>\n      <td>30</td>\n      <td>0.021454</td>\n      <td>280</td>\n    </tr>\n    <tr>\n      <th>2067573</th>\n      <td>878</td>\n      <td>2020-01-30</td>\n      <td>2501</td>\n      <td>2605.0</td>\n      <td>2019-12-31</td>\n      <td>30</td>\n      <td>0.041583</td>\n      <td>224</td>\n    </tr>\n    <tr>\n      <th>2067574</th>\n      <td>879</td>\n      <td>2020-01-30</td>\n      <td>4177</td>\n      <td>4136.0</td>\n      <td>2019-12-31</td>\n      <td>30</td>\n      <td>0.009816</td>\n      <td>140</td>\n    </tr>\n    <tr>\n      <th>2067575</th>\n      <td>880</td>\n      <td>2020-01-30</td>\n      <td>3558</td>\n      <td>3640.0</td>\n      <td>2019-12-31</td>\n      <td>30</td>\n      <td>0.023047</td>\n      <td>58</td>\n    </tr>\n  </tbody>\n</table>\n<p>2049829 rows × 8 columns</p>\n</div>"
     },
     "execution_count": 8,
     "metadata": {},
     "output_type": "execute_result"
    }
   ],
   "source": [
    "%%time\n",
    "print('start')\n",
    "mask = (data['open_day_count'] >= 30)\n",
    "data_v2 = data[mask].copy()\n",
    "data_v2"
   ],
   "metadata": {
    "collapsed": false,
    "pycharm": {
     "name": "#%%\n"
    }
   }
  },
  {
   "cell_type": "code",
   "execution_count": 9,
   "outputs": [
    {
     "name": "stdout",
     "output_type": "stream",
     "text": [
      "start\n",
      "Mean:  0.049682345093144065\n",
      "Std: 0.45883341209691103\n",
      "Min: 0.0\n",
      "Max: 75.12121212121212\n",
      "CPU times: user 51.1 ms, sys: 3.8 ms, total: 54.9 ms\n",
      "Wall time: 49.2 ms\n"
     ]
    }
   ],
   "source": [
    "%%time\n",
    "print('start')\n",
    "# All\n",
    "ape_data = data_v2['ape']\n",
    "print('Mean: ', ape_data.mean())\n",
    "print('Std:', ape_data.std())\n",
    "print('Min:', ape_data.min())\n",
    "print('Max:', ape_data.max())"
   ],
   "metadata": {
    "collapsed": false,
    "pycharm": {
     "name": "#%%\n"
    }
   }
  },
  {
   "cell_type": "code",
   "execution_count": 10,
   "outputs": [
    {
     "name": "stdout",
     "output_type": "stream",
     "text": [
      "start\n",
      "Mean:  0.049797392853860895\n",
      "Std: 0.44391135213229505\n",
      "Min: 0.0\n",
      "Max: 67.12121212121212\n",
      "CPU times: user 19 ms, sys: 3.86 ms, total: 22.9 ms\n",
      "Wall time: 18.4 ms\n"
     ]
    }
   ],
   "source": [
    "%%time\n",
    "print('start')\n",
    "# Diagonal\n",
    "mask = (data_v2['nth_pred'] == 0)\n",
    "ape_data = data_v2.loc[mask, 'ape']\n",
    "print('Mean: ', ape_data.mean())\n",
    "print('Std:', ape_data.std())\n",
    "print('Min:', ape_data.min())\n",
    "print('Max:', ape_data.max())"
   ],
   "metadata": {
    "collapsed": false,
    "pycharm": {
     "name": "#%%\n"
    }
   }
  },
  {
   "cell_type": "code",
   "execution_count": 11,
   "outputs": [
    {
     "name": "stdout",
     "output_type": "stream",
     "text": [
      "start\n",
      "Mean:  0.04978292855084894\n",
      "Std: 0.46661705897380096\n",
      "Min: 0.0\n",
      "Max: 71.9090909090909\n",
      "CPU times: user 397 ms, sys: 23.7 ms, total: 420 ms\n",
      "Wall time: 419 ms\n"
     ]
    }
   ],
   "source": [
    "%%time\n",
    "print('start')\n",
    "# 1st date only\n",
    "mask = (data['split_date'].dt.day == 1)\n",
    "ape_data =  data_v2.loc[mask, 'ape']\n",
    "print('Mean: ', ape_data.mean())\n",
    "print('Std:', ape_data.std())\n",
    "print('Min:', ape_data.min())\n",
    "print('Max:', ape_data.max())\n"
   ],
   "metadata": {
    "collapsed": false,
    "pycharm": {
     "name": "#%%\n"
    }
   }
  },
  {
   "cell_type": "code",
   "execution_count": 12,
   "outputs": [
    {
     "name": "stdout",
     "output_type": "stream",
     "text": [
      "start\n",
      "CPU times: user 98.8 ms, sys: 15.9 ms, total: 115 ms\n",
      "Wall time: 111 ms\n"
     ]
    },
    {
     "data": {
      "text/plain": "         store_cd       date  customer_count    pred split_date  nth_pred  \\\n0             113 2019-01-01            1247  2022.0 2019-01-01         0   \n1             113 2019-01-02            1551  1835.0 2019-01-01         1   \n2             113 2019-01-02            1551  1763.0 2019-01-02         0   \n3             113 2019-01-03            1703  1677.0 2019-01-01         2   \n4             113 2019-01-03            1703  1830.0 2019-01-02         1   \n...           ...        ...             ...     ...        ...       ...   \n2067571       876 2020-01-30            2892  2796.0 2019-12-31        30   \n2067572       877 2020-01-30            3962  3877.0 2019-12-31        30   \n2067573       878 2020-01-30            2501  2605.0 2019-12-31        30   \n2067574       879 2020-01-30            4177  4136.0 2019-12-31        30   \n2067575       880 2020-01-30            3558  3640.0 2019-12-31        30   \n\n              ape  open_day_count  \n0        0.621492             704  \n1        0.183108             705  \n2        0.136686             705  \n3        0.015267             706  \n4        0.074574             706  \n...           ...             ...  \n2067571  0.033195             309  \n2067572  0.021454             280  \n2067573  0.041583             224  \n2067574  0.009816             140  \n2067575  0.023047              58  \n\n[1998245 rows x 8 columns]",
      "text/html": "<div>\n<style scoped>\n    .dataframe tbody tr th:only-of-type {\n        vertical-align: middle;\n    }\n\n    .dataframe tbody tr th {\n        vertical-align: top;\n    }\n\n    .dataframe thead th {\n        text-align: right;\n    }\n</style>\n<table border=\"1\" class=\"dataframe\">\n  <thead>\n    <tr style=\"text-align: right;\">\n      <th></th>\n      <th>store_cd</th>\n      <th>date</th>\n      <th>customer_count</th>\n      <th>pred</th>\n      <th>split_date</th>\n      <th>nth_pred</th>\n      <th>ape</th>\n      <th>open_day_count</th>\n    </tr>\n  </thead>\n  <tbody>\n    <tr>\n      <th>0</th>\n      <td>113</td>\n      <td>2019-01-01</td>\n      <td>1247</td>\n      <td>2022.0</td>\n      <td>2019-01-01</td>\n      <td>0</td>\n      <td>0.621492</td>\n      <td>704</td>\n    </tr>\n    <tr>\n      <th>1</th>\n      <td>113</td>\n      <td>2019-01-02</td>\n      <td>1551</td>\n      <td>1835.0</td>\n      <td>2019-01-01</td>\n      <td>1</td>\n      <td>0.183108</td>\n      <td>705</td>\n    </tr>\n    <tr>\n      <th>2</th>\n      <td>113</td>\n      <td>2019-01-02</td>\n      <td>1551</td>\n      <td>1763.0</td>\n      <td>2019-01-02</td>\n      <td>0</td>\n      <td>0.136686</td>\n      <td>705</td>\n    </tr>\n    <tr>\n      <th>3</th>\n      <td>113</td>\n      <td>2019-01-03</td>\n      <td>1703</td>\n      <td>1677.0</td>\n      <td>2019-01-01</td>\n      <td>2</td>\n      <td>0.015267</td>\n      <td>706</td>\n    </tr>\n    <tr>\n      <th>4</th>\n      <td>113</td>\n      <td>2019-01-03</td>\n      <td>1703</td>\n      <td>1830.0</td>\n      <td>2019-01-02</td>\n      <td>1</td>\n      <td>0.074574</td>\n      <td>706</td>\n    </tr>\n    <tr>\n      <th>...</th>\n      <td>...</td>\n      <td>...</td>\n      <td>...</td>\n      <td>...</td>\n      <td>...</td>\n      <td>...</td>\n      <td>...</td>\n      <td>...</td>\n    </tr>\n    <tr>\n      <th>2067571</th>\n      <td>876</td>\n      <td>2020-01-30</td>\n      <td>2892</td>\n      <td>2796.0</td>\n      <td>2019-12-31</td>\n      <td>30</td>\n      <td>0.033195</td>\n      <td>309</td>\n    </tr>\n    <tr>\n      <th>2067572</th>\n      <td>877</td>\n      <td>2020-01-30</td>\n      <td>3962</td>\n      <td>3877.0</td>\n      <td>2019-12-31</td>\n      <td>30</td>\n      <td>0.021454</td>\n      <td>280</td>\n    </tr>\n    <tr>\n      <th>2067573</th>\n      <td>878</td>\n      <td>2020-01-30</td>\n      <td>2501</td>\n      <td>2605.0</td>\n      <td>2019-12-31</td>\n      <td>30</td>\n      <td>0.041583</td>\n      <td>224</td>\n    </tr>\n    <tr>\n      <th>2067574</th>\n      <td>879</td>\n      <td>2020-01-30</td>\n      <td>4177</td>\n      <td>4136.0</td>\n      <td>2019-12-31</td>\n      <td>30</td>\n      <td>0.009816</td>\n      <td>140</td>\n    </tr>\n    <tr>\n      <th>2067575</th>\n      <td>880</td>\n      <td>2020-01-30</td>\n      <td>3558</td>\n      <td>3640.0</td>\n      <td>2019-12-31</td>\n      <td>30</td>\n      <td>0.023047</td>\n      <td>58</td>\n    </tr>\n  </tbody>\n</table>\n<p>1998245 rows × 8 columns</p>\n</div>"
     },
     "execution_count": 12,
     "metadata": {},
     "output_type": "execute_result"
    }
   ],
   "source": [
    "%%time\n",
    "print('start')\n",
    "taifu_list = [\n",
    "  '2019-07-18',\n",
    "  '2019-07-19',\n",
    "  '2019-08-12',\n",
    "  '2019-08-27',\n",
    "  '2019-08-28',\n",
    "  '2019-08-29',\n",
    "  '2019-10-12',\n",
    "  '2019-10-13',\n",
    "  '2019-10-14',\n",
    "]\n",
    "\n",
    "mask = ~(data_v2['date'].isin(taifu_list))\n",
    "data_v3 = data_v2[mask].copy()\n",
    "data_v3"
   ],
   "metadata": {
    "collapsed": false,
    "pycharm": {
     "name": "#%%\n"
    }
   }
  },
  {
   "cell_type": "code",
   "execution_count": 13,
   "outputs": [
    {
     "name": "stdout",
     "output_type": "stream",
     "text": [
      "start\n",
      "Mean:  0.043093268706311784\n",
      "Std: 0.0433075768172053\n",
      "Min: 0.0\n",
      "Max: 3.1731707317073172\n",
      "CPU times: user 56 ms, sys: 1.16 ms, total: 57.2 ms\n",
      "Wall time: 52.6 ms\n"
     ]
    }
   ],
   "source": [
    "%%time\n",
    "print('start')\n",
    "# All\n",
    "ape_data = data_v3['ape']\n",
    "print('Mean: ', ape_data.mean())\n",
    "print('Std:', ape_data.std())\n",
    "print('Min:', ape_data.min())\n",
    "print('Max:', ape_data.max())\n"
   ],
   "metadata": {
    "collapsed": false,
    "pycharm": {
     "name": "#%%\n"
    }
   }
  },
  {
   "cell_type": "code",
   "execution_count": 14,
   "outputs": [
    {
     "name": "stdout",
     "output_type": "stream",
     "text": [
      "start\n",
      "Mean:  0.042552533241979454\n",
      "Std: 0.0455572434484891\n",
      "Min: 0.0\n",
      "Max: 3.1731707317073172\n",
      "CPU times: user 13.8 ms, sys: 2.7 ms, total: 16.6 ms\n",
      "Wall time: 15.8 ms\n"
     ]
    }
   ],
   "source": [
    "%%time\n",
    "print('start')\n",
    "# Diagonal\n",
    "mask = (data_v3['nth_pred'] == 0)\n",
    "ape_data = data_v3.loc[mask, 'ape']\n",
    "print('Mean: ', ape_data.mean())\n",
    "print('Std:', ape_data.std())\n",
    "print('Min:', ape_data.min())\n",
    "print('Max:', ape_data.max())"
   ],
   "metadata": {
    "collapsed": false,
    "pycharm": {
     "name": "#%%\n"
    }
   }
  },
  {
   "cell_type": "code",
   "execution_count": 15,
   "outputs": [
    {
     "name": "stdout",
     "output_type": "stream",
     "text": [
      "start\n",
      "Mean:  0.04315586810602462\n",
      "Std: 0.04629042966850076\n",
      "Min: 0.0\n",
      "Max: 3.1731707317073172\n",
      "CPU times: user 147 ms, sys: 6.82 ms, total: 154 ms\n",
      "Wall time: 152 ms\n"
     ]
    }
   ],
   "source": [
    "%%time\n",
    "print('start')\n",
    "# 1st date only\n",
    "mask = (data_v3['split_date'].dt.day == 1)\n",
    "ape_data = data_v3.loc[mask, 'ape']\n",
    "print('Mean: ', ape_data.mean())\n",
    "print('Std:', ape_data.std())\n",
    "print('Min:', ape_data.min())\n",
    "print('Max:', ape_data.max())"
   ],
   "metadata": {
    "collapsed": false,
    "pycharm": {
     "name": "#%%\n"
    }
   }
  },
  {
   "cell_type": "code",
   "execution_count": 16,
   "outputs": [
    {
     "name": "stdout",
     "output_type": "stream",
     "text": [
      "start\n",
      "CPU times: user 79.1 ms, sys: 14.3 ms, total: 93.4 ms\n",
      "Wall time: 90.3 ms\n"
     ]
    },
    {
     "data": {
      "text/plain": "         store_cd       date  customer_count    pred split_date  nth_pred  \\\n6             113 2019-01-04            2085  2120.0 2019-01-01         3   \n7             113 2019-01-04            2085  2110.0 2019-01-02         2   \n8             113 2019-01-04            2085  2011.0 2019-01-03         1   \n9             113 2019-01-04            2085  1953.0 2019-01-04         0   \n10            113 2019-01-05            2010  1803.0 2019-01-01         4   \n...           ...        ...             ...     ...        ...       ...   \n2067571       876 2020-01-30            2892  2796.0 2019-12-31        30   \n2067572       877 2020-01-30            3962  3877.0 2019-12-31        30   \n2067573       878 2020-01-30            2501  2605.0 2019-12-31        30   \n2067574       879 2020-01-30            4177  4136.0 2019-12-31        30   \n2067575       880 2020-01-30            3558  3640.0 2019-12-31        30   \n\n              ape  open_day_count  \n6        0.016787             707  \n7        0.011990             707  \n8        0.035492             707  \n9        0.063309             707  \n10       0.102985             708  \n...           ...             ...  \n2067571  0.033195             309  \n2067572  0.021454             280  \n2067573  0.041583             224  \n2067574  0.009816             140  \n2067575  0.023047              58  \n\n[1957940 rows x 8 columns]",
      "text/html": "<div>\n<style scoped>\n    .dataframe tbody tr th:only-of-type {\n        vertical-align: middle;\n    }\n\n    .dataframe tbody tr th {\n        vertical-align: top;\n    }\n\n    .dataframe thead th {\n        text-align: right;\n    }\n</style>\n<table border=\"1\" class=\"dataframe\">\n  <thead>\n    <tr style=\"text-align: right;\">\n      <th></th>\n      <th>store_cd</th>\n      <th>date</th>\n      <th>customer_count</th>\n      <th>pred</th>\n      <th>split_date</th>\n      <th>nth_pred</th>\n      <th>ape</th>\n      <th>open_day_count</th>\n    </tr>\n  </thead>\n  <tbody>\n    <tr>\n      <th>6</th>\n      <td>113</td>\n      <td>2019-01-04</td>\n      <td>2085</td>\n      <td>2120.0</td>\n      <td>2019-01-01</td>\n      <td>3</td>\n      <td>0.016787</td>\n      <td>707</td>\n    </tr>\n    <tr>\n      <th>7</th>\n      <td>113</td>\n      <td>2019-01-04</td>\n      <td>2085</td>\n      <td>2110.0</td>\n      <td>2019-01-02</td>\n      <td>2</td>\n      <td>0.011990</td>\n      <td>707</td>\n    </tr>\n    <tr>\n      <th>8</th>\n      <td>113</td>\n      <td>2019-01-04</td>\n      <td>2085</td>\n      <td>2011.0</td>\n      <td>2019-01-03</td>\n      <td>1</td>\n      <td>0.035492</td>\n      <td>707</td>\n    </tr>\n    <tr>\n      <th>9</th>\n      <td>113</td>\n      <td>2019-01-04</td>\n      <td>2085</td>\n      <td>1953.0</td>\n      <td>2019-01-04</td>\n      <td>0</td>\n      <td>0.063309</td>\n      <td>707</td>\n    </tr>\n    <tr>\n      <th>10</th>\n      <td>113</td>\n      <td>2019-01-05</td>\n      <td>2010</td>\n      <td>1803.0</td>\n      <td>2019-01-01</td>\n      <td>4</td>\n      <td>0.102985</td>\n      <td>708</td>\n    </tr>\n    <tr>\n      <th>...</th>\n      <td>...</td>\n      <td>...</td>\n      <td>...</td>\n      <td>...</td>\n      <td>...</td>\n      <td>...</td>\n      <td>...</td>\n      <td>...</td>\n    </tr>\n    <tr>\n      <th>2067571</th>\n      <td>876</td>\n      <td>2020-01-30</td>\n      <td>2892</td>\n      <td>2796.0</td>\n      <td>2019-12-31</td>\n      <td>30</td>\n      <td>0.033195</td>\n      <td>309</td>\n    </tr>\n    <tr>\n      <th>2067572</th>\n      <td>877</td>\n      <td>2020-01-30</td>\n      <td>3962</td>\n      <td>3877.0</td>\n      <td>2019-12-31</td>\n      <td>30</td>\n      <td>0.021454</td>\n      <td>280</td>\n    </tr>\n    <tr>\n      <th>2067573</th>\n      <td>878</td>\n      <td>2020-01-30</td>\n      <td>2501</td>\n      <td>2605.0</td>\n      <td>2019-12-31</td>\n      <td>30</td>\n      <td>0.041583</td>\n      <td>224</td>\n    </tr>\n    <tr>\n      <th>2067574</th>\n      <td>879</td>\n      <td>2020-01-30</td>\n      <td>4177</td>\n      <td>4136.0</td>\n      <td>2019-12-31</td>\n      <td>30</td>\n      <td>0.009816</td>\n      <td>140</td>\n    </tr>\n    <tr>\n      <th>2067575</th>\n      <td>880</td>\n      <td>2020-01-30</td>\n      <td>3558</td>\n      <td>3640.0</td>\n      <td>2019-12-31</td>\n      <td>30</td>\n      <td>0.023047</td>\n      <td>58</td>\n    </tr>\n  </tbody>\n</table>\n<p>1957940 rows × 8 columns</p>\n</div>"
     },
     "execution_count": 16,
     "metadata": {},
     "output_type": "execute_result"
    }
   ],
   "source": [
    "%%time\n",
    "print('start')\n",
    "\n",
    "holiday_list = [\n",
    "  '2019-01-01',\n",
    "  '2019-01-02',\n",
    "  '2019-01-03',\n",
    "  '2019-12-24',\n",
    "  '2019-12-25',\n",
    "  '2019-12-30',\n",
    "  '2019-12-31',\n",
    "  '2020-01-01',\n",
    "  '2020-01-02',\n",
    "  '2020-01-03',\n",
    "]\n",
    "\n",
    "mask = ~(data_v3['date'].isin(holiday_list))\n",
    "data_v4 = data_v3[mask].copy()\n",
    "data_v4"
   ],
   "metadata": {
    "collapsed": false,
    "pycharm": {
     "name": "#%%\n"
    }
   }
  },
  {
   "cell_type": "code",
   "execution_count": 17,
   "outputs": [
    {
     "name": "stdout",
     "output_type": "stream",
     "text": [
      "start\n",
      "Mean:  0.04242187060209939\n",
      "Std: 0.041802196590472324\n",
      "Min: 0.0\n",
      "Max: 1.106140350877193\n",
      "CPU times: user 53.3 ms, sys: 7.27 ms, total: 60.5 ms\n",
      "Wall time: 54.7 ms\n"
     ]
    }
   ],
   "source": [
    "%%time\n",
    "print('start')\n",
    "# All\n",
    "ape_data = data_v4['ape']\n",
    "print('Mean: ', ape_data.mean())\n",
    "print('Std:', ape_data.std())\n",
    "print('Min:', ape_data.min())\n",
    "print('Max:', ape_data.max())"
   ],
   "metadata": {
    "collapsed": false,
    "pycharm": {
     "name": "#%%\n"
    }
   }
  },
  {
   "cell_type": "code",
   "execution_count": 18,
   "outputs": [
    {
     "name": "stdout",
     "output_type": "stream",
     "text": [
      "start\n",
      "Mean:  0.04170683381299741\n",
      "Std: 0.04118622961962328\n",
      "Min: 0.0\n",
      "Max: 1.0213618157543392\n",
      "CPU times: user 13.4 ms, sys: 4.96 ms, total: 18.3 ms\n",
      "Wall time: 15.8 ms\n"
     ]
    }
   ],
   "source": [
    "%%time\n",
    "print('start')\n",
    "# Diagonal\n",
    "mask = (data_v4['nth_pred'] == 0)\n",
    "ape_data = data_v4.loc[mask, 'ape']\n",
    "print('Mean: ', ape_data.mean())\n",
    "print('Std:', ape_data.std())\n",
    "print('Min:', ape_data.min())\n",
    "print('Max:', ape_data.max())\n"
   ],
   "metadata": {
    "collapsed": false,
    "pycharm": {
     "name": "#%%\n"
    }
   }
  },
  {
   "cell_type": "code",
   "execution_count": 19,
   "outputs": [
    {
     "name": "stdout",
     "output_type": "stream",
     "text": [
      "start\n",
      "Mean:  0.04225863332900756\n",
      "Std: 0.04169867008465533\n",
      "Min: 0.0\n",
      "Max: 1.0315789473684212\n",
      "CPU times: user 151 ms, sys: 1.41 ms, total: 152 ms\n",
      "Wall time: 148 ms\n"
     ]
    }
   ],
   "source": [
    "%%time\n",
    "print('start')\n",
    "# 1st date only\n",
    "mask = (data_v4['split_date'].dt.day == 1)\n",
    "ape_data = data_v4.loc[mask, 'ape']\n",
    "print('Mean: ', ape_data.mean())\n",
    "print('Std:', ape_data.std())\n",
    "print('Min:', ape_data.min())\n",
    "print('Max:', ape_data.max())\n",
    "\n"
   ],
   "metadata": {
    "collapsed": false,
    "pycharm": {
     "name": "#%%\n"
    }
   }
  },
  {
   "cell_type": "code",
   "execution_count": 20,
   "outputs": [
    {
     "name": "stdout",
     "output_type": "stream",
     "text": [
      "start\n",
      "CPU times: user 12.8 ms, sys: 6.05 ms, total: 18.8 ms\n",
      "Wall time: 39.6 ms\n"
     ]
    }
   ],
   "source": [
    "%%time\n",
    "print('start')\n",
    "\n",
    "mask = (data_v4['ape'] > 1)\n",
    "data_v4[mask].to_csv(d.TMP+'/other_spike.csv', index=False)"
   ],
   "metadata": {
    "collapsed": false,
    "pycharm": {
     "name": "#%%\n"
    }
   }
  },
  {
   "cell_type": "code",
   "execution_count": 21,
   "outputs": [
    {
     "name": "stdout",
     "output_type": "stream",
     "text": [
      "start\n",
      "CPU times: user 121 ms, sys: 27.5 ms, total: 148 ms\n",
      "Wall time: 147 ms\n"
     ]
    },
    {
     "data": {
      "text/plain": "    nth_pred      mean       std  min       max\n1          1  0.041676  0.041482  0.0  0.937250\n0          0  0.041707  0.041186  0.0  1.021362\n7          7  0.042073  0.041736  0.0  1.075439\n5          5  0.042105  0.041824  0.0  0.957276\n3          3  0.042124  0.041776  0.0  0.941228\n4          4  0.042167  0.041865  0.0  1.078070\n2          2  0.042167  0.041787  0.0  1.047368\n15        15  0.042217  0.041313  0.0  0.925901\n14        14  0.042229  0.041647  0.0  0.947368\n6          6  0.042237  0.041956  0.0  1.106140\n10        10  0.042245  0.041884  0.0  1.038596\n20        20  0.042271  0.041606  0.0  0.977971\n8          8  0.042345  0.041666  0.0  0.955263\n11        11  0.042375  0.041999  0.0  1.090351\n13        13  0.042407  0.041959  0.0  0.953939\n12        12  0.042409  0.041800  0.0  0.996662\n9          9  0.042438  0.041968  0.0  0.912281\n17        17  0.042447  0.042010  0.0  0.958611\n18        18  0.042494  0.041728  0.0  1.034713\n25        25  0.042614  0.041693  0.0  0.869159\n26        26  0.042614  0.041675  0.0  0.970175\n21        21  0.042645  0.042005  0.0  0.979973\n27        27  0.042682  0.041901  0.0  1.008292\n19        19  0.042722  0.041684  0.0  0.900534\n16        16  0.042735  0.042360  0.0  1.006140\n24        24  0.042736  0.041807  0.0  0.845771\n22        22  0.042769  0.041982  0.0  0.993324\n28        28  0.042772  0.041754  0.0  1.031579\n30        30  0.042840  0.041982  0.0  0.946491\n29        29  0.042885  0.041946  0.0  0.879825\n23        23  0.042908  0.041839  0.0  1.005340",
      "text/html": "<div>\n<style scoped>\n    .dataframe tbody tr th:only-of-type {\n        vertical-align: middle;\n    }\n\n    .dataframe tbody tr th {\n        vertical-align: top;\n    }\n\n    .dataframe thead th {\n        text-align: right;\n    }\n</style>\n<table border=\"1\" class=\"dataframe\">\n  <thead>\n    <tr style=\"text-align: right;\">\n      <th></th>\n      <th>nth_pred</th>\n      <th>mean</th>\n      <th>std</th>\n      <th>min</th>\n      <th>max</th>\n    </tr>\n  </thead>\n  <tbody>\n    <tr>\n      <th>1</th>\n      <td>1</td>\n      <td>0.041676</td>\n      <td>0.041482</td>\n      <td>0.0</td>\n      <td>0.937250</td>\n    </tr>\n    <tr>\n      <th>0</th>\n      <td>0</td>\n      <td>0.041707</td>\n      <td>0.041186</td>\n      <td>0.0</td>\n      <td>1.021362</td>\n    </tr>\n    <tr>\n      <th>7</th>\n      <td>7</td>\n      <td>0.042073</td>\n      <td>0.041736</td>\n      <td>0.0</td>\n      <td>1.075439</td>\n    </tr>\n    <tr>\n      <th>5</th>\n      <td>5</td>\n      <td>0.042105</td>\n      <td>0.041824</td>\n      <td>0.0</td>\n      <td>0.957276</td>\n    </tr>\n    <tr>\n      <th>3</th>\n      <td>3</td>\n      <td>0.042124</td>\n      <td>0.041776</td>\n      <td>0.0</td>\n      <td>0.941228</td>\n    </tr>\n    <tr>\n      <th>4</th>\n      <td>4</td>\n      <td>0.042167</td>\n      <td>0.041865</td>\n      <td>0.0</td>\n      <td>1.078070</td>\n    </tr>\n    <tr>\n      <th>2</th>\n      <td>2</td>\n      <td>0.042167</td>\n      <td>0.041787</td>\n      <td>0.0</td>\n      <td>1.047368</td>\n    </tr>\n    <tr>\n      <th>15</th>\n      <td>15</td>\n      <td>0.042217</td>\n      <td>0.041313</td>\n      <td>0.0</td>\n      <td>0.925901</td>\n    </tr>\n    <tr>\n      <th>14</th>\n      <td>14</td>\n      <td>0.042229</td>\n      <td>0.041647</td>\n      <td>0.0</td>\n      <td>0.947368</td>\n    </tr>\n    <tr>\n      <th>6</th>\n      <td>6</td>\n      <td>0.042237</td>\n      <td>0.041956</td>\n      <td>0.0</td>\n      <td>1.106140</td>\n    </tr>\n    <tr>\n      <th>10</th>\n      <td>10</td>\n      <td>0.042245</td>\n      <td>0.041884</td>\n      <td>0.0</td>\n      <td>1.038596</td>\n    </tr>\n    <tr>\n      <th>20</th>\n      <td>20</td>\n      <td>0.042271</td>\n      <td>0.041606</td>\n      <td>0.0</td>\n      <td>0.977971</td>\n    </tr>\n    <tr>\n      <th>8</th>\n      <td>8</td>\n      <td>0.042345</td>\n      <td>0.041666</td>\n      <td>0.0</td>\n      <td>0.955263</td>\n    </tr>\n    <tr>\n      <th>11</th>\n      <td>11</td>\n      <td>0.042375</td>\n      <td>0.041999</td>\n      <td>0.0</td>\n      <td>1.090351</td>\n    </tr>\n    <tr>\n      <th>13</th>\n      <td>13</td>\n      <td>0.042407</td>\n      <td>0.041959</td>\n      <td>0.0</td>\n      <td>0.953939</td>\n    </tr>\n    <tr>\n      <th>12</th>\n      <td>12</td>\n      <td>0.042409</td>\n      <td>0.041800</td>\n      <td>0.0</td>\n      <td>0.996662</td>\n    </tr>\n    <tr>\n      <th>9</th>\n      <td>9</td>\n      <td>0.042438</td>\n      <td>0.041968</td>\n      <td>0.0</td>\n      <td>0.912281</td>\n    </tr>\n    <tr>\n      <th>17</th>\n      <td>17</td>\n      <td>0.042447</td>\n      <td>0.042010</td>\n      <td>0.0</td>\n      <td>0.958611</td>\n    </tr>\n    <tr>\n      <th>18</th>\n      <td>18</td>\n      <td>0.042494</td>\n      <td>0.041728</td>\n      <td>0.0</td>\n      <td>1.034713</td>\n    </tr>\n    <tr>\n      <th>25</th>\n      <td>25</td>\n      <td>0.042614</td>\n      <td>0.041693</td>\n      <td>0.0</td>\n      <td>0.869159</td>\n    </tr>\n    <tr>\n      <th>26</th>\n      <td>26</td>\n      <td>0.042614</td>\n      <td>0.041675</td>\n      <td>0.0</td>\n      <td>0.970175</td>\n    </tr>\n    <tr>\n      <th>21</th>\n      <td>21</td>\n      <td>0.042645</td>\n      <td>0.042005</td>\n      <td>0.0</td>\n      <td>0.979973</td>\n    </tr>\n    <tr>\n      <th>27</th>\n      <td>27</td>\n      <td>0.042682</td>\n      <td>0.041901</td>\n      <td>0.0</td>\n      <td>1.008292</td>\n    </tr>\n    <tr>\n      <th>19</th>\n      <td>19</td>\n      <td>0.042722</td>\n      <td>0.041684</td>\n      <td>0.0</td>\n      <td>0.900534</td>\n    </tr>\n    <tr>\n      <th>16</th>\n      <td>16</td>\n      <td>0.042735</td>\n      <td>0.042360</td>\n      <td>0.0</td>\n      <td>1.006140</td>\n    </tr>\n    <tr>\n      <th>24</th>\n      <td>24</td>\n      <td>0.042736</td>\n      <td>0.041807</td>\n      <td>0.0</td>\n      <td>0.845771</td>\n    </tr>\n    <tr>\n      <th>22</th>\n      <td>22</td>\n      <td>0.042769</td>\n      <td>0.041982</td>\n      <td>0.0</td>\n      <td>0.993324</td>\n    </tr>\n    <tr>\n      <th>28</th>\n      <td>28</td>\n      <td>0.042772</td>\n      <td>0.041754</td>\n      <td>0.0</td>\n      <td>1.031579</td>\n    </tr>\n    <tr>\n      <th>30</th>\n      <td>30</td>\n      <td>0.042840</td>\n      <td>0.041982</td>\n      <td>0.0</td>\n      <td>0.946491</td>\n    </tr>\n    <tr>\n      <th>29</th>\n      <td>29</td>\n      <td>0.042885</td>\n      <td>0.041946</td>\n      <td>0.0</td>\n      <td>0.879825</td>\n    </tr>\n    <tr>\n      <th>23</th>\n      <td>23</td>\n      <td>0.042908</td>\n      <td>0.041839</td>\n      <td>0.0</td>\n      <td>1.005340</td>\n    </tr>\n  </tbody>\n</table>\n</div>"
     },
     "execution_count": 21,
     "metadata": {},
     "output_type": "execute_result"
    }
   ],
   "source": [
    "%%time\n",
    "print('start')\n",
    "# All\n",
    "agged = data_v4[['ape', 'nth_pred']].groupby('nth_pred').agg(\n",
    "  mean=('ape', 'mean'),\n",
    "  std=('ape', 'std'),\n",
    "  min=('ape', 'min'),\n",
    "  max=('ape', 'max'),\n",
    ").reset_index()\n",
    "\n",
    "agged.sort_values('mean', ascending=True)\n",
    "\n"
   ],
   "metadata": {
    "collapsed": false,
    "pycharm": {
     "name": "#%%\n"
    }
   }
  },
  {
   "cell_type": "code",
   "execution_count": 22,
   "outputs": [
    {
     "name": "stdout",
     "output_type": "stream",
     "text": [
      "start\n",
      "CPU times: user 164 ms, sys: 0 ns, total: 164 ms\n",
      "Wall time: 162 ms\n"
     ]
    },
    {
     "data": {
      "text/plain": "    nth_pred      mean       std  min       max\n25        25  0.032097  0.027096  0.0  0.197877\n11        11  0.034078  0.029846  0.0  0.266265\n17        17  0.035276  0.031934  0.0  0.321505\n4          4  0.036368  0.030237  0.0  0.284865\n16        16  0.036560  0.035133  0.0  0.369103\n8          8  0.037403  0.038092  0.0  0.636932\n24        24  0.037727  0.032942  0.0  0.387198\n7          7  0.038116  0.035849  0.0  0.640327\n23        23  0.038433  0.035435  0.0  0.436349\n20        20  0.038438  0.044283  0.0  0.977971\n12        12  0.038857  0.036338  0.0  0.652174\n18        18  0.038885  0.037258  0.0  0.380658\n1          1  0.039118  0.033275  0.0  0.408163\n15        15  0.039342  0.039059  0.0  0.651421\n22        22  0.039482  0.040128  0.0  0.546778\n9          9  0.041915  0.040121  0.0  0.433618\n19        19  0.041933  0.036987  0.0  0.426960\n5          5  0.042191  0.037691  0.0  0.413580\n27        27  0.042773  0.041061  0.0  0.464667\n13        13  0.043533  0.038689  0.0  0.531972\n21        21  0.043789  0.044924  0.0  0.755515\n26        26  0.043950  0.040490  0.0  0.424105\n6          6  0.044968  0.041456  0.0  0.447240\n3          3  0.045110  0.042488  0.0  0.669504\n28        28  0.045256  0.052387  0.0  1.031579\n29        29  0.049337  0.045615  0.0  0.639082\n0          0  0.050257  0.048136  0.0  0.492284\n14        14  0.051277  0.064934  0.0  0.830846\n30        30  0.051614  0.048400  0.0  0.517934\n2          2  0.051971  0.044797  0.0  0.476620\n10        10  0.059782  0.057922  0.0  0.789017",
      "text/html": "<div>\n<style scoped>\n    .dataframe tbody tr th:only-of-type {\n        vertical-align: middle;\n    }\n\n    .dataframe tbody tr th {\n        vertical-align: top;\n    }\n\n    .dataframe thead th {\n        text-align: right;\n    }\n</style>\n<table border=\"1\" class=\"dataframe\">\n  <thead>\n    <tr style=\"text-align: right;\">\n      <th></th>\n      <th>nth_pred</th>\n      <th>mean</th>\n      <th>std</th>\n      <th>min</th>\n      <th>max</th>\n    </tr>\n  </thead>\n  <tbody>\n    <tr>\n      <th>25</th>\n      <td>25</td>\n      <td>0.032097</td>\n      <td>0.027096</td>\n      <td>0.0</td>\n      <td>0.197877</td>\n    </tr>\n    <tr>\n      <th>11</th>\n      <td>11</td>\n      <td>0.034078</td>\n      <td>0.029846</td>\n      <td>0.0</td>\n      <td>0.266265</td>\n    </tr>\n    <tr>\n      <th>17</th>\n      <td>17</td>\n      <td>0.035276</td>\n      <td>0.031934</td>\n      <td>0.0</td>\n      <td>0.321505</td>\n    </tr>\n    <tr>\n      <th>4</th>\n      <td>4</td>\n      <td>0.036368</td>\n      <td>0.030237</td>\n      <td>0.0</td>\n      <td>0.284865</td>\n    </tr>\n    <tr>\n      <th>16</th>\n      <td>16</td>\n      <td>0.036560</td>\n      <td>0.035133</td>\n      <td>0.0</td>\n      <td>0.369103</td>\n    </tr>\n    <tr>\n      <th>8</th>\n      <td>8</td>\n      <td>0.037403</td>\n      <td>0.038092</td>\n      <td>0.0</td>\n      <td>0.636932</td>\n    </tr>\n    <tr>\n      <th>24</th>\n      <td>24</td>\n      <td>0.037727</td>\n      <td>0.032942</td>\n      <td>0.0</td>\n      <td>0.387198</td>\n    </tr>\n    <tr>\n      <th>7</th>\n      <td>7</td>\n      <td>0.038116</td>\n      <td>0.035849</td>\n      <td>0.0</td>\n      <td>0.640327</td>\n    </tr>\n    <tr>\n      <th>23</th>\n      <td>23</td>\n      <td>0.038433</td>\n      <td>0.035435</td>\n      <td>0.0</td>\n      <td>0.436349</td>\n    </tr>\n    <tr>\n      <th>20</th>\n      <td>20</td>\n      <td>0.038438</td>\n      <td>0.044283</td>\n      <td>0.0</td>\n      <td>0.977971</td>\n    </tr>\n    <tr>\n      <th>12</th>\n      <td>12</td>\n      <td>0.038857</td>\n      <td>0.036338</td>\n      <td>0.0</td>\n      <td>0.652174</td>\n    </tr>\n    <tr>\n      <th>18</th>\n      <td>18</td>\n      <td>0.038885</td>\n      <td>0.037258</td>\n      <td>0.0</td>\n      <td>0.380658</td>\n    </tr>\n    <tr>\n      <th>1</th>\n      <td>1</td>\n      <td>0.039118</td>\n      <td>0.033275</td>\n      <td>0.0</td>\n      <td>0.408163</td>\n    </tr>\n    <tr>\n      <th>15</th>\n      <td>15</td>\n      <td>0.039342</td>\n      <td>0.039059</td>\n      <td>0.0</td>\n      <td>0.651421</td>\n    </tr>\n    <tr>\n      <th>22</th>\n      <td>22</td>\n      <td>0.039482</td>\n      <td>0.040128</td>\n      <td>0.0</td>\n      <td>0.546778</td>\n    </tr>\n    <tr>\n      <th>9</th>\n      <td>9</td>\n      <td>0.041915</td>\n      <td>0.040121</td>\n      <td>0.0</td>\n      <td>0.433618</td>\n    </tr>\n    <tr>\n      <th>19</th>\n      <td>19</td>\n      <td>0.041933</td>\n      <td>0.036987</td>\n      <td>0.0</td>\n      <td>0.426960</td>\n    </tr>\n    <tr>\n      <th>5</th>\n      <td>5</td>\n      <td>0.042191</td>\n      <td>0.037691</td>\n      <td>0.0</td>\n      <td>0.413580</td>\n    </tr>\n    <tr>\n      <th>27</th>\n      <td>27</td>\n      <td>0.042773</td>\n      <td>0.041061</td>\n      <td>0.0</td>\n      <td>0.464667</td>\n    </tr>\n    <tr>\n      <th>13</th>\n      <td>13</td>\n      <td>0.043533</td>\n      <td>0.038689</td>\n      <td>0.0</td>\n      <td>0.531972</td>\n    </tr>\n    <tr>\n      <th>21</th>\n      <td>21</td>\n      <td>0.043789</td>\n      <td>0.044924</td>\n      <td>0.0</td>\n      <td>0.755515</td>\n    </tr>\n    <tr>\n      <th>26</th>\n      <td>26</td>\n      <td>0.043950</td>\n      <td>0.040490</td>\n      <td>0.0</td>\n      <td>0.424105</td>\n    </tr>\n    <tr>\n      <th>6</th>\n      <td>6</td>\n      <td>0.044968</td>\n      <td>0.041456</td>\n      <td>0.0</td>\n      <td>0.447240</td>\n    </tr>\n    <tr>\n      <th>3</th>\n      <td>3</td>\n      <td>0.045110</td>\n      <td>0.042488</td>\n      <td>0.0</td>\n      <td>0.669504</td>\n    </tr>\n    <tr>\n      <th>28</th>\n      <td>28</td>\n      <td>0.045256</td>\n      <td>0.052387</td>\n      <td>0.0</td>\n      <td>1.031579</td>\n    </tr>\n    <tr>\n      <th>29</th>\n      <td>29</td>\n      <td>0.049337</td>\n      <td>0.045615</td>\n      <td>0.0</td>\n      <td>0.639082</td>\n    </tr>\n    <tr>\n      <th>0</th>\n      <td>0</td>\n      <td>0.050257</td>\n      <td>0.048136</td>\n      <td>0.0</td>\n      <td>0.492284</td>\n    </tr>\n    <tr>\n      <th>14</th>\n      <td>14</td>\n      <td>0.051277</td>\n      <td>0.064934</td>\n      <td>0.0</td>\n      <td>0.830846</td>\n    </tr>\n    <tr>\n      <th>30</th>\n      <td>30</td>\n      <td>0.051614</td>\n      <td>0.048400</td>\n      <td>0.0</td>\n      <td>0.517934</td>\n    </tr>\n    <tr>\n      <th>2</th>\n      <td>2</td>\n      <td>0.051971</td>\n      <td>0.044797</td>\n      <td>0.0</td>\n      <td>0.476620</td>\n    </tr>\n    <tr>\n      <th>10</th>\n      <td>10</td>\n      <td>0.059782</td>\n      <td>0.057922</td>\n      <td>0.0</td>\n      <td>0.789017</td>\n    </tr>\n  </tbody>\n</table>\n</div>"
     },
     "execution_count": 22,
     "metadata": {},
     "output_type": "execute_result"
    }
   ],
   "source": [
    "%%time\n",
    "print('start')\n",
    "# 1st date only\n",
    "mask = (data_v4['split_date'].dt.day == 1)\n",
    "agged = data_v4.loc[mask, ['ape', 'nth_pred']].groupby('nth_pred').agg(\n",
    "  mean=('ape', 'mean'),\n",
    "  std=('ape', 'std'),\n",
    "  min=('ape', 'min'),\n",
    "  max=('ape', 'max'),\n",
    ").reset_index()\n",
    "\n",
    "agged.sort_values('mean', ascending=True)\n"
   ],
   "metadata": {
    "collapsed": false,
    "pycharm": {
     "name": "#%%\n"
    }
   }
  },
  {
   "cell_type": "code",
   "execution_count": null,
   "outputs": [],
   "source": [
    "%%time\n",
    "print('start')\n",
    "\n",
    "edadata = pd.read_pickle(d.INTERIM_DATA+'/dataset_for_eda.pkl')\n",
    "edadata"
   ],
   "metadata": {
    "collapsed": false,
    "pycharm": {
     "name": "#%%\n"
    }
   }
  },
  {
   "cell_type": "code",
   "execution_count": null,
   "outputs": [],
   "source": [
    "%%time\n",
    "print('start')\n",
    "\n",
    "mask = (edadata['store_cd'] == 752)\n",
    "edadata[mask]"
   ],
   "metadata": {
    "collapsed": false,
    "pycharm": {
     "name": "#%%\n"
    }
   }
  }
 ],
 "metadata": {
  "kernelspec": {
   "display_name": "Python 3",
   "language": "python",
   "name": "python3"
  },
  "language_info": {
   "codemirror_mode": {
    "name": "ipython",
    "version": 2
   },
   "file_extension": ".py",
   "mimetype": "text/x-python",
   "name": "python",
   "nbconvert_exporter": "python",
   "pygments_lexer": "ipython2",
   "version": "2.7.6"
  }
 },
 "nbformat": 4,
 "nbformat_minor": 0
}