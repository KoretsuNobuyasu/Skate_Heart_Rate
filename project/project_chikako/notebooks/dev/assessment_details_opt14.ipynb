{
 "cells": [
  {
   "cell_type": "code",
   "execution_count": 2,
   "outputs": [
    {
     "data": {
      "text/plain": "<module 'defs' from '/home/jovyan/dev/projects/vinx/defs.py'>"
     },
     "execution_count": 2,
     "metadata": {},
     "output_type": "execute_result"
    }
   ],
   "source": [
    "import defs as d\n",
    "import joblib\n",
    "import pandas as pd\n",
    "import numpy as np\n",
    "import matplotlib.pyplot as plt\n",
    "d"
   ],
   "metadata": {
    "collapsed": false,
    "pycharm": {
     "name": "#%%\n"
    }
   }
  },
  {
   "cell_type": "code",
   "execution_count": 3,
   "outputs": [
    {
     "name": "stdout",
     "output_type": "stream",
     "text": [
      "start\n",
      "CPU times: user 0 ns, sys: 156 µs, total: 156 µs\n",
      "Wall time: 219 µs\n"
     ]
    }
   ],
   "source": [
    "%%time\n",
    "print('start')\n",
    "def _mape(y, y_hat):\n",
    "  return np.mean(np.abs((y - y_hat)) / np.abs(y))\n",
    "\n",
    "def ape(y, y_hat):\n",
    "  return np.abs((y - y_hat)) / np.abs(y)"
   ],
   "metadata": {
    "collapsed": false,
    "pycharm": {
     "name": "#%%\n"
    }
   }
  },
  {
   "cell_type": "code",
   "execution_count": 4,
   "outputs": [
    {
     "name": "stdout",
     "output_type": "stream",
     "text": [
      "start\n",
      "CPU times: user 2.48 s, sys: 8.8 s, total: 11.3 s\n",
      "Wall time: 13.2 s\n"
     ]
    },
    {
     "data": {
      "text/plain": "         store_cd       date  customer_count    pred split_date  nth_pred  \\\n0             113 2019-01-01            1247  1980.0 2019-01-01         0   \n1             113 2019-01-02            1551  1908.0 2019-01-01         1   \n2             113 2019-01-02            1551  1882.0 2019-01-02         0   \n3             113 2019-01-03            1703  1913.0 2019-01-01         2   \n4             113 2019-01-03            1703  1835.0 2019-01-02         1   \n...           ...        ...             ...     ...        ...       ...   \n2067571       876 2020-01-30            2892  2783.0 2019-12-31        30   \n2067572       877 2020-01-30            3962  3986.0 2019-12-31        30   \n2067573       878 2020-01-30            2501  2630.0 2019-12-31        30   \n2067574       879 2020-01-30            4177  4163.0 2019-12-31        30   \n2067575       880 2020-01-30            3558  3687.0 2019-12-31        30   \n\n              ape  open_day_count  \n0        0.587811             704  \n1        0.230174             705  \n2        0.213411             705  \n3        0.123312             706  \n4        0.077510             706  \n...           ...             ...  \n2067571  0.037690             309  \n2067572  0.006058             280  \n2067573  0.051579             224  \n2067574  0.003352             140  \n2067575  0.036256              58  \n\n[2067576 rows x 8 columns]",
      "text/html": "<div>\n<style scoped>\n    .dataframe tbody tr th:only-of-type {\n        vertical-align: middle;\n    }\n\n    .dataframe tbody tr th {\n        vertical-align: top;\n    }\n\n    .dataframe thead th {\n        text-align: right;\n    }\n</style>\n<table border=\"1\" class=\"dataframe\">\n  <thead>\n    <tr style=\"text-align: right;\">\n      <th></th>\n      <th>store_cd</th>\n      <th>date</th>\n      <th>customer_count</th>\n      <th>pred</th>\n      <th>split_date</th>\n      <th>nth_pred</th>\n      <th>ape</th>\n      <th>open_day_count</th>\n    </tr>\n  </thead>\n  <tbody>\n    <tr>\n      <th>0</th>\n      <td>113</td>\n      <td>2019-01-01</td>\n      <td>1247</td>\n      <td>1980.0</td>\n      <td>2019-01-01</td>\n      <td>0</td>\n      <td>0.587811</td>\n      <td>704</td>\n    </tr>\n    <tr>\n      <th>1</th>\n      <td>113</td>\n      <td>2019-01-02</td>\n      <td>1551</td>\n      <td>1908.0</td>\n      <td>2019-01-01</td>\n      <td>1</td>\n      <td>0.230174</td>\n      <td>705</td>\n    </tr>\n    <tr>\n      <th>2</th>\n      <td>113</td>\n      <td>2019-01-02</td>\n      <td>1551</td>\n      <td>1882.0</td>\n      <td>2019-01-02</td>\n      <td>0</td>\n      <td>0.213411</td>\n      <td>705</td>\n    </tr>\n    <tr>\n      <th>3</th>\n      <td>113</td>\n      <td>2019-01-03</td>\n      <td>1703</td>\n      <td>1913.0</td>\n      <td>2019-01-01</td>\n      <td>2</td>\n      <td>0.123312</td>\n      <td>706</td>\n    </tr>\n    <tr>\n      <th>4</th>\n      <td>113</td>\n      <td>2019-01-03</td>\n      <td>1703</td>\n      <td>1835.0</td>\n      <td>2019-01-02</td>\n      <td>1</td>\n      <td>0.077510</td>\n      <td>706</td>\n    </tr>\n    <tr>\n      <th>...</th>\n      <td>...</td>\n      <td>...</td>\n      <td>...</td>\n      <td>...</td>\n      <td>...</td>\n      <td>...</td>\n      <td>...</td>\n      <td>...</td>\n    </tr>\n    <tr>\n      <th>2067571</th>\n      <td>876</td>\n      <td>2020-01-30</td>\n      <td>2892</td>\n      <td>2783.0</td>\n      <td>2019-12-31</td>\n      <td>30</td>\n      <td>0.037690</td>\n      <td>309</td>\n    </tr>\n    <tr>\n      <th>2067572</th>\n      <td>877</td>\n      <td>2020-01-30</td>\n      <td>3962</td>\n      <td>3986.0</td>\n      <td>2019-12-31</td>\n      <td>30</td>\n      <td>0.006058</td>\n      <td>280</td>\n    </tr>\n    <tr>\n      <th>2067573</th>\n      <td>878</td>\n      <td>2020-01-30</td>\n      <td>2501</td>\n      <td>2630.0</td>\n      <td>2019-12-31</td>\n      <td>30</td>\n      <td>0.051579</td>\n      <td>224</td>\n    </tr>\n    <tr>\n      <th>2067574</th>\n      <td>879</td>\n      <td>2020-01-30</td>\n      <td>4177</td>\n      <td>4163.0</td>\n      <td>2019-12-31</td>\n      <td>30</td>\n      <td>0.003352</td>\n      <td>140</td>\n    </tr>\n    <tr>\n      <th>2067575</th>\n      <td>880</td>\n      <td>2020-01-30</td>\n      <td>3558</td>\n      <td>3687.0</td>\n      <td>2019-12-31</td>\n      <td>30</td>\n      <td>0.036256</td>\n      <td>58</td>\n    </tr>\n  </tbody>\n</table>\n<p>2067576 rows × 8 columns</p>\n</div>"
     },
     "execution_count": 4,
     "metadata": {},
     "output_type": "execute_result"
    }
   ],
   "source": [
    "%%time\n",
    "print('start')\n",
    "\n",
    "data = pd.concat(joblib.load(d.DS_DL_PATH+'/val12_opt14/azureml/f3350abb-a645-4697-8c31-899aed3499f8/assessment_data_val12_opt14'), axis=0)\n",
    "merged_data = joblib.load(d.DS_DL_PATH+'/val12_opt7/azureml/d88ab129-e091-43d6-80e9-05b913a9c4ef/merged_data')[['store_cd', 'date', 'open_day_count']]\n",
    "data['ape'] = ape(data['customer_count'], data['pred'])\n",
    "mask = (data['nth_pred'] <= 30)\n",
    "data = data[mask].copy()\n",
    "data = pd.merge(data, merged_data, on=['store_cd', 'date'], how='inner')\n",
    "\n",
    "data"
   ],
   "metadata": {
    "collapsed": false,
    "pycharm": {
     "name": "#%%\n"
    }
   }
  },
  {
   "cell_type": "code",
   "execution_count": 5,
   "outputs": [
    {
     "name": "stdout",
     "output_type": "stream",
     "text": [
      "start\n",
      "Mean:  0.06084623185812288\n",
      "Std: 2.8817989834349405\n",
      "Min: 0.0\n",
      "Max: 828.5\n",
      "CPU times: user 60.4 ms, sys: 1.79 ms, total: 62.2 ms\n",
      "Wall time: 56.9 ms\n"
     ]
    }
   ],
   "source": [
    "%%time\n",
    "# All\n",
    "print('start')\n",
    "ape_data = data['ape']\n",
    "print('Mean: ', ape_data.mean())\n",
    "print('Std:', ape_data.std())\n",
    "print('Min:', ape_data.min())\n",
    "print('Max:', ape_data.max())\n"
   ],
   "metadata": {
    "collapsed": false,
    "pycharm": {
     "name": "#%%\n"
    }
   }
  },
  {
   "cell_type": "code",
   "execution_count": 6,
   "outputs": [
    {
     "name": "stdout",
     "output_type": "stream",
     "text": [
      "start\n",
      "Mean:  0.06050464168114691\n",
      "Std: 2.768790310444146\n",
      "Min: 0.0\n",
      "Max: 704.5\n",
      "CPU times: user 17.4 ms, sys: 12.6 ms, total: 29.9 ms\n",
      "Wall time: 27.5 ms\n"
     ]
    }
   ],
   "source": [
    "%%time\n",
    "print('start')\n",
    "# Diagonal\n",
    "mask = (data['nth_pred'] == 0)\n",
    "ape_data = data.loc[mask, 'ape']\n",
    "print('Mean: ', ape_data.mean())\n",
    "print('Std:', ape_data.std())\n",
    "print('Min:', ape_data.min())\n",
    "print('Max:', ape_data.max())"
   ],
   "metadata": {
    "collapsed": false,
    "pycharm": {
     "name": "#%%\n"
    }
   }
  },
  {
   "cell_type": "code",
   "execution_count": 7,
   "outputs": [
    {
     "name": "stdout",
     "output_type": "stream",
     "text": [
      "start\n",
      "Mean:  0.06083978252627051\n",
      "Std: 2.9391410340932818\n",
      "Min: 0.0\n",
      "Max: 756.25\n",
      "CPU times: user 184 ms, sys: 2.24 ms, total: 187 ms\n",
      "Wall time: 183 ms\n"
     ]
    }
   ],
   "source": [
    "%%time\n",
    "print('start')\n",
    "# 1st date only\n",
    "mask = (data['split_date'].dt.day == 1)\n",
    "ape_data = data.loc[mask, 'ape']\n",
    "print('Mean: ', ape_data.mean())\n",
    "print('Std:', ape_data.std())\n",
    "print('Min:', ape_data.min())\n",
    "print('Max:', ape_data.max())"
   ],
   "metadata": {
    "collapsed": false,
    "pycharm": {
     "name": "#%%\n"
    }
   }
  },
  {
   "cell_type": "code",
   "execution_count": 8,
   "outputs": [
    {
     "name": "stdout",
     "output_type": "stream",
     "text": [
      "start\n",
      "CPU times: user 105 ms, sys: 31.3 ms, total: 136 ms\n",
      "Wall time: 134 ms\n"
     ]
    },
    {
     "data": {
      "text/plain": "         store_cd       date  customer_count    pred split_date  nth_pred  \\\n0             113 2019-01-01            1247  1980.0 2019-01-01         0   \n1             113 2019-01-02            1551  1908.0 2019-01-01         1   \n2             113 2019-01-02            1551  1882.0 2019-01-02         0   \n3             113 2019-01-03            1703  1913.0 2019-01-01         2   \n4             113 2019-01-03            1703  1835.0 2019-01-02         1   \n...           ...        ...             ...     ...        ...       ...   \n2067571       876 2020-01-30            2892  2783.0 2019-12-31        30   \n2067572       877 2020-01-30            3962  3986.0 2019-12-31        30   \n2067573       878 2020-01-30            2501  2630.0 2019-12-31        30   \n2067574       879 2020-01-30            4177  4163.0 2019-12-31        30   \n2067575       880 2020-01-30            3558  3687.0 2019-12-31        30   \n\n              ape  open_day_count  \n0        0.587811             704  \n1        0.230174             705  \n2        0.213411             705  \n3        0.123312             706  \n4        0.077510             706  \n...           ...             ...  \n2067571  0.037690             309  \n2067572  0.006058             280  \n2067573  0.051579             224  \n2067574  0.003352             140  \n2067575  0.036256              58  \n\n[2049829 rows x 8 columns]",
      "text/html": "<div>\n<style scoped>\n    .dataframe tbody tr th:only-of-type {\n        vertical-align: middle;\n    }\n\n    .dataframe tbody tr th {\n        vertical-align: top;\n    }\n\n    .dataframe thead th {\n        text-align: right;\n    }\n</style>\n<table border=\"1\" class=\"dataframe\">\n  <thead>\n    <tr style=\"text-align: right;\">\n      <th></th>\n      <th>store_cd</th>\n      <th>date</th>\n      <th>customer_count</th>\n      <th>pred</th>\n      <th>split_date</th>\n      <th>nth_pred</th>\n      <th>ape</th>\n      <th>open_day_count</th>\n    </tr>\n  </thead>\n  <tbody>\n    <tr>\n      <th>0</th>\n      <td>113</td>\n      <td>2019-01-01</td>\n      <td>1247</td>\n      <td>1980.0</td>\n      <td>2019-01-01</td>\n      <td>0</td>\n      <td>0.587811</td>\n      <td>704</td>\n    </tr>\n    <tr>\n      <th>1</th>\n      <td>113</td>\n      <td>2019-01-02</td>\n      <td>1551</td>\n      <td>1908.0</td>\n      <td>2019-01-01</td>\n      <td>1</td>\n      <td>0.230174</td>\n      <td>705</td>\n    </tr>\n    <tr>\n      <th>2</th>\n      <td>113</td>\n      <td>2019-01-02</td>\n      <td>1551</td>\n      <td>1882.0</td>\n      <td>2019-01-02</td>\n      <td>0</td>\n      <td>0.213411</td>\n      <td>705</td>\n    </tr>\n    <tr>\n      <th>3</th>\n      <td>113</td>\n      <td>2019-01-03</td>\n      <td>1703</td>\n      <td>1913.0</td>\n      <td>2019-01-01</td>\n      <td>2</td>\n      <td>0.123312</td>\n      <td>706</td>\n    </tr>\n    <tr>\n      <th>4</th>\n      <td>113</td>\n      <td>2019-01-03</td>\n      <td>1703</td>\n      <td>1835.0</td>\n      <td>2019-01-02</td>\n      <td>1</td>\n      <td>0.077510</td>\n      <td>706</td>\n    </tr>\n    <tr>\n      <th>...</th>\n      <td>...</td>\n      <td>...</td>\n      <td>...</td>\n      <td>...</td>\n      <td>...</td>\n      <td>...</td>\n      <td>...</td>\n      <td>...</td>\n    </tr>\n    <tr>\n      <th>2067571</th>\n      <td>876</td>\n      <td>2020-01-30</td>\n      <td>2892</td>\n      <td>2783.0</td>\n      <td>2019-12-31</td>\n      <td>30</td>\n      <td>0.037690</td>\n      <td>309</td>\n    </tr>\n    <tr>\n      <th>2067572</th>\n      <td>877</td>\n      <td>2020-01-30</td>\n      <td>3962</td>\n      <td>3986.0</td>\n      <td>2019-12-31</td>\n      <td>30</td>\n      <td>0.006058</td>\n      <td>280</td>\n    </tr>\n    <tr>\n      <th>2067573</th>\n      <td>878</td>\n      <td>2020-01-30</td>\n      <td>2501</td>\n      <td>2630.0</td>\n      <td>2019-12-31</td>\n      <td>30</td>\n      <td>0.051579</td>\n      <td>224</td>\n    </tr>\n    <tr>\n      <th>2067574</th>\n      <td>879</td>\n      <td>2020-01-30</td>\n      <td>4177</td>\n      <td>4163.0</td>\n      <td>2019-12-31</td>\n      <td>30</td>\n      <td>0.003352</td>\n      <td>140</td>\n    </tr>\n    <tr>\n      <th>2067575</th>\n      <td>880</td>\n      <td>2020-01-30</td>\n      <td>3558</td>\n      <td>3687.0</td>\n      <td>2019-12-31</td>\n      <td>30</td>\n      <td>0.036256</td>\n      <td>58</td>\n    </tr>\n  </tbody>\n</table>\n<p>2049829 rows × 8 columns</p>\n</div>"
     },
     "execution_count": 8,
     "metadata": {},
     "output_type": "execute_result"
    }
   ],
   "source": [
    "%%time\n",
    "print('start')\n",
    "mask = (data['open_day_count'] >= 30)\n",
    "data_v2 = data[mask].copy()\n",
    "data_v2"
   ],
   "metadata": {
    "collapsed": false,
    "pycharm": {
     "name": "#%%\n"
    }
   }
  },
  {
   "cell_type": "code",
   "execution_count": 9,
   "outputs": [
    {
     "name": "stdout",
     "output_type": "stream",
     "text": [
      "start\n",
      "Mean:  0.0494676060738279\n",
      "Std: 0.4535926238254994\n",
      "Min: 0.0\n",
      "Max: 77.0\n",
      "CPU times: user 58 ms, sys: 2.86 ms, total: 60.8 ms\n",
      "Wall time: 58.8 ms\n"
     ]
    }
   ],
   "source": [
    "%%time\n",
    "print('start')\n",
    "# All\n",
    "ape_data = data_v2['ape']\n",
    "print('Mean: ', ape_data.mean())\n",
    "print('Std:', ape_data.std())\n",
    "print('Min:', ape_data.min())\n",
    "print('Max:', ape_data.max())"
   ],
   "metadata": {
    "collapsed": false,
    "pycharm": {
     "name": "#%%\n"
    }
   }
  },
  {
   "cell_type": "code",
   "execution_count": 10,
   "outputs": [
    {
     "name": "stdout",
     "output_type": "stream",
     "text": [
      "start\n",
      "Mean:  0.04950407932475643\n",
      "Std: 0.4420038819675732\n",
      "Min: 0.0\n",
      "Max: 71.36363636363636\n",
      "CPU times: user 20 ms, sys: 2.32 ms, total: 22.3 ms\n",
      "Wall time: 21.2 ms\n"
     ]
    }
   ],
   "source": [
    "%%time\n",
    "print('start')\n",
    "# Diagonal\n",
    "mask = (data_v2['nth_pred'] == 0)\n",
    "ape_data = data_v2.loc[mask, 'ape']\n",
    "print('Mean: ', ape_data.mean())\n",
    "print('Std:', ape_data.std())\n",
    "print('Min:', ape_data.min())\n",
    "print('Max:', ape_data.max())"
   ],
   "metadata": {
    "collapsed": false,
    "pycharm": {
     "name": "#%%\n"
    }
   }
  },
  {
   "cell_type": "code",
   "execution_count": 11,
   "outputs": [
    {
     "name": "stdout",
     "output_type": "stream",
     "text": [
      "start\n",
      "Mean:  0.04927179635866914\n",
      "Std: 0.43344723301043503\n",
      "Min: 0.0\n",
      "Max: 67.51515151515152\n",
      "CPU times: user 327 ms, sys: 1.3 ms, total: 328 ms\n",
      "Wall time: 327 ms\n"
     ]
    }
   ],
   "source": [
    "%%time\n",
    "print('start')\n",
    "# 1st date only\n",
    "mask = (data['split_date'].dt.day == 1)\n",
    "ape_data =  data_v2.loc[mask, 'ape']\n",
    "print('Mean: ', ape_data.mean())\n",
    "print('Std:', ape_data.std())\n",
    "print('Min:', ape_data.min())\n",
    "print('Max:', ape_data.max())\n"
   ],
   "metadata": {
    "collapsed": false,
    "pycharm": {
     "name": "#%%\n"
    }
   }
  },
  {
   "cell_type": "code",
   "execution_count": 12,
   "outputs": [
    {
     "name": "stdout",
     "output_type": "stream",
     "text": [
      "start\n",
      "CPU times: user 80.1 ms, sys: 20.8 ms, total: 101 ms\n",
      "Wall time: 98.2 ms\n"
     ]
    },
    {
     "data": {
      "text/plain": "         store_cd       date  customer_count    pred split_date  nth_pred  \\\n0             113 2019-01-01            1247  1980.0 2019-01-01         0   \n1             113 2019-01-02            1551  1908.0 2019-01-01         1   \n2             113 2019-01-02            1551  1882.0 2019-01-02         0   \n3             113 2019-01-03            1703  1913.0 2019-01-01         2   \n4             113 2019-01-03            1703  1835.0 2019-01-02         1   \n...           ...        ...             ...     ...        ...       ...   \n2067571       876 2020-01-30            2892  2783.0 2019-12-31        30   \n2067572       877 2020-01-30            3962  3986.0 2019-12-31        30   \n2067573       878 2020-01-30            2501  2630.0 2019-12-31        30   \n2067574       879 2020-01-30            4177  4163.0 2019-12-31        30   \n2067575       880 2020-01-30            3558  3687.0 2019-12-31        30   \n\n              ape  open_day_count  \n0        0.587811             704  \n1        0.230174             705  \n2        0.213411             705  \n3        0.123312             706  \n4        0.077510             706  \n...           ...             ...  \n2067571  0.037690             309  \n2067572  0.006058             280  \n2067573  0.051579             224  \n2067574  0.003352             140  \n2067575  0.036256              58  \n\n[1998245 rows x 8 columns]",
      "text/html": "<div>\n<style scoped>\n    .dataframe tbody tr th:only-of-type {\n        vertical-align: middle;\n    }\n\n    .dataframe tbody tr th {\n        vertical-align: top;\n    }\n\n    .dataframe thead th {\n        text-align: right;\n    }\n</style>\n<table border=\"1\" class=\"dataframe\">\n  <thead>\n    <tr style=\"text-align: right;\">\n      <th></th>\n      <th>store_cd</th>\n      <th>date</th>\n      <th>customer_count</th>\n      <th>pred</th>\n      <th>split_date</th>\n      <th>nth_pred</th>\n      <th>ape</th>\n      <th>open_day_count</th>\n    </tr>\n  </thead>\n  <tbody>\n    <tr>\n      <th>0</th>\n      <td>113</td>\n      <td>2019-01-01</td>\n      <td>1247</td>\n      <td>1980.0</td>\n      <td>2019-01-01</td>\n      <td>0</td>\n      <td>0.587811</td>\n      <td>704</td>\n    </tr>\n    <tr>\n      <th>1</th>\n      <td>113</td>\n      <td>2019-01-02</td>\n      <td>1551</td>\n      <td>1908.0</td>\n      <td>2019-01-01</td>\n      <td>1</td>\n      <td>0.230174</td>\n      <td>705</td>\n    </tr>\n    <tr>\n      <th>2</th>\n      <td>113</td>\n      <td>2019-01-02</td>\n      <td>1551</td>\n      <td>1882.0</td>\n      <td>2019-01-02</td>\n      <td>0</td>\n      <td>0.213411</td>\n      <td>705</td>\n    </tr>\n    <tr>\n      <th>3</th>\n      <td>113</td>\n      <td>2019-01-03</td>\n      <td>1703</td>\n      <td>1913.0</td>\n      <td>2019-01-01</td>\n      <td>2</td>\n      <td>0.123312</td>\n      <td>706</td>\n    </tr>\n    <tr>\n      <th>4</th>\n      <td>113</td>\n      <td>2019-01-03</td>\n      <td>1703</td>\n      <td>1835.0</td>\n      <td>2019-01-02</td>\n      <td>1</td>\n      <td>0.077510</td>\n      <td>706</td>\n    </tr>\n    <tr>\n      <th>...</th>\n      <td>...</td>\n      <td>...</td>\n      <td>...</td>\n      <td>...</td>\n      <td>...</td>\n      <td>...</td>\n      <td>...</td>\n      <td>...</td>\n    </tr>\n    <tr>\n      <th>2067571</th>\n      <td>876</td>\n      <td>2020-01-30</td>\n      <td>2892</td>\n      <td>2783.0</td>\n      <td>2019-12-31</td>\n      <td>30</td>\n      <td>0.037690</td>\n      <td>309</td>\n    </tr>\n    <tr>\n      <th>2067572</th>\n      <td>877</td>\n      <td>2020-01-30</td>\n      <td>3962</td>\n      <td>3986.0</td>\n      <td>2019-12-31</td>\n      <td>30</td>\n      <td>0.006058</td>\n      <td>280</td>\n    </tr>\n    <tr>\n      <th>2067573</th>\n      <td>878</td>\n      <td>2020-01-30</td>\n      <td>2501</td>\n      <td>2630.0</td>\n      <td>2019-12-31</td>\n      <td>30</td>\n      <td>0.051579</td>\n      <td>224</td>\n    </tr>\n    <tr>\n      <th>2067574</th>\n      <td>879</td>\n      <td>2020-01-30</td>\n      <td>4177</td>\n      <td>4163.0</td>\n      <td>2019-12-31</td>\n      <td>30</td>\n      <td>0.003352</td>\n      <td>140</td>\n    </tr>\n    <tr>\n      <th>2067575</th>\n      <td>880</td>\n      <td>2020-01-30</td>\n      <td>3558</td>\n      <td>3687.0</td>\n      <td>2019-12-31</td>\n      <td>30</td>\n      <td>0.036256</td>\n      <td>58</td>\n    </tr>\n  </tbody>\n</table>\n<p>1998245 rows × 8 columns</p>\n</div>"
     },
     "execution_count": 12,
     "metadata": {},
     "output_type": "execute_result"
    }
   ],
   "source": [
    "%%time\n",
    "print('start')\n",
    "taifu_list = [\n",
    "  '2019-07-18',\n",
    "  '2019-07-19',\n",
    "  '2019-08-12',\n",
    "  '2019-08-27',\n",
    "  '2019-08-28',\n",
    "  '2019-08-29',\n",
    "  '2019-10-12',\n",
    "  '2019-10-13',\n",
    "  '2019-10-14',\n",
    "]\n",
    "\n",
    "mask = ~(data_v2['date'].isin(taifu_list))\n",
    "data_v3 = data_v2[mask].copy()\n",
    "data_v3"
   ],
   "metadata": {
    "collapsed": false,
    "pycharm": {
     "name": "#%%\n"
    }
   }
  },
  {
   "cell_type": "code",
   "execution_count": 13,
   "outputs": [
    {
     "name": "stdout",
     "output_type": "stream",
     "text": [
      "start\n",
      "Mean:  0.04288034711322732\n",
      "Std: 0.04353603800922036\n",
      "Min: 0.0\n",
      "Max: 3.05609756097561\n",
      "CPU times: user 60.1 ms, sys: 2.33 ms, total: 62.4 ms\n",
      "Wall time: 56.6 ms\n"
     ]
    }
   ],
   "source": [
    "%%time\n",
    "print('start')\n",
    "# All\n",
    "ape_data = data_v3['ape']\n",
    "print('Mean: ', ape_data.mean())\n",
    "print('Std:', ape_data.std())\n",
    "print('Min:', ape_data.min())\n",
    "print('Max:', ape_data.max())\n"
   ],
   "metadata": {
    "collapsed": false,
    "pycharm": {
     "name": "#%%\n"
    }
   }
  },
  {
   "cell_type": "code",
   "execution_count": 14,
   "outputs": [
    {
     "name": "stdout",
     "output_type": "stream",
     "text": [
      "start\n",
      "Mean:  0.042319117875313575\n",
      "Std: 0.04557770282659779\n",
      "Min: 0.0\n",
      "Max: 3.05609756097561\n",
      "CPU times: user 21.3 ms, sys: 7.2 ms, total: 28.5 ms\n",
      "Wall time: 24.1 ms\n"
     ]
    }
   ],
   "source": [
    "%%time\n",
    "print('start')\n",
    "# Diagonal\n",
    "mask = (data_v3['nth_pred'] == 0)\n",
    "ape_data = data_v3.loc[mask, 'ape']\n",
    "print('Mean: ', ape_data.mean())\n",
    "print('Std:', ape_data.std())\n",
    "print('Min:', ape_data.min())\n",
    "print('Max:', ape_data.max())"
   ],
   "metadata": {
    "collapsed": false,
    "pycharm": {
     "name": "#%%\n"
    }
   }
  },
  {
   "cell_type": "code",
   "execution_count": 15,
   "outputs": [
    {
     "name": "stdout",
     "output_type": "stream",
     "text": [
      "start\n",
      "Mean:  0.04288941636579537\n",
      "Std: 0.046302587290566015\n",
      "Min: 0.0\n",
      "Max: 3.05609756097561\n",
      "CPU times: user 161 ms, sys: 0 ns, total: 161 ms\n",
      "Wall time: 155 ms\n"
     ]
    }
   ],
   "source": [
    "%%time\n",
    "print('start')\n",
    "# 1st date only\n",
    "mask = (data_v3['split_date'].dt.day == 1)\n",
    "ape_data = data_v3.loc[mask, 'ape']\n",
    "print('Mean: ', ape_data.mean())\n",
    "print('Std:', ape_data.std())\n",
    "print('Min:', ape_data.min())\n",
    "print('Max:', ape_data.max())"
   ],
   "metadata": {
    "collapsed": false,
    "pycharm": {
     "name": "#%%\n"
    }
   }
  },
  {
   "cell_type": "code",
   "execution_count": 16,
   "outputs": [
    {
     "name": "stdout",
     "output_type": "stream",
     "text": [
      "start\n",
      "CPU times: user 81.8 ms, sys: 13.6 ms, total: 95.4 ms\n",
      "Wall time: 91 ms\n"
     ]
    },
    {
     "data": {
      "text/plain": "         store_cd       date  customer_count    pred split_date  nth_pred  \\\n6             113 2019-01-04            2085  2204.0 2019-01-01         3   \n7             113 2019-01-04            2085  1985.0 2019-01-02         2   \n8             113 2019-01-04            2085  2096.0 2019-01-03         1   \n9             113 2019-01-04            2085  2003.0 2019-01-04         0   \n10            113 2019-01-05            2010  1979.0 2019-01-01         4   \n...           ...        ...             ...     ...        ...       ...   \n2067571       876 2020-01-30            2892  2783.0 2019-12-31        30   \n2067572       877 2020-01-30            3962  3986.0 2019-12-31        30   \n2067573       878 2020-01-30            2501  2630.0 2019-12-31        30   \n2067574       879 2020-01-30            4177  4163.0 2019-12-31        30   \n2067575       880 2020-01-30            3558  3687.0 2019-12-31        30   \n\n              ape  open_day_count  \n6        0.057074             707  \n7        0.047962             707  \n8        0.005276             707  \n9        0.039329             707  \n10       0.015423             708  \n...           ...             ...  \n2067571  0.037690             309  \n2067572  0.006058             280  \n2067573  0.051579             224  \n2067574  0.003352             140  \n2067575  0.036256              58  \n\n[1957940 rows x 8 columns]",
      "text/html": "<div>\n<style scoped>\n    .dataframe tbody tr th:only-of-type {\n        vertical-align: middle;\n    }\n\n    .dataframe tbody tr th {\n        vertical-align: top;\n    }\n\n    .dataframe thead th {\n        text-align: right;\n    }\n</style>\n<table border=\"1\" class=\"dataframe\">\n  <thead>\n    <tr style=\"text-align: right;\">\n      <th></th>\n      <th>store_cd</th>\n      <th>date</th>\n      <th>customer_count</th>\n      <th>pred</th>\n      <th>split_date</th>\n      <th>nth_pred</th>\n      <th>ape</th>\n      <th>open_day_count</th>\n    </tr>\n  </thead>\n  <tbody>\n    <tr>\n      <th>6</th>\n      <td>113</td>\n      <td>2019-01-04</td>\n      <td>2085</td>\n      <td>2204.0</td>\n      <td>2019-01-01</td>\n      <td>3</td>\n      <td>0.057074</td>\n      <td>707</td>\n    </tr>\n    <tr>\n      <th>7</th>\n      <td>113</td>\n      <td>2019-01-04</td>\n      <td>2085</td>\n      <td>1985.0</td>\n      <td>2019-01-02</td>\n      <td>2</td>\n      <td>0.047962</td>\n      <td>707</td>\n    </tr>\n    <tr>\n      <th>8</th>\n      <td>113</td>\n      <td>2019-01-04</td>\n      <td>2085</td>\n      <td>2096.0</td>\n      <td>2019-01-03</td>\n      <td>1</td>\n      <td>0.005276</td>\n      <td>707</td>\n    </tr>\n    <tr>\n      <th>9</th>\n      <td>113</td>\n      <td>2019-01-04</td>\n      <td>2085</td>\n      <td>2003.0</td>\n      <td>2019-01-04</td>\n      <td>0</td>\n      <td>0.039329</td>\n      <td>707</td>\n    </tr>\n    <tr>\n      <th>10</th>\n      <td>113</td>\n      <td>2019-01-05</td>\n      <td>2010</td>\n      <td>1979.0</td>\n      <td>2019-01-01</td>\n      <td>4</td>\n      <td>0.015423</td>\n      <td>708</td>\n    </tr>\n    <tr>\n      <th>...</th>\n      <td>...</td>\n      <td>...</td>\n      <td>...</td>\n      <td>...</td>\n      <td>...</td>\n      <td>...</td>\n      <td>...</td>\n      <td>...</td>\n    </tr>\n    <tr>\n      <th>2067571</th>\n      <td>876</td>\n      <td>2020-01-30</td>\n      <td>2892</td>\n      <td>2783.0</td>\n      <td>2019-12-31</td>\n      <td>30</td>\n      <td>0.037690</td>\n      <td>309</td>\n    </tr>\n    <tr>\n      <th>2067572</th>\n      <td>877</td>\n      <td>2020-01-30</td>\n      <td>3962</td>\n      <td>3986.0</td>\n      <td>2019-12-31</td>\n      <td>30</td>\n      <td>0.006058</td>\n      <td>280</td>\n    </tr>\n    <tr>\n      <th>2067573</th>\n      <td>878</td>\n      <td>2020-01-30</td>\n      <td>2501</td>\n      <td>2630.0</td>\n      <td>2019-12-31</td>\n      <td>30</td>\n      <td>0.051579</td>\n      <td>224</td>\n    </tr>\n    <tr>\n      <th>2067574</th>\n      <td>879</td>\n      <td>2020-01-30</td>\n      <td>4177</td>\n      <td>4163.0</td>\n      <td>2019-12-31</td>\n      <td>30</td>\n      <td>0.003352</td>\n      <td>140</td>\n    </tr>\n    <tr>\n      <th>2067575</th>\n      <td>880</td>\n      <td>2020-01-30</td>\n      <td>3558</td>\n      <td>3687.0</td>\n      <td>2019-12-31</td>\n      <td>30</td>\n      <td>0.036256</td>\n      <td>58</td>\n    </tr>\n  </tbody>\n</table>\n<p>1957940 rows × 8 columns</p>\n</div>"
     },
     "execution_count": 16,
     "metadata": {},
     "output_type": "execute_result"
    }
   ],
   "source": [
    "%%time\n",
    "print('start')\n",
    "\n",
    "holiday_list = [\n",
    "  '2019-01-01',\n",
    "  '2019-01-02',\n",
    "  '2019-01-03',\n",
    "  '2019-12-24',\n",
    "  '2019-12-25',\n",
    "  '2019-12-30',\n",
    "  '2019-12-31',\n",
    "  '2020-01-01',\n",
    "  '2020-01-02',\n",
    "  '2020-01-03',\n",
    "]\n",
    "\n",
    "mask = ~(data_v3['date'].isin(holiday_list))\n",
    "data_v4 = data_v3[mask].copy()\n",
    "data_v4"
   ],
   "metadata": {
    "collapsed": false,
    "pycharm": {
     "name": "#%%\n"
    }
   }
  },
  {
   "cell_type": "code",
   "execution_count": 17,
   "outputs": [
    {
     "name": "stdout",
     "output_type": "stream",
     "text": [
      "start\n",
      "Mean:  0.042159384532725934\n",
      "Std: 0.04183061937791441\n",
      "Min: 0.0\n",
      "Max: 1.2026315789473685\n",
      "CPU times: user 57.2 ms, sys: 2.54 ms, total: 59.7 ms\n",
      "Wall time: 56.7 ms\n"
     ]
    }
   ],
   "source": [
    "%%time\n",
    "print('start')\n",
    "# All\n",
    "ape_data = data_v4['ape']\n",
    "print('Mean: ', ape_data.mean())\n",
    "print('Std:', ape_data.std())\n",
    "print('Min:', ape_data.min())\n",
    "print('Max:', ape_data.max())"
   ],
   "metadata": {
    "collapsed": false,
    "pycharm": {
     "name": "#%%\n"
    }
   }
  },
  {
   "cell_type": "code",
   "execution_count": 18,
   "outputs": [
    {
     "name": "stdout",
     "output_type": "stream",
     "text": [
      "start\n",
      "Mean:  0.041430394853715566\n",
      "Std: 0.04122335128935117\n",
      "Min: 0.0\n",
      "Max: 1.118421052631579\n",
      "CPU times: user 17.5 ms, sys: 6.9 ms, total: 24.4 ms\n",
      "Wall time: 20.4 ms\n"
     ]
    }
   ],
   "source": [
    "%%time\n",
    "print('start')\n",
    "# Diagonal\n",
    "mask = (data_v4['nth_pred'] == 0)\n",
    "ape_data = data_v4.loc[mask, 'ape']\n",
    "print('Mean: ', ape_data.mean())\n",
    "print('Std:', ape_data.std())\n",
    "print('Min:', ape_data.min())\n",
    "print('Max:', ape_data.max())\n"
   ],
   "metadata": {
    "collapsed": false,
    "pycharm": {
     "name": "#%%\n"
    }
   }
  },
  {
   "cell_type": "code",
   "execution_count": 19,
   "outputs": [
    {
     "name": "stdout",
     "output_type": "stream",
     "text": [
      "start\n",
      "Mean:  0.04199246575728858\n",
      "Std: 0.041720062121684394\n",
      "Min: 0.0\n",
      "Max: 1.0482456140350878\n",
      "CPU times: user 149 ms, sys: 0 ns, total: 149 ms\n",
      "Wall time: 146 ms\n"
     ]
    }
   ],
   "source": [
    "%%time\n",
    "print('start')\n",
    "# 1st date only\n",
    "mask = (data_v4['split_date'].dt.day == 1)\n",
    "ape_data = data_v4.loc[mask, 'ape']\n",
    "print('Mean: ', ape_data.mean())\n",
    "print('Std:', ape_data.std())\n",
    "print('Min:', ape_data.min())\n",
    "print('Max:', ape_data.max())\n",
    "\n"
   ],
   "metadata": {
    "collapsed": false,
    "pycharm": {
     "name": "#%%\n"
    }
   }
  },
  {
   "cell_type": "code",
   "execution_count": 20,
   "outputs": [
    {
     "name": "stdout",
     "output_type": "stream",
     "text": [
      "start\n",
      "CPU times: user 13.1 ms, sys: 8.13 ms, total: 21.2 ms\n",
      "Wall time: 40.2 ms\n"
     ]
    }
   ],
   "source": [
    "%%time\n",
    "print('start')\n",
    "\n",
    "mask = (data_v4['ape'] > 1)\n",
    "data_v4[mask].to_csv(d.TMP+'/other_spike.csv', index=False)"
   ],
   "metadata": {
    "collapsed": false,
    "pycharm": {
     "name": "#%%\n"
    }
   }
  },
  {
   "cell_type": "code",
   "execution_count": 21,
   "outputs": [
    {
     "name": "stdout",
     "output_type": "stream",
     "text": [
      "start\n",
      "CPU times: user 138 ms, sys: 14.2 ms, total: 152 ms\n",
      "Wall time: 150 ms\n"
     ]
    },
    {
     "data": {
      "text/plain": "    nth_pred      mean       std  min       max\n0          0  0.041430  0.041223  0.0  1.118421\n1          1  0.041644  0.041696  0.0  0.967957\n2          2  0.041745  0.041623  0.0  1.095614\n7          7  0.041792  0.041491  0.0  0.947931\n3          3  0.041843  0.041727  0.0  1.004386\n10        10  0.041847  0.041844  0.0  1.202632\n6          6  0.041959  0.041871  0.0  1.023684\n4          4  0.041961  0.042110  0.0  0.992105\n14        14  0.041976  0.041559  0.0  1.034211\n11        11  0.041983  0.041845  0.0  1.063158\n17        17  0.041996  0.042260  0.0  1.041389\n15        15  0.042020  0.041453  0.0  0.956053\n8          8  0.042068  0.041860  0.0  1.126316\n9          9  0.042074  0.041925  0.0  1.107018\n12        12  0.042127  0.041767  0.0  0.979825\n5          5  0.042146  0.042005  0.0  1.160526\n20        20  0.042154  0.041698  0.0  0.952632\n18        18  0.042192  0.041545  0.0  0.939469\n13        13  0.042212  0.041913  0.0  0.954386\n19        19  0.042241  0.041663  0.0  0.995614\n23        23  0.042271  0.041663  0.0  0.957276\n16        16  0.042360  0.042028  0.0  1.022807\n21        21  0.042384  0.041853  0.0  1.035965\n25        25  0.042394  0.041872  0.0  0.959649\n26        26  0.042443  0.041817  0.0  1.034211\n22        22  0.042458  0.042138  0.0  0.995614\n27        27  0.042482  0.041855  0.0  0.971053\n24        24  0.042597  0.041960  0.0  1.076316\n29        29  0.042638  0.042228  0.0  0.977193\n30        30  0.042661  0.042062  0.0  0.985965\n28        28  0.042816  0.042139  0.0  1.048246",
      "text/html": "<div>\n<style scoped>\n    .dataframe tbody tr th:only-of-type {\n        vertical-align: middle;\n    }\n\n    .dataframe tbody tr th {\n        vertical-align: top;\n    }\n\n    .dataframe thead th {\n        text-align: right;\n    }\n</style>\n<table border=\"1\" class=\"dataframe\">\n  <thead>\n    <tr style=\"text-align: right;\">\n      <th></th>\n      <th>nth_pred</th>\n      <th>mean</th>\n      <th>std</th>\n      <th>min</th>\n      <th>max</th>\n    </tr>\n  </thead>\n  <tbody>\n    <tr>\n      <th>0</th>\n      <td>0</td>\n      <td>0.041430</td>\n      <td>0.041223</td>\n      <td>0.0</td>\n      <td>1.118421</td>\n    </tr>\n    <tr>\n      <th>1</th>\n      <td>1</td>\n      <td>0.041644</td>\n      <td>0.041696</td>\n      <td>0.0</td>\n      <td>0.967957</td>\n    </tr>\n    <tr>\n      <th>2</th>\n      <td>2</td>\n      <td>0.041745</td>\n      <td>0.041623</td>\n      <td>0.0</td>\n      <td>1.095614</td>\n    </tr>\n    <tr>\n      <th>7</th>\n      <td>7</td>\n      <td>0.041792</td>\n      <td>0.041491</td>\n      <td>0.0</td>\n      <td>0.947931</td>\n    </tr>\n    <tr>\n      <th>3</th>\n      <td>3</td>\n      <td>0.041843</td>\n      <td>0.041727</td>\n      <td>0.0</td>\n      <td>1.004386</td>\n    </tr>\n    <tr>\n      <th>10</th>\n      <td>10</td>\n      <td>0.041847</td>\n      <td>0.041844</td>\n      <td>0.0</td>\n      <td>1.202632</td>\n    </tr>\n    <tr>\n      <th>6</th>\n      <td>6</td>\n      <td>0.041959</td>\n      <td>0.041871</td>\n      <td>0.0</td>\n      <td>1.023684</td>\n    </tr>\n    <tr>\n      <th>4</th>\n      <td>4</td>\n      <td>0.041961</td>\n      <td>0.042110</td>\n      <td>0.0</td>\n      <td>0.992105</td>\n    </tr>\n    <tr>\n      <th>14</th>\n      <td>14</td>\n      <td>0.041976</td>\n      <td>0.041559</td>\n      <td>0.0</td>\n      <td>1.034211</td>\n    </tr>\n    <tr>\n      <th>11</th>\n      <td>11</td>\n      <td>0.041983</td>\n      <td>0.041845</td>\n      <td>0.0</td>\n      <td>1.063158</td>\n    </tr>\n    <tr>\n      <th>17</th>\n      <td>17</td>\n      <td>0.041996</td>\n      <td>0.042260</td>\n      <td>0.0</td>\n      <td>1.041389</td>\n    </tr>\n    <tr>\n      <th>15</th>\n      <td>15</td>\n      <td>0.042020</td>\n      <td>0.041453</td>\n      <td>0.0</td>\n      <td>0.956053</td>\n    </tr>\n    <tr>\n      <th>8</th>\n      <td>8</td>\n      <td>0.042068</td>\n      <td>0.041860</td>\n      <td>0.0</td>\n      <td>1.126316</td>\n    </tr>\n    <tr>\n      <th>9</th>\n      <td>9</td>\n      <td>0.042074</td>\n      <td>0.041925</td>\n      <td>0.0</td>\n      <td>1.107018</td>\n    </tr>\n    <tr>\n      <th>12</th>\n      <td>12</td>\n      <td>0.042127</td>\n      <td>0.041767</td>\n      <td>0.0</td>\n      <td>0.979825</td>\n    </tr>\n    <tr>\n      <th>5</th>\n      <td>5</td>\n      <td>0.042146</td>\n      <td>0.042005</td>\n      <td>0.0</td>\n      <td>1.160526</td>\n    </tr>\n    <tr>\n      <th>20</th>\n      <td>20</td>\n      <td>0.042154</td>\n      <td>0.041698</td>\n      <td>0.0</td>\n      <td>0.952632</td>\n    </tr>\n    <tr>\n      <th>18</th>\n      <td>18</td>\n      <td>0.042192</td>\n      <td>0.041545</td>\n      <td>0.0</td>\n      <td>0.939469</td>\n    </tr>\n    <tr>\n      <th>13</th>\n      <td>13</td>\n      <td>0.042212</td>\n      <td>0.041913</td>\n      <td>0.0</td>\n      <td>0.954386</td>\n    </tr>\n    <tr>\n      <th>19</th>\n      <td>19</td>\n      <td>0.042241</td>\n      <td>0.041663</td>\n      <td>0.0</td>\n      <td>0.995614</td>\n    </tr>\n    <tr>\n      <th>23</th>\n      <td>23</td>\n      <td>0.042271</td>\n      <td>0.041663</td>\n      <td>0.0</td>\n      <td>0.957276</td>\n    </tr>\n    <tr>\n      <th>16</th>\n      <td>16</td>\n      <td>0.042360</td>\n      <td>0.042028</td>\n      <td>0.0</td>\n      <td>1.022807</td>\n    </tr>\n    <tr>\n      <th>21</th>\n      <td>21</td>\n      <td>0.042384</td>\n      <td>0.041853</td>\n      <td>0.0</td>\n      <td>1.035965</td>\n    </tr>\n    <tr>\n      <th>25</th>\n      <td>25</td>\n      <td>0.042394</td>\n      <td>0.041872</td>\n      <td>0.0</td>\n      <td>0.959649</td>\n    </tr>\n    <tr>\n      <th>26</th>\n      <td>26</td>\n      <td>0.042443</td>\n      <td>0.041817</td>\n      <td>0.0</td>\n      <td>1.034211</td>\n    </tr>\n    <tr>\n      <th>22</th>\n      <td>22</td>\n      <td>0.042458</td>\n      <td>0.042138</td>\n      <td>0.0</td>\n      <td>0.995614</td>\n    </tr>\n    <tr>\n      <th>27</th>\n      <td>27</td>\n      <td>0.042482</td>\n      <td>0.041855</td>\n      <td>0.0</td>\n      <td>0.971053</td>\n    </tr>\n    <tr>\n      <th>24</th>\n      <td>24</td>\n      <td>0.042597</td>\n      <td>0.041960</td>\n      <td>0.0</td>\n      <td>1.076316</td>\n    </tr>\n    <tr>\n      <th>29</th>\n      <td>29</td>\n      <td>0.042638</td>\n      <td>0.042228</td>\n      <td>0.0</td>\n      <td>0.977193</td>\n    </tr>\n    <tr>\n      <th>30</th>\n      <td>30</td>\n      <td>0.042661</td>\n      <td>0.042062</td>\n      <td>0.0</td>\n      <td>0.985965</td>\n    </tr>\n    <tr>\n      <th>28</th>\n      <td>28</td>\n      <td>0.042816</td>\n      <td>0.042139</td>\n      <td>0.0</td>\n      <td>1.048246</td>\n    </tr>\n  </tbody>\n</table>\n</div>"
     },
     "execution_count": 21,
     "metadata": {},
     "output_type": "execute_result"
    }
   ],
   "source": [
    "%%time\n",
    "print('start')\n",
    "# All\n",
    "agged = data_v4[['ape', 'nth_pred']].groupby('nth_pred').agg(\n",
    "  mean=('ape', 'mean'),\n",
    "  std=('ape', 'std'),\n",
    "  min=('ape', 'min'),\n",
    "  max=('ape', 'max'),\n",
    ").reset_index()\n",
    "\n",
    "agged.sort_values('mean', ascending=True)\n",
    "\n"
   ],
   "metadata": {
    "collapsed": false,
    "pycharm": {
     "name": "#%%\n"
    }
   }
  },
  {
   "cell_type": "code",
   "execution_count": 22,
   "outputs": [
    {
     "name": "stdout",
     "output_type": "stream",
     "text": [
      "start\n",
      "CPU times: user 181 ms, sys: 0 ns, total: 181 ms\n",
      "Wall time: 181 ms\n"
     ]
    },
    {
     "data": {
      "text/plain": "    nth_pred      mean       std  min       max\n25        25  0.031297  0.026156  0.0  0.218684\n11        11  0.033734  0.029801  0.0  0.266265\n17        17  0.034861  0.030904  0.0  0.302151\n16        16  0.036254  0.034660  0.0  0.375324\n4          4  0.036340  0.030842  0.0  0.236616\n24        24  0.037025  0.032508  0.0  0.428122\n8          8  0.037306  0.038747  0.0  0.626705\n23        23  0.037483  0.034763  0.0  0.417134\n20        20  0.038331  0.044406  0.0  0.951936\n7          7  0.038342  0.035823  0.0  0.662125\n18        18  0.038754  0.036900  0.0  0.391069\n12        12  0.038798  0.036755  0.0  0.637306\n22        22  0.039894  0.040836  0.0  0.720028\n1          1  0.039894  0.032542  0.0  0.331787\n15        15  0.040139  0.038788  0.0  0.583507\n9          9  0.040741  0.040130  0.0  0.477467\n19        19  0.041580  0.037012  0.0  0.471894\n5          5  0.042402  0.036997  0.0  0.329630\n26        26  0.043293  0.039899  0.0  0.381356\n21        21  0.043464  0.044281  0.0  0.733456\n27        27  0.043477  0.041979  0.0  0.500368\n13        13  0.044221  0.040218  0.0  0.601243\n6          6  0.044240  0.041845  0.0  0.446890\n3          3  0.044369  0.042416  0.0  0.526241\n28        28  0.044972  0.052898  0.0  1.048246\n2          2  0.048901  0.043856  0.0  0.432676\n29        29  0.049343  0.045966  0.0  0.619611\n0          0  0.049765  0.047700  0.0  0.542324\n30        30  0.051513  0.048608  0.0  0.521605\n14        14  0.051807  0.065399  0.0  0.747360\n10        10  0.058966  0.058955  0.0  0.729769",
      "text/html": "<div>\n<style scoped>\n    .dataframe tbody tr th:only-of-type {\n        vertical-align: middle;\n    }\n\n    .dataframe tbody tr th {\n        vertical-align: top;\n    }\n\n    .dataframe thead th {\n        text-align: right;\n    }\n</style>\n<table border=\"1\" class=\"dataframe\">\n  <thead>\n    <tr style=\"text-align: right;\">\n      <th></th>\n      <th>nth_pred</th>\n      <th>mean</th>\n      <th>std</th>\n      <th>min</th>\n      <th>max</th>\n    </tr>\n  </thead>\n  <tbody>\n    <tr>\n      <th>25</th>\n      <td>25</td>\n      <td>0.031297</td>\n      <td>0.026156</td>\n      <td>0.0</td>\n      <td>0.218684</td>\n    </tr>\n    <tr>\n      <th>11</th>\n      <td>11</td>\n      <td>0.033734</td>\n      <td>0.029801</td>\n      <td>0.0</td>\n      <td>0.266265</td>\n    </tr>\n    <tr>\n      <th>17</th>\n      <td>17</td>\n      <td>0.034861</td>\n      <td>0.030904</td>\n      <td>0.0</td>\n      <td>0.302151</td>\n    </tr>\n    <tr>\n      <th>16</th>\n      <td>16</td>\n      <td>0.036254</td>\n      <td>0.034660</td>\n      <td>0.0</td>\n      <td>0.375324</td>\n    </tr>\n    <tr>\n      <th>4</th>\n      <td>4</td>\n      <td>0.036340</td>\n      <td>0.030842</td>\n      <td>0.0</td>\n      <td>0.236616</td>\n    </tr>\n    <tr>\n      <th>24</th>\n      <td>24</td>\n      <td>0.037025</td>\n      <td>0.032508</td>\n      <td>0.0</td>\n      <td>0.428122</td>\n    </tr>\n    <tr>\n      <th>8</th>\n      <td>8</td>\n      <td>0.037306</td>\n      <td>0.038747</td>\n      <td>0.0</td>\n      <td>0.626705</td>\n    </tr>\n    <tr>\n      <th>23</th>\n      <td>23</td>\n      <td>0.037483</td>\n      <td>0.034763</td>\n      <td>0.0</td>\n      <td>0.417134</td>\n    </tr>\n    <tr>\n      <th>20</th>\n      <td>20</td>\n      <td>0.038331</td>\n      <td>0.044406</td>\n      <td>0.0</td>\n      <td>0.951936</td>\n    </tr>\n    <tr>\n      <th>7</th>\n      <td>7</td>\n      <td>0.038342</td>\n      <td>0.035823</td>\n      <td>0.0</td>\n      <td>0.662125</td>\n    </tr>\n    <tr>\n      <th>18</th>\n      <td>18</td>\n      <td>0.038754</td>\n      <td>0.036900</td>\n      <td>0.0</td>\n      <td>0.391069</td>\n    </tr>\n    <tr>\n      <th>12</th>\n      <td>12</td>\n      <td>0.038798</td>\n      <td>0.036755</td>\n      <td>0.0</td>\n      <td>0.637306</td>\n    </tr>\n    <tr>\n      <th>22</th>\n      <td>22</td>\n      <td>0.039894</td>\n      <td>0.040836</td>\n      <td>0.0</td>\n      <td>0.720028</td>\n    </tr>\n    <tr>\n      <th>1</th>\n      <td>1</td>\n      <td>0.039894</td>\n      <td>0.032542</td>\n      <td>0.0</td>\n      <td>0.331787</td>\n    </tr>\n    <tr>\n      <th>15</th>\n      <td>15</td>\n      <td>0.040139</td>\n      <td>0.038788</td>\n      <td>0.0</td>\n      <td>0.583507</td>\n    </tr>\n    <tr>\n      <th>9</th>\n      <td>9</td>\n      <td>0.040741</td>\n      <td>0.040130</td>\n      <td>0.0</td>\n      <td>0.477467</td>\n    </tr>\n    <tr>\n      <th>19</th>\n      <td>19</td>\n      <td>0.041580</td>\n      <td>0.037012</td>\n      <td>0.0</td>\n      <td>0.471894</td>\n    </tr>\n    <tr>\n      <th>5</th>\n      <td>5</td>\n      <td>0.042402</td>\n      <td>0.036997</td>\n      <td>0.0</td>\n      <td>0.329630</td>\n    </tr>\n    <tr>\n      <th>26</th>\n      <td>26</td>\n      <td>0.043293</td>\n      <td>0.039899</td>\n      <td>0.0</td>\n      <td>0.381356</td>\n    </tr>\n    <tr>\n      <th>21</th>\n      <td>21</td>\n      <td>0.043464</td>\n      <td>0.044281</td>\n      <td>0.0</td>\n      <td>0.733456</td>\n    </tr>\n    <tr>\n      <th>27</th>\n      <td>27</td>\n      <td>0.043477</td>\n      <td>0.041979</td>\n      <td>0.0</td>\n      <td>0.500368</td>\n    </tr>\n    <tr>\n      <th>13</th>\n      <td>13</td>\n      <td>0.044221</td>\n      <td>0.040218</td>\n      <td>0.0</td>\n      <td>0.601243</td>\n    </tr>\n    <tr>\n      <th>6</th>\n      <td>6</td>\n      <td>0.044240</td>\n      <td>0.041845</td>\n      <td>0.0</td>\n      <td>0.446890</td>\n    </tr>\n    <tr>\n      <th>3</th>\n      <td>3</td>\n      <td>0.044369</td>\n      <td>0.042416</td>\n      <td>0.0</td>\n      <td>0.526241</td>\n    </tr>\n    <tr>\n      <th>28</th>\n      <td>28</td>\n      <td>0.044972</td>\n      <td>0.052898</td>\n      <td>0.0</td>\n      <td>1.048246</td>\n    </tr>\n    <tr>\n      <th>2</th>\n      <td>2</td>\n      <td>0.048901</td>\n      <td>0.043856</td>\n      <td>0.0</td>\n      <td>0.432676</td>\n    </tr>\n    <tr>\n      <th>29</th>\n      <td>29</td>\n      <td>0.049343</td>\n      <td>0.045966</td>\n      <td>0.0</td>\n      <td>0.619611</td>\n    </tr>\n    <tr>\n      <th>0</th>\n      <td>0</td>\n      <td>0.049765</td>\n      <td>0.047700</td>\n      <td>0.0</td>\n      <td>0.542324</td>\n    </tr>\n    <tr>\n      <th>30</th>\n      <td>30</td>\n      <td>0.051513</td>\n      <td>0.048608</td>\n      <td>0.0</td>\n      <td>0.521605</td>\n    </tr>\n    <tr>\n      <th>14</th>\n      <td>14</td>\n      <td>0.051807</td>\n      <td>0.065399</td>\n      <td>0.0</td>\n      <td>0.747360</td>\n    </tr>\n    <tr>\n      <th>10</th>\n      <td>10</td>\n      <td>0.058966</td>\n      <td>0.058955</td>\n      <td>0.0</td>\n      <td>0.729769</td>\n    </tr>\n  </tbody>\n</table>\n</div>"
     },
     "execution_count": 22,
     "metadata": {},
     "output_type": "execute_result"
    }
   ],
   "source": [
    "%%time\n",
    "print('start')\n",
    "# 1st date only\n",
    "mask = (data_v4['split_date'].dt.day == 1)\n",
    "agged = data_v4.loc[mask, ['ape', 'nth_pred']].groupby('nth_pred').agg(\n",
    "  mean=('ape', 'mean'),\n",
    "  std=('ape', 'std'),\n",
    "  min=('ape', 'min'),\n",
    "  max=('ape', 'max'),\n",
    ").reset_index()\n",
    "\n",
    "agged.sort_values('mean', ascending=True)\n"
   ],
   "metadata": {
    "collapsed": false,
    "pycharm": {
     "name": "#%%\n"
    }
   }
  },
  {
   "cell_type": "code",
   "execution_count": null,
   "outputs": [],
   "source": [
    "%%time\n",
    "print('start')\n",
    "\n",
    "edadata = pd.read_pickle(d.INTERIM_DATA+'/dataset_for_eda.pkl')\n",
    "edadata"
   ],
   "metadata": {
    "collapsed": false,
    "pycharm": {
     "name": "#%%\n"
    }
   }
  },
  {
   "cell_type": "code",
   "execution_count": null,
   "outputs": [],
   "source": [
    "%%time\n",
    "print('start')\n",
    "\n",
    "mask = (edadata['store_cd'] == 752)\n",
    "edadata[mask]"
   ],
   "metadata": {
    "collapsed": false,
    "pycharm": {
     "name": "#%%\n"
    }
   }
  }
 ],
 "metadata": {
  "kernelspec": {
   "display_name": "Python 3",
   "language": "python",
   "name": "python3"
  },
  "language_info": {
   "codemirror_mode": {
    "name": "ipython",
    "version": 2
   },
   "file_extension": ".py",
   "mimetype": "text/x-python",
   "name": "python",
   "nbconvert_exporter": "python",
   "pygments_lexer": "ipython2",
   "version": "2.7.6"
  }
 },
 "nbformat": 4,
 "nbformat_minor": 0
}