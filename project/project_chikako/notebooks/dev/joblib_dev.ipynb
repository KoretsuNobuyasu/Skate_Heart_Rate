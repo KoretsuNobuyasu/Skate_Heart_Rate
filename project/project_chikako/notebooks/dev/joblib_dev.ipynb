{
 "cells": [
  {
   "cell_type": "code",
   "execution_count": 2,
   "metadata": {
    "collapsed": true
   },
   "outputs": [
    {
     "name": "stdout",
     "output_type": "stream",
     "text": [
      "The autoreload extension is already loaded. To reload it, use:\n",
      "  %reload_ext autoreload\n"
     ]
    },
    {
     "data": {
      "text/plain": "<module 'defs' from '/home/jovyan/dev/projects/vinx/defs.py'>"
     },
     "execution_count": 2,
     "metadata": {},
     "output_type": "execute_result"
    }
   ],
   "source": [
    "%load_ext autoreload\n",
    "%autoreload 2\n",
    "\n",
    "import defs as d\n",
    "import bootstrap as bt\n",
    "import joblib\n",
    "import json\n",
    "import pandas as pd\n",
    "from azureml.widgets import RunDetails\n",
    "from azureml.core import Dataset, Experiment\n",
    "from azureml.pipeline.core import Pipeline, PipelineData, PipelineRun, StepRun, PortDataReference\n",
    "from azureml.pipeline.steps import PythonScriptStep\n",
    "from azureml.core.compute_target import ComputeTargetException\n",
    "from azureml.core.model import Model\n",
    "from fbprophet import Prophet\n",
    "import pipe_line_steps as pls\n",
    "from joblib import Parallel, delayed\n",
    "d"
   ]
  },
  {
   "cell_type": "code",
   "execution_count": 5,
   "outputs": [
    {
     "name": "stdout",
     "output_type": "stream",
     "text": [
      "start\n",
      "CPU times: user 50.3 ms, sys: 26.3 ms, total: 76.5 ms\n",
      "Wall time: 63.9 ms\n"
     ]
    },
    {
     "name": "stderr",
     "output_type": "stream",
     "text": [
      "[Parallel(n_jobs=4)]: Using backend LokyBackend with 4 concurrent workers.\n",
      "[Parallel(n_jobs=4)]: Done   1 tasks      | elapsed:    0.0s\n",
      "[Parallel(n_jobs=4)]: Batch computation too fast (0.0087s.) Setting batch_size=2.\n",
      "[Parallel(n_jobs=4)]: Done   2 tasks      | elapsed:    0.0s\n",
      "[Parallel(n_jobs=4)]: Done   3 tasks      | elapsed:    0.0s\n",
      "[Parallel(n_jobs=4)]: Done   4 tasks      | elapsed:    0.0s\n",
      "[Parallel(n_jobs=4)]: Done   5 tasks      | elapsed:    0.0s\n",
      "[Parallel(n_jobs=4)]: Done   6 tasks      | elapsed:    0.0s\n",
      "[Parallel(n_jobs=4)]: Done   7 tasks      | elapsed:    0.0s\n",
      "[Parallel(n_jobs=4)]: Done   8 tasks      | elapsed:    0.0s\n",
      "[Parallel(n_jobs=4)]: Done  10 tasks      | elapsed:    0.0s\n",
      "[Parallel(n_jobs=4)]: Batch computation too fast (0.0112s.) Setting batch_size=4.\n",
      "[Parallel(n_jobs=4)]: Done  12 tasks      | elapsed:    0.0s\n",
      "[Parallel(n_jobs=4)]: Done  14 tasks      | elapsed:    0.0s\n",
      "[Parallel(n_jobs=4)]: Done  16 tasks      | elapsed:    0.0s\n",
      "[Parallel(n_jobs=4)]: Done  18 tasks      | elapsed:    0.0s\n",
      "[Parallel(n_jobs=4)]: Done  20 tasks      | elapsed:    0.0s\n",
      "[Parallel(n_jobs=4)]: Done  22 tasks      | elapsed:    0.0s\n",
      "[Parallel(n_jobs=4)]: Done  24 tasks      | elapsed:    0.0s\n",
      "[Parallel(n_jobs=4)]: Done  28 tasks      | elapsed:    0.0s\n",
      "[Parallel(n_jobs=4)]: Batch computation too fast (0.0125s.) Setting batch_size=8.\n",
      "[Parallel(n_jobs=4)]: Done  32 tasks      | elapsed:    0.0s\n",
      "[Parallel(n_jobs=4)]: Done  36 tasks      | elapsed:    0.0s\n",
      "[Parallel(n_jobs=4)]: Done  40 tasks      | elapsed:    0.0s\n",
      "[Parallel(n_jobs=4)]: Done  44 tasks      | elapsed:    0.0s\n",
      "[Parallel(n_jobs=4)]: Done  48 tasks      | elapsed:    0.0s\n",
      "[Parallel(n_jobs=4)]: Done  52 tasks      | elapsed:    0.0s\n",
      "[Parallel(n_jobs=4)]: Done  56 tasks      | elapsed:    0.0s\n",
      "[Parallel(n_jobs=4)]: Done  64 tasks      | elapsed:    0.0s\n",
      "[Parallel(n_jobs=4)]: Batch computation too fast (0.0127s.) Setting batch_size=16.\n",
      "[Parallel(n_jobs=4)]: Done  72 tasks      | elapsed:    0.0s\n",
      "[Parallel(n_jobs=4)]: Done  80 tasks      | elapsed:    0.0s\n",
      "[Parallel(n_jobs=4)]: Done  88 tasks      | elapsed:    0.1s\n",
      "[Parallel(n_jobs=4)]: Done  89 tasks      | elapsed:    0.1s\n",
      "[Parallel(n_jobs=4)]: Done  90 tasks      | elapsed:    0.1s\n",
      "[Parallel(n_jobs=4)]: Done  91 tasks      | elapsed:    0.1s\n",
      "[Parallel(n_jobs=4)]: Done  92 tasks      | elapsed:    0.1s\n",
      "[Parallel(n_jobs=4)]: Done  93 tasks      | elapsed:    0.1s\n",
      "[Parallel(n_jobs=4)]: Done  96 out of 100 | elapsed:    0.1s remaining:    0.0s\n",
      "[Parallel(n_jobs=4)]: Done 100 out of 100 | elapsed:    0.1s finished\n"
     ]
    },
    {
     "data": {
      "text/plain": "[0,\n 2,\n 4,\n 6,\n 8,\n 10,\n 12,\n 14,\n 16,\n 18,\n 20,\n 22,\n 24,\n 26,\n 28,\n 30,\n 32,\n 34,\n 36,\n 38,\n 40,\n 42,\n 44,\n 46,\n 48,\n 50,\n 52,\n 54,\n 56,\n 58,\n 60,\n 62,\n 64,\n 66,\n 68,\n 70,\n 72,\n 74,\n 76,\n 78,\n 80,\n 82,\n 84,\n 86,\n 88,\n 90,\n 92,\n 94,\n 96,\n 98,\n 100,\n 102,\n 104,\n 106,\n 108,\n 110,\n 112,\n 114,\n 116,\n 118,\n 120,\n 122,\n 124,\n 126,\n 128,\n 130,\n 132,\n 134,\n 136,\n 138,\n 140,\n 142,\n 144,\n 146,\n 148,\n 150,\n 152,\n 154,\n 156,\n 158,\n 160,\n 162,\n 164,\n 166,\n 168,\n 170,\n 172,\n 174,\n 176,\n 178,\n 180,\n 182,\n 184,\n 186,\n 188,\n 190,\n 192,\n 194,\n 196,\n 198]"
     },
     "execution_count": 5,
     "metadata": {},
     "output_type": "execute_result"
    }
   ],
   "source": [
    "%%time\n",
    "print('start')\n",
    "\n",
    "def hoge(i):\n",
    "  return i*2\n",
    "\n",
    "\n",
    "results = Parallel(n_jobs=4, prefer='processes', verbose=49, max_nbytes='1G')(delayed(hoge)(i) for i in range(100))\n",
    "# results = Parallel(n_jobs=4, prefer='processes', verbose=49, max_nbytes='1G')(delayed(hoge)(item, merged_data, lgbm, best_parameter) for item in split_masks)\n",
    "results"
   ],
   "metadata": {
    "collapsed": false,
    "pycharm": {
     "name": "#%%\n"
    }
   }
  }
 ],
 "metadata": {
  "kernelspec": {
   "display_name": "Python 3",
   "language": "python",
   "name": "python3"
  },
  "language_info": {
   "codemirror_mode": {
    "name": "ipython",
    "version": 2
   },
   "file_extension": ".py",
   "mimetype": "text/x-python",
   "name": "python",
   "nbconvert_exporter": "python",
   "pygments_lexer": "ipython2",
   "version": "2.7.6"
  }
 },
 "nbformat": 4,
 "nbformat_minor": 0
}