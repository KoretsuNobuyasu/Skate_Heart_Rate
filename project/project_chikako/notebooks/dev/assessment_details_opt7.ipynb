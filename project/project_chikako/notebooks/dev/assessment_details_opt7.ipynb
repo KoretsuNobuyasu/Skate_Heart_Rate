{
 "cells": [
  {
   "cell_type": "code",
   "execution_count": 3,
   "metadata": {
    "collapsed": true
   },
   "outputs": [
    {
     "data": {
      "text/plain": "<module 'defs' from '/home/jovyan/dev/projects/vinx/defs.py'>"
     },
     "execution_count": 3,
     "metadata": {},
     "output_type": "execute_result"
    }
   ],
   "source": [
    "import defs as d\n",
    "import joblib\n",
    "import pandas as pd\n",
    "import numpy as np\n",
    "import matplotlib.pyplot as plt\n",
    "d"
   ]
  },
  {
   "cell_type": "code",
   "execution_count": 4,
   "outputs": [
    {
     "name": "stdout",
     "output_type": "stream",
     "text": [
      "start\n",
      "CPU times: user 321 µs, sys: 0 ns, total: 321 µs\n",
      "Wall time: 393 µs\n"
     ]
    }
   ],
   "source": [
    "%%time\n",
    "print('start')\n",
    "def _mape(y, y_hat):\n",
    "  return np.mean(np.abs((y - y_hat)) / np.abs(y))\n",
    "\n",
    "def ape(y, y_hat):\n",
    "  return np.abs((y - y_hat)) / np.abs(y)"
   ],
   "metadata": {
    "collapsed": false,
    "pycharm": {
     "name": "#%%\n"
    }
   }
  },
  {
   "cell_type": "code",
   "execution_count": 5,
   "outputs": [
    {
     "name": "stdout",
     "output_type": "stream",
     "text": [
      "start\n",
      "CPU times: user 2.74 s, sys: 1.43 s, total: 4.17 s\n",
      "Wall time: 6.09 s\n"
     ]
    },
    {
     "data": {
      "text/plain": "         store_cd       date  customer_count    pred split_date  nth_pred  \\\n0             113 2019-01-01            1247  2279.0 2019-01-01         0   \n1             113 2019-01-02            1551  1898.0 2019-01-01         1   \n2             113 2019-01-02            1551  1731.0 2019-01-02         0   \n3             113 2019-01-03            1703  1878.0 2019-01-01         2   \n4             113 2019-01-03            1703  1902.0 2019-01-02         1   \n...           ...        ...             ...     ...        ...       ...   \n2067571       876 2020-01-30            2892  2897.0 2019-12-31        30   \n2067572       877 2020-01-30            3962  3925.0 2019-12-31        30   \n2067573       878 2020-01-30            2501  2651.0 2019-12-31        30   \n2067574       879 2020-01-30            4177  4157.0 2019-12-31        30   \n2067575       880 2020-01-30            3558  3641.0 2019-12-31        30   \n\n              ape  open_day_count  \n0        0.827586             704  \n1        0.223727             705  \n2        0.116054             705  \n3        0.102760             706  \n4        0.116853             706  \n...           ...             ...  \n2067571  0.001729             309  \n2067572  0.009339             280  \n2067573  0.059976             224  \n2067574  0.004788             140  \n2067575  0.023328              58  \n\n[2067576 rows x 8 columns]",
      "text/html": "<div>\n<style scoped>\n    .dataframe tbody tr th:only-of-type {\n        vertical-align: middle;\n    }\n\n    .dataframe tbody tr th {\n        vertical-align: top;\n    }\n\n    .dataframe thead th {\n        text-align: right;\n    }\n</style>\n<table border=\"1\" class=\"dataframe\">\n  <thead>\n    <tr style=\"text-align: right;\">\n      <th></th>\n      <th>store_cd</th>\n      <th>date</th>\n      <th>customer_count</th>\n      <th>pred</th>\n      <th>split_date</th>\n      <th>nth_pred</th>\n      <th>ape</th>\n      <th>open_day_count</th>\n    </tr>\n  </thead>\n  <tbody>\n    <tr>\n      <th>0</th>\n      <td>113</td>\n      <td>2019-01-01</td>\n      <td>1247</td>\n      <td>2279.0</td>\n      <td>2019-01-01</td>\n      <td>0</td>\n      <td>0.827586</td>\n      <td>704</td>\n    </tr>\n    <tr>\n      <th>1</th>\n      <td>113</td>\n      <td>2019-01-02</td>\n      <td>1551</td>\n      <td>1898.0</td>\n      <td>2019-01-01</td>\n      <td>1</td>\n      <td>0.223727</td>\n      <td>705</td>\n    </tr>\n    <tr>\n      <th>2</th>\n      <td>113</td>\n      <td>2019-01-02</td>\n      <td>1551</td>\n      <td>1731.0</td>\n      <td>2019-01-02</td>\n      <td>0</td>\n      <td>0.116054</td>\n      <td>705</td>\n    </tr>\n    <tr>\n      <th>3</th>\n      <td>113</td>\n      <td>2019-01-03</td>\n      <td>1703</td>\n      <td>1878.0</td>\n      <td>2019-01-01</td>\n      <td>2</td>\n      <td>0.102760</td>\n      <td>706</td>\n    </tr>\n    <tr>\n      <th>4</th>\n      <td>113</td>\n      <td>2019-01-03</td>\n      <td>1703</td>\n      <td>1902.0</td>\n      <td>2019-01-02</td>\n      <td>1</td>\n      <td>0.116853</td>\n      <td>706</td>\n    </tr>\n    <tr>\n      <th>...</th>\n      <td>...</td>\n      <td>...</td>\n      <td>...</td>\n      <td>...</td>\n      <td>...</td>\n      <td>...</td>\n      <td>...</td>\n      <td>...</td>\n    </tr>\n    <tr>\n      <th>2067571</th>\n      <td>876</td>\n      <td>2020-01-30</td>\n      <td>2892</td>\n      <td>2897.0</td>\n      <td>2019-12-31</td>\n      <td>30</td>\n      <td>0.001729</td>\n      <td>309</td>\n    </tr>\n    <tr>\n      <th>2067572</th>\n      <td>877</td>\n      <td>2020-01-30</td>\n      <td>3962</td>\n      <td>3925.0</td>\n      <td>2019-12-31</td>\n      <td>30</td>\n      <td>0.009339</td>\n      <td>280</td>\n    </tr>\n    <tr>\n      <th>2067573</th>\n      <td>878</td>\n      <td>2020-01-30</td>\n      <td>2501</td>\n      <td>2651.0</td>\n      <td>2019-12-31</td>\n      <td>30</td>\n      <td>0.059976</td>\n      <td>224</td>\n    </tr>\n    <tr>\n      <th>2067574</th>\n      <td>879</td>\n      <td>2020-01-30</td>\n      <td>4177</td>\n      <td>4157.0</td>\n      <td>2019-12-31</td>\n      <td>30</td>\n      <td>0.004788</td>\n      <td>140</td>\n    </tr>\n    <tr>\n      <th>2067575</th>\n      <td>880</td>\n      <td>2020-01-30</td>\n      <td>3558</td>\n      <td>3641.0</td>\n      <td>2019-12-31</td>\n      <td>30</td>\n      <td>0.023328</td>\n      <td>58</td>\n    </tr>\n  </tbody>\n</table>\n<p>2067576 rows × 8 columns</p>\n</div>"
     },
     "execution_count": 5,
     "metadata": {},
     "output_type": "execute_result"
    }
   ],
   "source": [
    "%%time\n",
    "print('start')\n",
    "\n",
    "data = pd.concat(joblib.load(d.DS_DL_PATH+'/val12_opt7/azureml/c0b73011-b4b6-45e2-a0f0-45e7c1dd5074/assessment_data_val12_opt7'), axis=0)\n",
    "merged_data = joblib.load(d.DS_DL_PATH+'/val12_opt7/azureml/d88ab129-e091-43d6-80e9-05b913a9c4ef/merged_data')[['store_cd', 'date', 'open_day_count']]\n",
    "data['ape'] = ape(data['customer_count'], data['pred'])\n",
    "mask = (data['nth_pred'] <= 30)\n",
    "data = data[mask].copy()\n",
    "data = pd.merge(data, merged_data, on=['store_cd', 'date'], how='inner')\n",
    "\n",
    "data"
   ],
   "metadata": {
    "collapsed": false,
    "pycharm": {
     "name": "#%%\n"
    }
   }
  },
  {
   "cell_type": "code",
   "execution_count": 8,
   "outputs": [
    {
     "name": "stdout",
     "output_type": "stream",
     "text": [
      "start\n",
      "Mean:  0.0607635468243574\n",
      "Std: 2.718832264440396\n",
      "Min: 0.0\n",
      "Max: 739.0\n",
      "CPU times: user 56 ms, sys: 3.03 ms, total: 59 ms\n",
      "Wall time: 53.3 ms\n"
     ]
    }
   ],
   "source": [
    "%%time\n",
    "# All\n",
    "print('start')\n",
    "ape_data = data['ape']\n",
    "print('Mean: ', ape_data.mean())\n",
    "print('Std:', ape_data.std())\n",
    "print('Min:', ape_data.min())\n",
    "print('Max:', ape_data.max())\n"
   ],
   "metadata": {
    "collapsed": false,
    "pycharm": {
     "name": "#%%\n"
    }
   }
  },
  {
   "cell_type": "code",
   "execution_count": 9,
   "outputs": [
    {
     "name": "stdout",
     "output_type": "stream",
     "text": [
      "start\n",
      "Mean:  0.06062278405379316\n",
      "Std: 2.7433461463463438\n",
      "Min: 0.0\n",
      "Max: 697.75\n",
      "CPU times: user 15.7 ms, sys: 3.15 ms, total: 18.9 ms\n",
      "Wall time: 14.2 ms\n"
     ]
    }
   ],
   "source": [
    "%%time\n",
    "print('start')\n",
    "# Diagonal\n",
    "mask = (data['nth_pred'] == 0)\n",
    "ape_data = data.loc[mask, 'ape']\n",
    "print('Mean: ', ape_data.mean())\n",
    "print('Std:', ape_data.std())\n",
    "print('Min:', ape_data.min())\n",
    "print('Max:', ape_data.max())"
   ],
   "metadata": {
    "collapsed": false,
    "pycharm": {
     "name": "#%%\n"
    }
   }
  },
  {
   "cell_type": "code",
   "execution_count": 11,
   "outputs": [
    {
     "name": "stdout",
     "output_type": "stream",
     "text": [
      "start\n",
      "Mean:  0.06037554254532185\n",
      "Std: 2.7581943486590097\n",
      "Min: 0.0\n",
      "Max: 707.25\n",
      "CPU times: user 160 ms, sys: 1.57 ms, total: 162 ms\n",
      "Wall time: 158 ms\n"
     ]
    }
   ],
   "source": [
    "%%time\n",
    "print('start')\n",
    "# 1st date only\n",
    "mask = (data['split_date'].dt.day == 1)\n",
    "ape_data = data.loc[mask, 'ape']\n",
    "print('Mean: ', ape_data.mean())\n",
    "print('Std:', ape_data.std())\n",
    "print('Min:', ape_data.min())\n",
    "print('Max:', ape_data.max())"
   ],
   "metadata": {
    "collapsed": false,
    "pycharm": {
     "name": "#%%\n"
    }
   }
  },
  {
   "cell_type": "code",
   "execution_count": 12,
   "outputs": [
    {
     "name": "stdout",
     "output_type": "stream",
     "text": [
      "start\n",
      "CPU times: user 111 ms, sys: 31.7 ms, total: 143 ms\n",
      "Wall time: 141 ms\n"
     ]
    },
    {
     "data": {
      "text/plain": "         store_cd       date  customer_count    pred split_date  nth_pred  \\\n0             113 2019-01-01            1247  2279.0 2019-01-01         0   \n1             113 2019-01-02            1551  1898.0 2019-01-01         1   \n2             113 2019-01-02            1551  1731.0 2019-01-02         0   \n3             113 2019-01-03            1703  1878.0 2019-01-01         2   \n4             113 2019-01-03            1703  1902.0 2019-01-02         1   \n...           ...        ...             ...     ...        ...       ...   \n2067571       876 2020-01-30            2892  2897.0 2019-12-31        30   \n2067572       877 2020-01-30            3962  3925.0 2019-12-31        30   \n2067573       878 2020-01-30            2501  2651.0 2019-12-31        30   \n2067574       879 2020-01-30            4177  4157.0 2019-12-31        30   \n2067575       880 2020-01-30            3558  3641.0 2019-12-31        30   \n\n              ape  open_day_count  \n0        0.827586             704  \n1        0.223727             705  \n2        0.116054             705  \n3        0.102760             706  \n4        0.116853             706  \n...           ...             ...  \n2067571  0.001729             309  \n2067572  0.009339             280  \n2067573  0.059976             224  \n2067574  0.004788             140  \n2067575  0.023328              58  \n\n[2049829 rows x 8 columns]",
      "text/html": "<div>\n<style scoped>\n    .dataframe tbody tr th:only-of-type {\n        vertical-align: middle;\n    }\n\n    .dataframe tbody tr th {\n        vertical-align: top;\n    }\n\n    .dataframe thead th {\n        text-align: right;\n    }\n</style>\n<table border=\"1\" class=\"dataframe\">\n  <thead>\n    <tr style=\"text-align: right;\">\n      <th></th>\n      <th>store_cd</th>\n      <th>date</th>\n      <th>customer_count</th>\n      <th>pred</th>\n      <th>split_date</th>\n      <th>nth_pred</th>\n      <th>ape</th>\n      <th>open_day_count</th>\n    </tr>\n  </thead>\n  <tbody>\n    <tr>\n      <th>0</th>\n      <td>113</td>\n      <td>2019-01-01</td>\n      <td>1247</td>\n      <td>2279.0</td>\n      <td>2019-01-01</td>\n      <td>0</td>\n      <td>0.827586</td>\n      <td>704</td>\n    </tr>\n    <tr>\n      <th>1</th>\n      <td>113</td>\n      <td>2019-01-02</td>\n      <td>1551</td>\n      <td>1898.0</td>\n      <td>2019-01-01</td>\n      <td>1</td>\n      <td>0.223727</td>\n      <td>705</td>\n    </tr>\n    <tr>\n      <th>2</th>\n      <td>113</td>\n      <td>2019-01-02</td>\n      <td>1551</td>\n      <td>1731.0</td>\n      <td>2019-01-02</td>\n      <td>0</td>\n      <td>0.116054</td>\n      <td>705</td>\n    </tr>\n    <tr>\n      <th>3</th>\n      <td>113</td>\n      <td>2019-01-03</td>\n      <td>1703</td>\n      <td>1878.0</td>\n      <td>2019-01-01</td>\n      <td>2</td>\n      <td>0.102760</td>\n      <td>706</td>\n    </tr>\n    <tr>\n      <th>4</th>\n      <td>113</td>\n      <td>2019-01-03</td>\n      <td>1703</td>\n      <td>1902.0</td>\n      <td>2019-01-02</td>\n      <td>1</td>\n      <td>0.116853</td>\n      <td>706</td>\n    </tr>\n    <tr>\n      <th>...</th>\n      <td>...</td>\n      <td>...</td>\n      <td>...</td>\n      <td>...</td>\n      <td>...</td>\n      <td>...</td>\n      <td>...</td>\n      <td>...</td>\n    </tr>\n    <tr>\n      <th>2067571</th>\n      <td>876</td>\n      <td>2020-01-30</td>\n      <td>2892</td>\n      <td>2897.0</td>\n      <td>2019-12-31</td>\n      <td>30</td>\n      <td>0.001729</td>\n      <td>309</td>\n    </tr>\n    <tr>\n      <th>2067572</th>\n      <td>877</td>\n      <td>2020-01-30</td>\n      <td>3962</td>\n      <td>3925.0</td>\n      <td>2019-12-31</td>\n      <td>30</td>\n      <td>0.009339</td>\n      <td>280</td>\n    </tr>\n    <tr>\n      <th>2067573</th>\n      <td>878</td>\n      <td>2020-01-30</td>\n      <td>2501</td>\n      <td>2651.0</td>\n      <td>2019-12-31</td>\n      <td>30</td>\n      <td>0.059976</td>\n      <td>224</td>\n    </tr>\n    <tr>\n      <th>2067574</th>\n      <td>879</td>\n      <td>2020-01-30</td>\n      <td>4177</td>\n      <td>4157.0</td>\n      <td>2019-12-31</td>\n      <td>30</td>\n      <td>0.004788</td>\n      <td>140</td>\n    </tr>\n    <tr>\n      <th>2067575</th>\n      <td>880</td>\n      <td>2020-01-30</td>\n      <td>3558</td>\n      <td>3641.0</td>\n      <td>2019-12-31</td>\n      <td>30</td>\n      <td>0.023328</td>\n      <td>58</td>\n    </tr>\n  </tbody>\n</table>\n<p>2049829 rows × 8 columns</p>\n</div>"
     },
     "execution_count": 12,
     "metadata": {},
     "output_type": "execute_result"
    }
   ],
   "source": [
    "%%time\n",
    "print('start')\n",
    "mask = (data['open_day_count'] >= 30)\n",
    "data_v2 = data[mask].copy()\n",
    "data_v2"
   ],
   "metadata": {
    "collapsed": false,
    "pycharm": {
     "name": "#%%\n"
    }
   }
  },
  {
   "cell_type": "code",
   "execution_count": 13,
   "outputs": [
    {
     "name": "stdout",
     "output_type": "stream",
     "text": [
      "start\n",
      "Mean:  0.05002167195397023\n",
      "Std: 0.4645855267761342\n",
      "Min: 0.0\n",
      "Max: 79.9090909090909\n",
      "CPU times: user 61.4 ms, sys: 4.03 ms, total: 65.5 ms\n",
      "Wall time: 59.5 ms\n"
     ]
    }
   ],
   "source": [
    "%%time\n",
    "print('start')\n",
    "# All\n",
    "ape_data = data_v2['ape']\n",
    "print('Mean: ', ape_data.mean())\n",
    "print('Std:', ape_data.std())\n",
    "print('Min:', ape_data.min())\n",
    "print('Max:', ape_data.max())"
   ],
   "metadata": {
    "collapsed": false,
    "pycharm": {
     "name": "#%%\n"
    }
   }
  },
  {
   "cell_type": "code",
   "execution_count": 14,
   "outputs": [
    {
     "name": "stdout",
     "output_type": "stream",
     "text": [
      "start\n",
      "Mean:  0.04973023237471288\n",
      "Std: 0.4445818028712386\n",
      "Min: 0.0\n",
      "Max: 74.42424242424242\n",
      "CPU times: user 19.4 ms, sys: 5.17 ms, total: 24.6 ms\n",
      "Wall time: 19.6 ms\n"
     ]
    }
   ],
   "source": [
    "%%time\n",
    "print('start')\n",
    "# Diagonal\n",
    "mask = (data_v2['nth_pred'] == 0)\n",
    "ape_data = data_v2.loc[mask, 'ape']\n",
    "print('Mean: ', ape_data.mean())\n",
    "print('Std:', ape_data.std())\n",
    "print('Min:', ape_data.min())\n",
    "print('Max:', ape_data.max())"
   ],
   "metadata": {
    "collapsed": false,
    "pycharm": {
     "name": "#%%\n"
    }
   }
  },
  {
   "cell_type": "code",
   "execution_count": 15,
   "outputs": [
    {
     "name": "stdout",
     "output_type": "stream",
     "text": [
      "start\n",
      "Mean:  0.04952806003212202\n",
      "Std: 0.4659337204237443\n",
      "Min: 0.0\n",
      "Max: 74.75757575757575\n",
      "CPU times: user 322 ms, sys: 11.7 ms, total: 334 ms\n",
      "Wall time: 328 ms\n"
     ]
    }
   ],
   "source": [
    "%%time\n",
    "print('start')\n",
    "# 1st date only\n",
    "mask = (data['split_date'].dt.day == 1)\n",
    "ape_data =  data_v2.loc[mask, 'ape']\n",
    "print('Mean: ', ape_data.mean())\n",
    "print('Std:', ape_data.std())\n",
    "print('Min:', ape_data.min())\n",
    "print('Max:', ape_data.max())\n"
   ],
   "metadata": {
    "collapsed": false,
    "pycharm": {
     "name": "#%%\n"
    }
   }
  },
  {
   "cell_type": "code",
   "execution_count": 16,
   "outputs": [
    {
     "name": "stdout",
     "output_type": "stream",
     "text": [
      "start\n",
      "CPU times: user 70.5 ms, sys: 29.2 ms, total: 99.7 ms\n",
      "Wall time: 97.9 ms\n"
     ]
    },
    {
     "data": {
      "text/plain": "         store_cd       date  customer_count    pred split_date  nth_pred  \\\n0             113 2019-01-01            1247  2279.0 2019-01-01         0   \n1             113 2019-01-02            1551  1898.0 2019-01-01         1   \n2             113 2019-01-02            1551  1731.0 2019-01-02         0   \n3             113 2019-01-03            1703  1878.0 2019-01-01         2   \n4             113 2019-01-03            1703  1902.0 2019-01-02         1   \n...           ...        ...             ...     ...        ...       ...   \n2067571       876 2020-01-30            2892  2897.0 2019-12-31        30   \n2067572       877 2020-01-30            3962  3925.0 2019-12-31        30   \n2067573       878 2020-01-30            2501  2651.0 2019-12-31        30   \n2067574       879 2020-01-30            4177  4157.0 2019-12-31        30   \n2067575       880 2020-01-30            3558  3641.0 2019-12-31        30   \n\n              ape  open_day_count  \n0        0.827586             704  \n1        0.223727             705  \n2        0.116054             705  \n3        0.102760             706  \n4        0.116853             706  \n...           ...             ...  \n2067571  0.001729             309  \n2067572  0.009339             280  \n2067573  0.059976             224  \n2067574  0.004788             140  \n2067575  0.023328              58  \n\n[1998245 rows x 8 columns]",
      "text/html": "<div>\n<style scoped>\n    .dataframe tbody tr th:only-of-type {\n        vertical-align: middle;\n    }\n\n    .dataframe tbody tr th {\n        vertical-align: top;\n    }\n\n    .dataframe thead th {\n        text-align: right;\n    }\n</style>\n<table border=\"1\" class=\"dataframe\">\n  <thead>\n    <tr style=\"text-align: right;\">\n      <th></th>\n      <th>store_cd</th>\n      <th>date</th>\n      <th>customer_count</th>\n      <th>pred</th>\n      <th>split_date</th>\n      <th>nth_pred</th>\n      <th>ape</th>\n      <th>open_day_count</th>\n    </tr>\n  </thead>\n  <tbody>\n    <tr>\n      <th>0</th>\n      <td>113</td>\n      <td>2019-01-01</td>\n      <td>1247</td>\n      <td>2279.0</td>\n      <td>2019-01-01</td>\n      <td>0</td>\n      <td>0.827586</td>\n      <td>704</td>\n    </tr>\n    <tr>\n      <th>1</th>\n      <td>113</td>\n      <td>2019-01-02</td>\n      <td>1551</td>\n      <td>1898.0</td>\n      <td>2019-01-01</td>\n      <td>1</td>\n      <td>0.223727</td>\n      <td>705</td>\n    </tr>\n    <tr>\n      <th>2</th>\n      <td>113</td>\n      <td>2019-01-02</td>\n      <td>1551</td>\n      <td>1731.0</td>\n      <td>2019-01-02</td>\n      <td>0</td>\n      <td>0.116054</td>\n      <td>705</td>\n    </tr>\n    <tr>\n      <th>3</th>\n      <td>113</td>\n      <td>2019-01-03</td>\n      <td>1703</td>\n      <td>1878.0</td>\n      <td>2019-01-01</td>\n      <td>2</td>\n      <td>0.102760</td>\n      <td>706</td>\n    </tr>\n    <tr>\n      <th>4</th>\n      <td>113</td>\n      <td>2019-01-03</td>\n      <td>1703</td>\n      <td>1902.0</td>\n      <td>2019-01-02</td>\n      <td>1</td>\n      <td>0.116853</td>\n      <td>706</td>\n    </tr>\n    <tr>\n      <th>...</th>\n      <td>...</td>\n      <td>...</td>\n      <td>...</td>\n      <td>...</td>\n      <td>...</td>\n      <td>...</td>\n      <td>...</td>\n      <td>...</td>\n    </tr>\n    <tr>\n      <th>2067571</th>\n      <td>876</td>\n      <td>2020-01-30</td>\n      <td>2892</td>\n      <td>2897.0</td>\n      <td>2019-12-31</td>\n      <td>30</td>\n      <td>0.001729</td>\n      <td>309</td>\n    </tr>\n    <tr>\n      <th>2067572</th>\n      <td>877</td>\n      <td>2020-01-30</td>\n      <td>3962</td>\n      <td>3925.0</td>\n      <td>2019-12-31</td>\n      <td>30</td>\n      <td>0.009339</td>\n      <td>280</td>\n    </tr>\n    <tr>\n      <th>2067573</th>\n      <td>878</td>\n      <td>2020-01-30</td>\n      <td>2501</td>\n      <td>2651.0</td>\n      <td>2019-12-31</td>\n      <td>30</td>\n      <td>0.059976</td>\n      <td>224</td>\n    </tr>\n    <tr>\n      <th>2067574</th>\n      <td>879</td>\n      <td>2020-01-30</td>\n      <td>4177</td>\n      <td>4157.0</td>\n      <td>2019-12-31</td>\n      <td>30</td>\n      <td>0.004788</td>\n      <td>140</td>\n    </tr>\n    <tr>\n      <th>2067575</th>\n      <td>880</td>\n      <td>2020-01-30</td>\n      <td>3558</td>\n      <td>3641.0</td>\n      <td>2019-12-31</td>\n      <td>30</td>\n      <td>0.023328</td>\n      <td>58</td>\n    </tr>\n  </tbody>\n</table>\n<p>1998245 rows × 8 columns</p>\n</div>"
     },
     "execution_count": 16,
     "metadata": {},
     "output_type": "execute_result"
    }
   ],
   "source": [
    "%%time\n",
    "print('start')\n",
    "taifu_list = [\n",
    "  '2019-07-18',\n",
    "  '2019-07-19',\n",
    "  '2019-08-12',\n",
    "  '2019-08-27',\n",
    "  '2019-08-28',\n",
    "  '2019-08-29',\n",
    "  '2019-10-12',\n",
    "  '2019-10-13',\n",
    "  '2019-10-14',\n",
    "]\n",
    "\n",
    "mask = ~(data_v2['date'].isin(taifu_list))\n",
    "data_v3 = data_v2[mask].copy()\n",
    "data_v3"
   ],
   "metadata": {
    "collapsed": false,
    "pycharm": {
     "name": "#%%\n"
    }
   }
  },
  {
   "cell_type": "code",
   "execution_count": 17,
   "outputs": [
    {
     "name": "stdout",
     "output_type": "stream",
     "text": [
      "start\n",
      "Mean:  0.04328844902653646\n",
      "Std: 0.04506889333311378\n",
      "Min: 0.0\n",
      "Max: 3.2756097560975608\n",
      "CPU times: user 53.8 ms, sys: 1.9 ms, total: 55.7 ms\n",
      "Wall time: 55.1 ms\n"
     ]
    }
   ],
   "source": [
    "%%time\n",
    "print('start')\n",
    "# All\n",
    "ape_data = data_v3['ape']\n",
    "print('Mean: ', ape_data.mean())\n",
    "print('Std:', ape_data.std())\n",
    "print('Min:', ape_data.min())\n",
    "print('Max:', ape_data.max())\n"
   ],
   "metadata": {
    "collapsed": false,
    "pycharm": {
     "name": "#%%\n"
    }
   }
  },
  {
   "cell_type": "code",
   "execution_count": 18,
   "outputs": [
    {
     "name": "stdout",
     "output_type": "stream",
     "text": [
      "start\n",
      "Mean:  0.04234029813371881\n",
      "Std: 0.04689532110515372\n",
      "Min: 0.0\n",
      "Max: 3.2756097560975608\n",
      "CPU times: user 14.8 ms, sys: 7.16 ms, total: 22 ms\n",
      "Wall time: 21.6 ms\n"
     ]
    }
   ],
   "source": [
    "%%time\n",
    "print('start')\n",
    "# Diagonal\n",
    "mask = (data_v3['nth_pred'] == 0)\n",
    "ape_data = data_v3.loc[mask, 'ape']\n",
    "print('Mean: ', ape_data.mean())\n",
    "print('Std:', ape_data.std())\n",
    "print('Min:', ape_data.min())\n",
    "print('Max:', ape_data.max())"
   ],
   "metadata": {
    "collapsed": false,
    "pycharm": {
     "name": "#%%\n"
    }
   }
  },
  {
   "cell_type": "code",
   "execution_count": 19,
   "outputs": [
    {
     "name": "stdout",
     "output_type": "stream",
     "text": [
      "start\n",
      "Mean:  0.04276621529464321\n",
      "Std: 0.04721866765380645\n",
      "Min: 0.0\n",
      "Max: 3.2756097560975608\n",
      "CPU times: user 154 ms, sys: 3.87 ms, total: 158 ms\n",
      "Wall time: 159 ms\n"
     ]
    }
   ],
   "source": [
    "%%time\n",
    "print('start')\n",
    "# 1st date only\n",
    "mask = (data_v3['split_date'].dt.day == 1)\n",
    "ape_data = data_v3.loc[mask, 'ape']\n",
    "print('Mean: ', ape_data.mean())\n",
    "print('Std:', ape_data.std())\n",
    "print('Min:', ape_data.min())\n",
    "print('Max:', ape_data.max())"
   ],
   "metadata": {
    "collapsed": false,
    "pycharm": {
     "name": "#%%\n"
    }
   }
  },
  {
   "cell_type": "code",
   "execution_count": 20,
   "outputs": [
    {
     "name": "stdout",
     "output_type": "stream",
     "text": [
      "start\n",
      "CPU times: user 69.3 ms, sys: 22.5 ms, total: 91.8 ms\n",
      "Wall time: 90.3 ms\n"
     ]
    },
    {
     "data": {
      "text/plain": "         store_cd       date  customer_count    pred split_date  nth_pred  \\\n6             113 2019-01-04            2085  2118.0 2019-01-01         3   \n7             113 2019-01-04            2085  1915.0 2019-01-02         2   \n8             113 2019-01-04            2085  1999.0 2019-01-03         1   \n9             113 2019-01-04            2085  2018.0 2019-01-04         0   \n10            113 2019-01-05            2010  2022.0 2019-01-01         4   \n...           ...        ...             ...     ...        ...       ...   \n2067571       876 2020-01-30            2892  2897.0 2019-12-31        30   \n2067572       877 2020-01-30            3962  3925.0 2019-12-31        30   \n2067573       878 2020-01-30            2501  2651.0 2019-12-31        30   \n2067574       879 2020-01-30            4177  4157.0 2019-12-31        30   \n2067575       880 2020-01-30            3558  3641.0 2019-12-31        30   \n\n              ape  open_day_count  \n6        0.015827             707  \n7        0.081535             707  \n8        0.041247             707  \n9        0.032134             707  \n10       0.005970             708  \n...           ...             ...  \n2067571  0.001729             309  \n2067572  0.009339             280  \n2067573  0.059976             224  \n2067574  0.004788             140  \n2067575  0.023328              58  \n\n[1957940 rows x 8 columns]",
      "text/html": "<div>\n<style scoped>\n    .dataframe tbody tr th:only-of-type {\n        vertical-align: middle;\n    }\n\n    .dataframe tbody tr th {\n        vertical-align: top;\n    }\n\n    .dataframe thead th {\n        text-align: right;\n    }\n</style>\n<table border=\"1\" class=\"dataframe\">\n  <thead>\n    <tr style=\"text-align: right;\">\n      <th></th>\n      <th>store_cd</th>\n      <th>date</th>\n      <th>customer_count</th>\n      <th>pred</th>\n      <th>split_date</th>\n      <th>nth_pred</th>\n      <th>ape</th>\n      <th>open_day_count</th>\n    </tr>\n  </thead>\n  <tbody>\n    <tr>\n      <th>6</th>\n      <td>113</td>\n      <td>2019-01-04</td>\n      <td>2085</td>\n      <td>2118.0</td>\n      <td>2019-01-01</td>\n      <td>3</td>\n      <td>0.015827</td>\n      <td>707</td>\n    </tr>\n    <tr>\n      <th>7</th>\n      <td>113</td>\n      <td>2019-01-04</td>\n      <td>2085</td>\n      <td>1915.0</td>\n      <td>2019-01-02</td>\n      <td>2</td>\n      <td>0.081535</td>\n      <td>707</td>\n    </tr>\n    <tr>\n      <th>8</th>\n      <td>113</td>\n      <td>2019-01-04</td>\n      <td>2085</td>\n      <td>1999.0</td>\n      <td>2019-01-03</td>\n      <td>1</td>\n      <td>0.041247</td>\n      <td>707</td>\n    </tr>\n    <tr>\n      <th>9</th>\n      <td>113</td>\n      <td>2019-01-04</td>\n      <td>2085</td>\n      <td>2018.0</td>\n      <td>2019-01-04</td>\n      <td>0</td>\n      <td>0.032134</td>\n      <td>707</td>\n    </tr>\n    <tr>\n      <th>10</th>\n      <td>113</td>\n      <td>2019-01-05</td>\n      <td>2010</td>\n      <td>2022.0</td>\n      <td>2019-01-01</td>\n      <td>4</td>\n      <td>0.005970</td>\n      <td>708</td>\n    </tr>\n    <tr>\n      <th>...</th>\n      <td>...</td>\n      <td>...</td>\n      <td>...</td>\n      <td>...</td>\n      <td>...</td>\n      <td>...</td>\n      <td>...</td>\n      <td>...</td>\n    </tr>\n    <tr>\n      <th>2067571</th>\n      <td>876</td>\n      <td>2020-01-30</td>\n      <td>2892</td>\n      <td>2897.0</td>\n      <td>2019-12-31</td>\n      <td>30</td>\n      <td>0.001729</td>\n      <td>309</td>\n    </tr>\n    <tr>\n      <th>2067572</th>\n      <td>877</td>\n      <td>2020-01-30</td>\n      <td>3962</td>\n      <td>3925.0</td>\n      <td>2019-12-31</td>\n      <td>30</td>\n      <td>0.009339</td>\n      <td>280</td>\n    </tr>\n    <tr>\n      <th>2067573</th>\n      <td>878</td>\n      <td>2020-01-30</td>\n      <td>2501</td>\n      <td>2651.0</td>\n      <td>2019-12-31</td>\n      <td>30</td>\n      <td>0.059976</td>\n      <td>224</td>\n    </tr>\n    <tr>\n      <th>2067574</th>\n      <td>879</td>\n      <td>2020-01-30</td>\n      <td>4177</td>\n      <td>4157.0</td>\n      <td>2019-12-31</td>\n      <td>30</td>\n      <td>0.004788</td>\n      <td>140</td>\n    </tr>\n    <tr>\n      <th>2067575</th>\n      <td>880</td>\n      <td>2020-01-30</td>\n      <td>3558</td>\n      <td>3641.0</td>\n      <td>2019-12-31</td>\n      <td>30</td>\n      <td>0.023328</td>\n      <td>58</td>\n    </tr>\n  </tbody>\n</table>\n<p>1957940 rows × 8 columns</p>\n</div>"
     },
     "execution_count": 20,
     "metadata": {},
     "output_type": "execute_result"
    }
   ],
   "source": [
    "%%time\n",
    "print('start')\n",
    "\n",
    "holiday_list = [\n",
    "  '2019-01-01',\n",
    "  '2019-01-02',\n",
    "  '2019-01-03',\n",
    "  '2019-12-24',\n",
    "  '2019-12-25',\n",
    "  '2019-12-30',\n",
    "  '2019-12-31',\n",
    "  '2020-01-01',\n",
    "  '2020-01-02',\n",
    "  '2020-01-03',\n",
    "]\n",
    "\n",
    "mask = ~(data_v3['date'].isin(holiday_list))\n",
    "data_v4 = data_v3[mask].copy()\n",
    "data_v4"
   ],
   "metadata": {
    "collapsed": false,
    "pycharm": {
     "name": "#%%\n"
    }
   }
  },
  {
   "cell_type": "code",
   "execution_count": 21,
   "outputs": [
    {
     "name": "stdout",
     "output_type": "stream",
     "text": [
      "start\n",
      "Mean:  0.042518289308484086\n",
      "Std: 0.04320377402196432\n",
      "Min: 0.0\n",
      "Max: 1.318421052631579\n",
      "CPU times: user 51 ms, sys: 2.06 ms, total: 53.1 ms\n",
      "Wall time: 48.9 ms\n"
     ]
    }
   ],
   "source": [
    "%%time\n",
    "print('start')\n",
    "# All\n",
    "ape_data = data_v4['ape']\n",
    "print('Mean: ', ape_data.mean())\n",
    "print('Std:', ape_data.std())\n",
    "print('Min:', ape_data.min())\n",
    "print('Max:', ape_data.max())"
   ],
   "metadata": {
    "collapsed": false,
    "pycharm": {
     "name": "#%%\n"
    }
   }
  },
  {
   "cell_type": "code",
   "execution_count": 22,
   "outputs": [
    {
     "name": "stdout",
     "output_type": "stream",
     "text": [
      "start\n",
      "Mean:  0.04136827728301112\n",
      "Std: 0.04199487051122995\n",
      "Min: 0.0\n",
      "Max: 1.1754385964912282\n",
      "CPU times: user 16.4 ms, sys: 4.11 ms, total: 20.5 ms\n",
      "Wall time: 18.6 ms\n"
     ]
    }
   ],
   "source": [
    "%%time\n",
    "print('start')\n",
    "# Diagonal\n",
    "mask = (data_v4['nth_pred'] == 0)\n",
    "ape_data = data_v4.loc[mask, 'ape']\n",
    "print('Mean: ', ape_data.mean())\n",
    "print('Std:', ape_data.std())\n",
    "print('Min:', ape_data.min())\n",
    "print('Max:', ape_data.max())\n"
   ],
   "metadata": {
    "collapsed": false,
    "pycharm": {
     "name": "#%%\n"
    }
   }
  },
  {
   "cell_type": "code",
   "execution_count": 23,
   "outputs": [
    {
     "name": "stdout",
     "output_type": "stream",
     "text": [
      "start\n",
      "Mean:  0.04179815969391328\n",
      "Std: 0.04222565205135954\n",
      "Min: 0.0\n",
      "Max: 1.1473684210526316\n",
      "CPU times: user 149 ms, sys: 1.86 ms, total: 151 ms\n",
      "Wall time: 148 ms\n"
     ]
    }
   ],
   "source": [
    "%%time\n",
    "print('start')\n",
    "# 1st date only\n",
    "mask = (data_v4['split_date'].dt.day == 1)\n",
    "ape_data = data_v4.loc[mask, 'ape']\n",
    "print('Mean: ', ape_data.mean())\n",
    "print('Std:', ape_data.std())\n",
    "print('Min:', ape_data.min())\n",
    "print('Max:', ape_data.max())\n",
    "\n"
   ],
   "metadata": {
    "collapsed": false,
    "pycharm": {
     "name": "#%%\n"
    }
   }
  },
  {
   "cell_type": "code",
   "execution_count": 25,
   "outputs": [
    {
     "name": "stdout",
     "output_type": "stream",
     "text": [
      "start\n",
      "CPU times: user 16.2 ms, sys: 8.38 ms, total: 24.6 ms\n",
      "Wall time: 40.5 ms\n"
     ]
    }
   ],
   "source": [
    "%%time\n",
    "print('start')\n",
    "\n",
    "mask = (data_v4['ape'] > 1)\n",
    "data_v4[mask].to_csv(d.TMP+'/other_spike.csv', index=False)"
   ],
   "metadata": {
    "collapsed": false,
    "pycharm": {
     "name": "#%%\n"
    }
   }
  },
  {
   "cell_type": "code",
   "execution_count": 30,
   "outputs": [
    {
     "name": "stdout",
     "output_type": "stream",
     "text": [
      "start\n",
      "CPU times: user 60.6 ms, sys: 2.98 ms, total: 63.6 ms\n",
      "Wall time: 61.1 ms\n"
     ]
    },
    {
     "data": {
      "text/plain": "    nth_pred      mean       std  min       max\n0          0  0.041368  0.041995  0.0  1.175439\n1          1  0.041503  0.042140  0.0  1.081579\n2          2  0.041793  0.042501  0.0  1.257018\n3          3  0.042063  0.042888  0.0  1.176316\n5          5  0.042341  0.043719  0.0  1.154386\n4          4  0.042346  0.043778  0.0  1.235088\n8          8  0.042380  0.043014  0.0  1.107895\n20        20  0.042466  0.042681  0.0  1.058772\n25        25  0.042485  0.042916  0.0  1.034211\n29        29  0.042486  0.043043  0.0  1.153509\n7          7  0.042515  0.043151  0.0  1.225439\n22        22  0.042556  0.043829  0.0  1.214912\n27        27  0.042562  0.042626  0.0  1.114912\n15        15  0.042572  0.042877  0.0  1.105263\n26        26  0.042573  0.042865  0.0  1.050877\n18        18  0.042592  0.042672  0.0  0.985965\n28        28  0.042602  0.042835  0.0  1.147368\n10        10  0.042607  0.043541  0.0  1.318421\n14        14  0.042635  0.043289  0.0  1.003509\n17        17  0.042657  0.043894  0.0  1.066667\n24        24  0.042679  0.043132  0.0  1.058772\n30        30  0.042693  0.043125  0.0  0.981308\n23        23  0.042738  0.043355  0.0  1.141228\n9          9  0.042745  0.044064  0.0  1.245614\n21        21  0.042783  0.043083  0.0  1.070175\n6          6  0.042817  0.044139  0.0  1.197368\n19        19  0.042830  0.043061  0.0  1.019298\n12        12  0.042877  0.043815  0.0  1.121053\n11        11  0.042883  0.043883  0.0  1.143860\n16        16  0.042887  0.043298  0.0  1.024561\n13        13  0.043016  0.043964  0.0  1.088596",
      "text/html": "<div>\n<style scoped>\n    .dataframe tbody tr th:only-of-type {\n        vertical-align: middle;\n    }\n\n    .dataframe tbody tr th {\n        vertical-align: top;\n    }\n\n    .dataframe thead th {\n        text-align: right;\n    }\n</style>\n<table border=\"1\" class=\"dataframe\">\n  <thead>\n    <tr style=\"text-align: right;\">\n      <th></th>\n      <th>nth_pred</th>\n      <th>mean</th>\n      <th>std</th>\n      <th>min</th>\n      <th>max</th>\n    </tr>\n  </thead>\n  <tbody>\n    <tr>\n      <th>0</th>\n      <td>0</td>\n      <td>0.041368</td>\n      <td>0.041995</td>\n      <td>0.0</td>\n      <td>1.175439</td>\n    </tr>\n    <tr>\n      <th>1</th>\n      <td>1</td>\n      <td>0.041503</td>\n      <td>0.042140</td>\n      <td>0.0</td>\n      <td>1.081579</td>\n    </tr>\n    <tr>\n      <th>2</th>\n      <td>2</td>\n      <td>0.041793</td>\n      <td>0.042501</td>\n      <td>0.0</td>\n      <td>1.257018</td>\n    </tr>\n    <tr>\n      <th>3</th>\n      <td>3</td>\n      <td>0.042063</td>\n      <td>0.042888</td>\n      <td>0.0</td>\n      <td>1.176316</td>\n    </tr>\n    <tr>\n      <th>5</th>\n      <td>5</td>\n      <td>0.042341</td>\n      <td>0.043719</td>\n      <td>0.0</td>\n      <td>1.154386</td>\n    </tr>\n    <tr>\n      <th>4</th>\n      <td>4</td>\n      <td>0.042346</td>\n      <td>0.043778</td>\n      <td>0.0</td>\n      <td>1.235088</td>\n    </tr>\n    <tr>\n      <th>8</th>\n      <td>8</td>\n      <td>0.042380</td>\n      <td>0.043014</td>\n      <td>0.0</td>\n      <td>1.107895</td>\n    </tr>\n    <tr>\n      <th>20</th>\n      <td>20</td>\n      <td>0.042466</td>\n      <td>0.042681</td>\n      <td>0.0</td>\n      <td>1.058772</td>\n    </tr>\n    <tr>\n      <th>25</th>\n      <td>25</td>\n      <td>0.042485</td>\n      <td>0.042916</td>\n      <td>0.0</td>\n      <td>1.034211</td>\n    </tr>\n    <tr>\n      <th>29</th>\n      <td>29</td>\n      <td>0.042486</td>\n      <td>0.043043</td>\n      <td>0.0</td>\n      <td>1.153509</td>\n    </tr>\n    <tr>\n      <th>7</th>\n      <td>7</td>\n      <td>0.042515</td>\n      <td>0.043151</td>\n      <td>0.0</td>\n      <td>1.225439</td>\n    </tr>\n    <tr>\n      <th>22</th>\n      <td>22</td>\n      <td>0.042556</td>\n      <td>0.043829</td>\n      <td>0.0</td>\n      <td>1.214912</td>\n    </tr>\n    <tr>\n      <th>27</th>\n      <td>27</td>\n      <td>0.042562</td>\n      <td>0.042626</td>\n      <td>0.0</td>\n      <td>1.114912</td>\n    </tr>\n    <tr>\n      <th>15</th>\n      <td>15</td>\n      <td>0.042572</td>\n      <td>0.042877</td>\n      <td>0.0</td>\n      <td>1.105263</td>\n    </tr>\n    <tr>\n      <th>26</th>\n      <td>26</td>\n      <td>0.042573</td>\n      <td>0.042865</td>\n      <td>0.0</td>\n      <td>1.050877</td>\n    </tr>\n    <tr>\n      <th>18</th>\n      <td>18</td>\n      <td>0.042592</td>\n      <td>0.042672</td>\n      <td>0.0</td>\n      <td>0.985965</td>\n    </tr>\n    <tr>\n      <th>28</th>\n      <td>28</td>\n      <td>0.042602</td>\n      <td>0.042835</td>\n      <td>0.0</td>\n      <td>1.147368</td>\n    </tr>\n    <tr>\n      <th>10</th>\n      <td>10</td>\n      <td>0.042607</td>\n      <td>0.043541</td>\n      <td>0.0</td>\n      <td>1.318421</td>\n    </tr>\n    <tr>\n      <th>14</th>\n      <td>14</td>\n      <td>0.042635</td>\n      <td>0.043289</td>\n      <td>0.0</td>\n      <td>1.003509</td>\n    </tr>\n    <tr>\n      <th>17</th>\n      <td>17</td>\n      <td>0.042657</td>\n      <td>0.043894</td>\n      <td>0.0</td>\n      <td>1.066667</td>\n    </tr>\n    <tr>\n      <th>24</th>\n      <td>24</td>\n      <td>0.042679</td>\n      <td>0.043132</td>\n      <td>0.0</td>\n      <td>1.058772</td>\n    </tr>\n    <tr>\n      <th>30</th>\n      <td>30</td>\n      <td>0.042693</td>\n      <td>0.043125</td>\n      <td>0.0</td>\n      <td>0.981308</td>\n    </tr>\n    <tr>\n      <th>23</th>\n      <td>23</td>\n      <td>0.042738</td>\n      <td>0.043355</td>\n      <td>0.0</td>\n      <td>1.141228</td>\n    </tr>\n    <tr>\n      <th>9</th>\n      <td>9</td>\n      <td>0.042745</td>\n      <td>0.044064</td>\n      <td>0.0</td>\n      <td>1.245614</td>\n    </tr>\n    <tr>\n      <th>21</th>\n      <td>21</td>\n      <td>0.042783</td>\n      <td>0.043083</td>\n      <td>0.0</td>\n      <td>1.070175</td>\n    </tr>\n    <tr>\n      <th>6</th>\n      <td>6</td>\n      <td>0.042817</td>\n      <td>0.044139</td>\n      <td>0.0</td>\n      <td>1.197368</td>\n    </tr>\n    <tr>\n      <th>19</th>\n      <td>19</td>\n      <td>0.042830</td>\n      <td>0.043061</td>\n      <td>0.0</td>\n      <td>1.019298</td>\n    </tr>\n    <tr>\n      <th>12</th>\n      <td>12</td>\n      <td>0.042877</td>\n      <td>0.043815</td>\n      <td>0.0</td>\n      <td>1.121053</td>\n    </tr>\n    <tr>\n      <th>11</th>\n      <td>11</td>\n      <td>0.042883</td>\n      <td>0.043883</td>\n      <td>0.0</td>\n      <td>1.143860</td>\n    </tr>\n    <tr>\n      <th>16</th>\n      <td>16</td>\n      <td>0.042887</td>\n      <td>0.043298</td>\n      <td>0.0</td>\n      <td>1.024561</td>\n    </tr>\n    <tr>\n      <th>13</th>\n      <td>13</td>\n      <td>0.043016</td>\n      <td>0.043964</td>\n      <td>0.0</td>\n      <td>1.088596</td>\n    </tr>\n  </tbody>\n</table>\n</div>"
     },
     "execution_count": 30,
     "metadata": {},
     "output_type": "execute_result"
    }
   ],
   "source": [
    "%%time\n",
    "print('start')\n",
    "# All\n",
    "agged = data_v4[['ape', 'nth_pred']].groupby('nth_pred').agg(\n",
    "  mean=('ape', 'mean'),\n",
    "  std=('ape', 'std'),\n",
    "  min=('ape', 'min'),\n",
    "  max=('ape', 'max'),\n",
    ").reset_index()\n",
    "\n",
    "agged.sort_values('mean', ascending=True)\n",
    "\n"
   ],
   "metadata": {
    "collapsed": false,
    "pycharm": {
     "name": "#%%\n"
    }
   }
  },
  {
   "cell_type": "code",
   "execution_count": 31,
   "outputs": [
    {
     "name": "stdout",
     "output_type": "stream",
     "text": [
      "start\n",
      "CPU times: user 169 ms, sys: 2.89 ms, total: 172 ms\n",
      "Wall time: 169 ms\n"
     ]
    },
    {
     "data": {
      "text/plain": "    nth_pred      mean       std  min       max\n25        25  0.030414  0.025846  0.0  0.214437\n11        11  0.033748  0.029706  0.0  0.284337\n17        17  0.034495  0.030879  0.0  0.313978\n24        24  0.036813  0.034180  0.0  0.411333\n4          4  0.036867  0.030598  0.0  0.259088\n16        16  0.036986  0.035268  0.0  0.377916\n8          8  0.036992  0.038858  0.0  0.700568\n23        23  0.037608  0.035377  0.0  0.382706\n7          7  0.037821  0.035677  0.0  0.686649\n18        18  0.037935  0.036945  0.0  0.333763\n15        15  0.038623  0.038584  0.0  0.633403\n12        12  0.038637  0.036712  0.0  0.676522\n22        22  0.038681  0.041072  0.0  0.731116\n20        20  0.039576  0.046117  0.0  1.007343\n1          1  0.039704  0.033478  0.0  0.378539\n19        19  0.041011  0.036212  0.0  0.458796\n9          9  0.041225  0.040775  0.0  0.427527\n5          5  0.042012  0.037244  0.0  0.396977\n26        26  0.042468  0.039273  0.0  0.367420\n21        21  0.042828  0.045815  0.0  0.743260\n6          6  0.043415  0.041767  0.0  0.407757\n13        13  0.043417  0.039835  0.0  0.666075\n27        27  0.043670  0.042461  0.0  0.499448\n3          3  0.044322  0.043172  0.0  0.635461\n28        28  0.044479  0.054602  0.0  1.147368\n29        29  0.049355  0.046448  0.0  0.736439\n2          2  0.049489  0.043640  0.0  0.409014\n0          0  0.050676  0.049745  0.0  0.574846\n14        14  0.050994  0.067442  0.0  0.872779\n30        30  0.051970  0.050092  0.0  0.654321\n10        10  0.059382  0.058078  0.0  0.742520",
      "text/html": "<div>\n<style scoped>\n    .dataframe tbody tr th:only-of-type {\n        vertical-align: middle;\n    }\n\n    .dataframe tbody tr th {\n        vertical-align: top;\n    }\n\n    .dataframe thead th {\n        text-align: right;\n    }\n</style>\n<table border=\"1\" class=\"dataframe\">\n  <thead>\n    <tr style=\"text-align: right;\">\n      <th></th>\n      <th>nth_pred</th>\n      <th>mean</th>\n      <th>std</th>\n      <th>min</th>\n      <th>max</th>\n    </tr>\n  </thead>\n  <tbody>\n    <tr>\n      <th>25</th>\n      <td>25</td>\n      <td>0.030414</td>\n      <td>0.025846</td>\n      <td>0.0</td>\n      <td>0.214437</td>\n    </tr>\n    <tr>\n      <th>11</th>\n      <td>11</td>\n      <td>0.033748</td>\n      <td>0.029706</td>\n      <td>0.0</td>\n      <td>0.284337</td>\n    </tr>\n    <tr>\n      <th>17</th>\n      <td>17</td>\n      <td>0.034495</td>\n      <td>0.030879</td>\n      <td>0.0</td>\n      <td>0.313978</td>\n    </tr>\n    <tr>\n      <th>24</th>\n      <td>24</td>\n      <td>0.036813</td>\n      <td>0.034180</td>\n      <td>0.0</td>\n      <td>0.411333</td>\n    </tr>\n    <tr>\n      <th>4</th>\n      <td>4</td>\n      <td>0.036867</td>\n      <td>0.030598</td>\n      <td>0.0</td>\n      <td>0.259088</td>\n    </tr>\n    <tr>\n      <th>16</th>\n      <td>16</td>\n      <td>0.036986</td>\n      <td>0.035268</td>\n      <td>0.0</td>\n      <td>0.377916</td>\n    </tr>\n    <tr>\n      <th>8</th>\n      <td>8</td>\n      <td>0.036992</td>\n      <td>0.038858</td>\n      <td>0.0</td>\n      <td>0.700568</td>\n    </tr>\n    <tr>\n      <th>23</th>\n      <td>23</td>\n      <td>0.037608</td>\n      <td>0.035377</td>\n      <td>0.0</td>\n      <td>0.382706</td>\n    </tr>\n    <tr>\n      <th>7</th>\n      <td>7</td>\n      <td>0.037821</td>\n      <td>0.035677</td>\n      <td>0.0</td>\n      <td>0.686649</td>\n    </tr>\n    <tr>\n      <th>18</th>\n      <td>18</td>\n      <td>0.037935</td>\n      <td>0.036945</td>\n      <td>0.0</td>\n      <td>0.333763</td>\n    </tr>\n    <tr>\n      <th>15</th>\n      <td>15</td>\n      <td>0.038623</td>\n      <td>0.038584</td>\n      <td>0.0</td>\n      <td>0.633403</td>\n    </tr>\n    <tr>\n      <th>12</th>\n      <td>12</td>\n      <td>0.038637</td>\n      <td>0.036712</td>\n      <td>0.0</td>\n      <td>0.676522</td>\n    </tr>\n    <tr>\n      <th>22</th>\n      <td>22</td>\n      <td>0.038681</td>\n      <td>0.041072</td>\n      <td>0.0</td>\n      <td>0.731116</td>\n    </tr>\n    <tr>\n      <th>20</th>\n      <td>20</td>\n      <td>0.039576</td>\n      <td>0.046117</td>\n      <td>0.0</td>\n      <td>1.007343</td>\n    </tr>\n    <tr>\n      <th>1</th>\n      <td>1</td>\n      <td>0.039704</td>\n      <td>0.033478</td>\n      <td>0.0</td>\n      <td>0.378539</td>\n    </tr>\n    <tr>\n      <th>19</th>\n      <td>19</td>\n      <td>0.041011</td>\n      <td>0.036212</td>\n      <td>0.0</td>\n      <td>0.458796</td>\n    </tr>\n    <tr>\n      <th>9</th>\n      <td>9</td>\n      <td>0.041225</td>\n      <td>0.040775</td>\n      <td>0.0</td>\n      <td>0.427527</td>\n    </tr>\n    <tr>\n      <th>5</th>\n      <td>5</td>\n      <td>0.042012</td>\n      <td>0.037244</td>\n      <td>0.0</td>\n      <td>0.396977</td>\n    </tr>\n    <tr>\n      <th>26</th>\n      <td>26</td>\n      <td>0.042468</td>\n      <td>0.039273</td>\n      <td>0.0</td>\n      <td>0.367420</td>\n    </tr>\n    <tr>\n      <th>21</th>\n      <td>21</td>\n      <td>0.042828</td>\n      <td>0.045815</td>\n      <td>0.0</td>\n      <td>0.743260</td>\n    </tr>\n    <tr>\n      <th>6</th>\n      <td>6</td>\n      <td>0.043415</td>\n      <td>0.041767</td>\n      <td>0.0</td>\n      <td>0.407757</td>\n    </tr>\n    <tr>\n      <th>13</th>\n      <td>13</td>\n      <td>0.043417</td>\n      <td>0.039835</td>\n      <td>0.0</td>\n      <td>0.666075</td>\n    </tr>\n    <tr>\n      <th>27</th>\n      <td>27</td>\n      <td>0.043670</td>\n      <td>0.042461</td>\n      <td>0.0</td>\n      <td>0.499448</td>\n    </tr>\n    <tr>\n      <th>3</th>\n      <td>3</td>\n      <td>0.044322</td>\n      <td>0.043172</td>\n      <td>0.0</td>\n      <td>0.635461</td>\n    </tr>\n    <tr>\n      <th>28</th>\n      <td>28</td>\n      <td>0.044479</td>\n      <td>0.054602</td>\n      <td>0.0</td>\n      <td>1.147368</td>\n    </tr>\n    <tr>\n      <th>29</th>\n      <td>29</td>\n      <td>0.049355</td>\n      <td>0.046448</td>\n      <td>0.0</td>\n      <td>0.736439</td>\n    </tr>\n    <tr>\n      <th>2</th>\n      <td>2</td>\n      <td>0.049489</td>\n      <td>0.043640</td>\n      <td>0.0</td>\n      <td>0.409014</td>\n    </tr>\n    <tr>\n      <th>0</th>\n      <td>0</td>\n      <td>0.050676</td>\n      <td>0.049745</td>\n      <td>0.0</td>\n      <td>0.574846</td>\n    </tr>\n    <tr>\n      <th>14</th>\n      <td>14</td>\n      <td>0.050994</td>\n      <td>0.067442</td>\n      <td>0.0</td>\n      <td>0.872779</td>\n    </tr>\n    <tr>\n      <th>30</th>\n      <td>30</td>\n      <td>0.051970</td>\n      <td>0.050092</td>\n      <td>0.0</td>\n      <td>0.654321</td>\n    </tr>\n    <tr>\n      <th>10</th>\n      <td>10</td>\n      <td>0.059382</td>\n      <td>0.058078</td>\n      <td>0.0</td>\n      <td>0.742520</td>\n    </tr>\n  </tbody>\n</table>\n</div>"
     },
     "execution_count": 31,
     "metadata": {},
     "output_type": "execute_result"
    }
   ],
   "source": [
    "%%time\n",
    "print('start')\n",
    "# 1st date only\n",
    "mask = (data_v4['split_date'].dt.day == 1)\n",
    "agged = data_v4.loc[mask, ['ape', 'nth_pred']].groupby('nth_pred').agg(\n",
    "  mean=('ape', 'mean'),\n",
    "  std=('ape', 'std'),\n",
    "  min=('ape', 'min'),\n",
    "  max=('ape', 'max'),\n",
    ").reset_index()\n",
    "\n",
    "agged.sort_values('mean', ascending=True)\n"
   ],
   "metadata": {
    "collapsed": false,
    "pycharm": {
     "name": "#%%\n"
    }
   }
  },
  {
   "cell_type": "code",
   "execution_count": 32,
   "outputs": [
    {
     "name": "stdout",
     "output_type": "stream",
     "text": [
      "start\n",
      "CPU times: user 45.5 ms, sys: 227 ms, total: 273 ms\n",
      "Wall time: 363 ms\n"
     ]
    },
    {
     "data": {
      "text/plain": "        store_cd        date  customer_count       store_name  post_cd  \\\n0            113  2020-01-01            1127       グルメシティ西明石店  6730041   \n1            113  2020-01-02            1452       グルメシティ西明石店  6730041   \n2            113  2020-01-03            1537       グルメシティ西明石店  6730041   \n3            113  2020-01-04            1939       グルメシティ西明石店  6730041   \n4            113  2020-01-05            1856       グルメシティ西明石店  6730041   \n...          ...         ...             ...              ...      ...   \n205207       880  2020-05-07            3192  イオンフ－ドスタイル山科椥辻店  6078162   \n205208       880  2020-05-08            3303  イオンフ－ドスタイル山科椥辻店  6078162   \n205209       880  2020-05-09            3282  イオンフ－ドスタイル山科椥辻店  6078162   \n205210       880  2020-05-10            3243  イオンフ－ドスタイル山科椥辻店  6078162   \n205211       880  2020-05-11            3213  イオンフ－ドスタイル山科椥辻店  6078162   \n\n       address_1 address_2     date_t  year  month  day  day-of-week  maxtemp  \\\n0            兵庫県       明石市 2020-01-01  2020      1    1            2      9.5   \n1            兵庫県       明石市 2020-01-02  2020      1    2            3     11.6   \n2            兵庫県       明石市 2020-01-03  2020      1    3            4     13.4   \n3            兵庫県       明石市 2020-01-04  2020      1    4            5     12.8   \n4            兵庫県       明石市 2020-01-05  2020      1    5            6     10.1   \n...          ...       ...        ...   ...    ...  ...          ...      ...   \n205207       京都市       山科区 2020-05-07  2020      5    7            3     23.5   \n205208       京都市       山科区 2020-05-08  2020      5    8            4     25.9   \n205209       京都市       山科区 2020-05-09  2020      5    9            5     22.2   \n205210       京都市       山科区 2020-05-10  2020      5   10            6     25.1   \n205211       京都市       山科区 2020-05-11  2020      5   11            0     30.4   \n\n        mintemp  rain  day_in_year  \n0           3.2   0.0            1  \n1           5.2   0.0            2  \n2           6.5   0.0            3  \n3           6.4   0.0            4  \n4           4.9   0.0            5  \n...         ...   ...          ...  \n205207     12.9   0.0          128  \n205208     11.0   0.0          129  \n205209     15.3   2.0          130  \n205210     16.8   4.0          131  \n205211     18.1   0.5          132  \n\n[205212 rows x 16 columns]",
      "text/html": "<div>\n<style scoped>\n    .dataframe tbody tr th:only-of-type {\n        vertical-align: middle;\n    }\n\n    .dataframe tbody tr th {\n        vertical-align: top;\n    }\n\n    .dataframe thead th {\n        text-align: right;\n    }\n</style>\n<table border=\"1\" class=\"dataframe\">\n  <thead>\n    <tr style=\"text-align: right;\">\n      <th></th>\n      <th>store_cd</th>\n      <th>date</th>\n      <th>customer_count</th>\n      <th>store_name</th>\n      <th>post_cd</th>\n      <th>address_1</th>\n      <th>address_2</th>\n      <th>date_t</th>\n      <th>year</th>\n      <th>month</th>\n      <th>day</th>\n      <th>day-of-week</th>\n      <th>maxtemp</th>\n      <th>mintemp</th>\n      <th>rain</th>\n      <th>day_in_year</th>\n    </tr>\n  </thead>\n  <tbody>\n    <tr>\n      <th>0</th>\n      <td>113</td>\n      <td>2020-01-01</td>\n      <td>1127</td>\n      <td>グルメシティ西明石店</td>\n      <td>6730041</td>\n      <td>兵庫県</td>\n      <td>明石市</td>\n      <td>2020-01-01</td>\n      <td>2020</td>\n      <td>1</td>\n      <td>1</td>\n      <td>2</td>\n      <td>9.5</td>\n      <td>3.2</td>\n      <td>0.0</td>\n      <td>1</td>\n    </tr>\n    <tr>\n      <th>1</th>\n      <td>113</td>\n      <td>2020-01-02</td>\n      <td>1452</td>\n      <td>グルメシティ西明石店</td>\n      <td>6730041</td>\n      <td>兵庫県</td>\n      <td>明石市</td>\n      <td>2020-01-02</td>\n      <td>2020</td>\n      <td>1</td>\n      <td>2</td>\n      <td>3</td>\n      <td>11.6</td>\n      <td>5.2</td>\n      <td>0.0</td>\n      <td>2</td>\n    </tr>\n    <tr>\n      <th>2</th>\n      <td>113</td>\n      <td>2020-01-03</td>\n      <td>1537</td>\n      <td>グルメシティ西明石店</td>\n      <td>6730041</td>\n      <td>兵庫県</td>\n      <td>明石市</td>\n      <td>2020-01-03</td>\n      <td>2020</td>\n      <td>1</td>\n      <td>3</td>\n      <td>4</td>\n      <td>13.4</td>\n      <td>6.5</td>\n      <td>0.0</td>\n      <td>3</td>\n    </tr>\n    <tr>\n      <th>3</th>\n      <td>113</td>\n      <td>2020-01-04</td>\n      <td>1939</td>\n      <td>グルメシティ西明石店</td>\n      <td>6730041</td>\n      <td>兵庫県</td>\n      <td>明石市</td>\n      <td>2020-01-04</td>\n      <td>2020</td>\n      <td>1</td>\n      <td>4</td>\n      <td>5</td>\n      <td>12.8</td>\n      <td>6.4</td>\n      <td>0.0</td>\n      <td>4</td>\n    </tr>\n    <tr>\n      <th>4</th>\n      <td>113</td>\n      <td>2020-01-05</td>\n      <td>1856</td>\n      <td>グルメシティ西明石店</td>\n      <td>6730041</td>\n      <td>兵庫県</td>\n      <td>明石市</td>\n      <td>2020-01-05</td>\n      <td>2020</td>\n      <td>1</td>\n      <td>5</td>\n      <td>6</td>\n      <td>10.1</td>\n      <td>4.9</td>\n      <td>0.0</td>\n      <td>5</td>\n    </tr>\n    <tr>\n      <th>...</th>\n      <td>...</td>\n      <td>...</td>\n      <td>...</td>\n      <td>...</td>\n      <td>...</td>\n      <td>...</td>\n      <td>...</td>\n      <td>...</td>\n      <td>...</td>\n      <td>...</td>\n      <td>...</td>\n      <td>...</td>\n      <td>...</td>\n      <td>...</td>\n      <td>...</td>\n      <td>...</td>\n    </tr>\n    <tr>\n      <th>205207</th>\n      <td>880</td>\n      <td>2020-05-07</td>\n      <td>3192</td>\n      <td>イオンフ－ドスタイル山科椥辻店</td>\n      <td>6078162</td>\n      <td>京都市</td>\n      <td>山科区</td>\n      <td>2020-05-07</td>\n      <td>2020</td>\n      <td>5</td>\n      <td>7</td>\n      <td>3</td>\n      <td>23.5</td>\n      <td>12.9</td>\n      <td>0.0</td>\n      <td>128</td>\n    </tr>\n    <tr>\n      <th>205208</th>\n      <td>880</td>\n      <td>2020-05-08</td>\n      <td>3303</td>\n      <td>イオンフ－ドスタイル山科椥辻店</td>\n      <td>6078162</td>\n      <td>京都市</td>\n      <td>山科区</td>\n      <td>2020-05-08</td>\n      <td>2020</td>\n      <td>5</td>\n      <td>8</td>\n      <td>4</td>\n      <td>25.9</td>\n      <td>11.0</td>\n      <td>0.0</td>\n      <td>129</td>\n    </tr>\n    <tr>\n      <th>205209</th>\n      <td>880</td>\n      <td>2020-05-09</td>\n      <td>3282</td>\n      <td>イオンフ－ドスタイル山科椥辻店</td>\n      <td>6078162</td>\n      <td>京都市</td>\n      <td>山科区</td>\n      <td>2020-05-09</td>\n      <td>2020</td>\n      <td>5</td>\n      <td>9</td>\n      <td>5</td>\n      <td>22.2</td>\n      <td>15.3</td>\n      <td>2.0</td>\n      <td>130</td>\n    </tr>\n    <tr>\n      <th>205210</th>\n      <td>880</td>\n      <td>2020-05-10</td>\n      <td>3243</td>\n      <td>イオンフ－ドスタイル山科椥辻店</td>\n      <td>6078162</td>\n      <td>京都市</td>\n      <td>山科区</td>\n      <td>2020-05-10</td>\n      <td>2020</td>\n      <td>5</td>\n      <td>10</td>\n      <td>6</td>\n      <td>25.1</td>\n      <td>16.8</td>\n      <td>4.0</td>\n      <td>131</td>\n    </tr>\n    <tr>\n      <th>205211</th>\n      <td>880</td>\n      <td>2020-05-11</td>\n      <td>3213</td>\n      <td>イオンフ－ドスタイル山科椥辻店</td>\n      <td>6078162</td>\n      <td>京都市</td>\n      <td>山科区</td>\n      <td>2020-05-11</td>\n      <td>2020</td>\n      <td>5</td>\n      <td>11</td>\n      <td>0</td>\n      <td>30.4</td>\n      <td>18.1</td>\n      <td>0.5</td>\n      <td>132</td>\n    </tr>\n  </tbody>\n</table>\n<p>205212 rows × 16 columns</p>\n</div>"
     },
     "execution_count": 32,
     "metadata": {},
     "output_type": "execute_result"
    }
   ],
   "source": [
    "%%time\n",
    "print('start')\n",
    "\n",
    "edadata = pd.read_pickle(d.INTERIM_DATA+'/dataset_for_eda.pkl')\n",
    "edadata"
   ],
   "metadata": {
    "collapsed": false,
    "pycharm": {
     "name": "#%%\n"
    }
   }
  },
  {
   "cell_type": "code",
   "execution_count": 33,
   "outputs": [
    {
     "name": "stdout",
     "output_type": "stream",
     "text": [
      "start\n",
      "CPU times: user 14.7 ms, sys: 5.16 ms, total: 19.8 ms\n",
      "Wall time: 18 ms\n"
     ]
    },
    {
     "data": {
      "text/plain": "       store_cd        date  customer_count store_name  post_cd address_1  \\\n97230       752  2020-01-01             805  foodium堂島  5300003       大阪府   \n97231       752  2020-01-02             967  foodium堂島  5300003       大阪府   \n97232       752  2020-01-03            1036  foodium堂島  5300003       大阪府   \n97233       752  2020-01-04            1318  foodium堂島  5300003       大阪府   \n97234       752  2020-01-05            1112  foodium堂島  5300003       大阪府   \n...         ...         ...             ...        ...      ...       ...   \n98425       752  2020-05-07            2340  foodium堂島  5300003       大阪府   \n98426       752  2020-05-08            2164  foodium堂島  5300003       大阪府   \n98427       752  2020-05-09            1086  foodium堂島  5300003       大阪府   \n98428       752  2020-05-10             791  foodium堂島  5300003       大阪府   \n98429       752  2020-05-11            2253  foodium堂島  5300003       大阪府   \n\n      address_2     date_t  year  month  day  day-of-week  maxtemp  mintemp  \\\n97230     大阪市北区 2020-01-01  2020      1    1            2     10.7      3.7   \n97231     大阪市北区 2020-01-02  2020      1    2            3     11.8      3.0   \n97232     大阪市北区 2020-01-03  2020      1    3            4     13.5      6.6   \n97233     大阪市北区 2020-01-04  2020      1    4            5     12.5      6.4   \n97234     大阪市北区 2020-01-05  2020      1    5            6     10.3      5.3   \n...         ...        ...   ...    ...  ...          ...      ...      ...   \n98425     大阪市北区 2020-05-07  2020      5    7            3     24.1     13.5   \n98426     大阪市北区 2020-05-08  2020      5    8            4     23.2     12.5   \n98427     大阪市北区 2020-05-09  2020      5    9            5     22.9     15.6   \n98428     大阪市北区 2020-05-10  2020      5   10            6     26.2     17.3   \n98429     大阪市北区 2020-05-11  2020      5   11            0     26.4     18.5   \n\n       rain  day_in_year  \n97230   0.0            1  \n97231   0.0            2  \n97232   0.0            3  \n97233   0.0            4  \n97234   0.0            5  \n...     ...          ...  \n98425   0.0          128  \n98426   0.0          129  \n98427   1.5          130  \n98428   4.0          131  \n98429   0.0          132  \n\n[1200 rows x 16 columns]",
      "text/html": "<div>\n<style scoped>\n    .dataframe tbody tr th:only-of-type {\n        vertical-align: middle;\n    }\n\n    .dataframe tbody tr th {\n        vertical-align: top;\n    }\n\n    .dataframe thead th {\n        text-align: right;\n    }\n</style>\n<table border=\"1\" class=\"dataframe\">\n  <thead>\n    <tr style=\"text-align: right;\">\n      <th></th>\n      <th>store_cd</th>\n      <th>date</th>\n      <th>customer_count</th>\n      <th>store_name</th>\n      <th>post_cd</th>\n      <th>address_1</th>\n      <th>address_2</th>\n      <th>date_t</th>\n      <th>year</th>\n      <th>month</th>\n      <th>day</th>\n      <th>day-of-week</th>\n      <th>maxtemp</th>\n      <th>mintemp</th>\n      <th>rain</th>\n      <th>day_in_year</th>\n    </tr>\n  </thead>\n  <tbody>\n    <tr>\n      <th>97230</th>\n      <td>752</td>\n      <td>2020-01-01</td>\n      <td>805</td>\n      <td>foodium堂島</td>\n      <td>5300003</td>\n      <td>大阪府</td>\n      <td>大阪市北区</td>\n      <td>2020-01-01</td>\n      <td>2020</td>\n      <td>1</td>\n      <td>1</td>\n      <td>2</td>\n      <td>10.7</td>\n      <td>3.7</td>\n      <td>0.0</td>\n      <td>1</td>\n    </tr>\n    <tr>\n      <th>97231</th>\n      <td>752</td>\n      <td>2020-01-02</td>\n      <td>967</td>\n      <td>foodium堂島</td>\n      <td>5300003</td>\n      <td>大阪府</td>\n      <td>大阪市北区</td>\n      <td>2020-01-02</td>\n      <td>2020</td>\n      <td>1</td>\n      <td>2</td>\n      <td>3</td>\n      <td>11.8</td>\n      <td>3.0</td>\n      <td>0.0</td>\n      <td>2</td>\n    </tr>\n    <tr>\n      <th>97232</th>\n      <td>752</td>\n      <td>2020-01-03</td>\n      <td>1036</td>\n      <td>foodium堂島</td>\n      <td>5300003</td>\n      <td>大阪府</td>\n      <td>大阪市北区</td>\n      <td>2020-01-03</td>\n      <td>2020</td>\n      <td>1</td>\n      <td>3</td>\n      <td>4</td>\n      <td>13.5</td>\n      <td>6.6</td>\n      <td>0.0</td>\n      <td>3</td>\n    </tr>\n    <tr>\n      <th>97233</th>\n      <td>752</td>\n      <td>2020-01-04</td>\n      <td>1318</td>\n      <td>foodium堂島</td>\n      <td>5300003</td>\n      <td>大阪府</td>\n      <td>大阪市北区</td>\n      <td>2020-01-04</td>\n      <td>2020</td>\n      <td>1</td>\n      <td>4</td>\n      <td>5</td>\n      <td>12.5</td>\n      <td>6.4</td>\n      <td>0.0</td>\n      <td>4</td>\n    </tr>\n    <tr>\n      <th>97234</th>\n      <td>752</td>\n      <td>2020-01-05</td>\n      <td>1112</td>\n      <td>foodium堂島</td>\n      <td>5300003</td>\n      <td>大阪府</td>\n      <td>大阪市北区</td>\n      <td>2020-01-05</td>\n      <td>2020</td>\n      <td>1</td>\n      <td>5</td>\n      <td>6</td>\n      <td>10.3</td>\n      <td>5.3</td>\n      <td>0.0</td>\n      <td>5</td>\n    </tr>\n    <tr>\n      <th>...</th>\n      <td>...</td>\n      <td>...</td>\n      <td>...</td>\n      <td>...</td>\n      <td>...</td>\n      <td>...</td>\n      <td>...</td>\n      <td>...</td>\n      <td>...</td>\n      <td>...</td>\n      <td>...</td>\n      <td>...</td>\n      <td>...</td>\n      <td>...</td>\n      <td>...</td>\n      <td>...</td>\n    </tr>\n    <tr>\n      <th>98425</th>\n      <td>752</td>\n      <td>2020-05-07</td>\n      <td>2340</td>\n      <td>foodium堂島</td>\n      <td>5300003</td>\n      <td>大阪府</td>\n      <td>大阪市北区</td>\n      <td>2020-05-07</td>\n      <td>2020</td>\n      <td>5</td>\n      <td>7</td>\n      <td>3</td>\n      <td>24.1</td>\n      <td>13.5</td>\n      <td>0.0</td>\n      <td>128</td>\n    </tr>\n    <tr>\n      <th>98426</th>\n      <td>752</td>\n      <td>2020-05-08</td>\n      <td>2164</td>\n      <td>foodium堂島</td>\n      <td>5300003</td>\n      <td>大阪府</td>\n      <td>大阪市北区</td>\n      <td>2020-05-08</td>\n      <td>2020</td>\n      <td>5</td>\n      <td>8</td>\n      <td>4</td>\n      <td>23.2</td>\n      <td>12.5</td>\n      <td>0.0</td>\n      <td>129</td>\n    </tr>\n    <tr>\n      <th>98427</th>\n      <td>752</td>\n      <td>2020-05-09</td>\n      <td>1086</td>\n      <td>foodium堂島</td>\n      <td>5300003</td>\n      <td>大阪府</td>\n      <td>大阪市北区</td>\n      <td>2020-05-09</td>\n      <td>2020</td>\n      <td>5</td>\n      <td>9</td>\n      <td>5</td>\n      <td>22.9</td>\n      <td>15.6</td>\n      <td>1.5</td>\n      <td>130</td>\n    </tr>\n    <tr>\n      <th>98428</th>\n      <td>752</td>\n      <td>2020-05-10</td>\n      <td>791</td>\n      <td>foodium堂島</td>\n      <td>5300003</td>\n      <td>大阪府</td>\n      <td>大阪市北区</td>\n      <td>2020-05-10</td>\n      <td>2020</td>\n      <td>5</td>\n      <td>10</td>\n      <td>6</td>\n      <td>26.2</td>\n      <td>17.3</td>\n      <td>4.0</td>\n      <td>131</td>\n    </tr>\n    <tr>\n      <th>98429</th>\n      <td>752</td>\n      <td>2020-05-11</td>\n      <td>2253</td>\n      <td>foodium堂島</td>\n      <td>5300003</td>\n      <td>大阪府</td>\n      <td>大阪市北区</td>\n      <td>2020-05-11</td>\n      <td>2020</td>\n      <td>5</td>\n      <td>11</td>\n      <td>0</td>\n      <td>26.4</td>\n      <td>18.5</td>\n      <td>0.0</td>\n      <td>132</td>\n    </tr>\n  </tbody>\n</table>\n<p>1200 rows × 16 columns</p>\n</div>"
     },
     "execution_count": 33,
     "metadata": {},
     "output_type": "execute_result"
    }
   ],
   "source": [
    "%%time\n",
    "print('start')\n",
    "\n",
    "mask = (edadata['store_cd'] == 752)\n",
    "edadata[mask]"
   ],
   "metadata": {
    "collapsed": false,
    "pycharm": {
     "name": "#%%\n"
    }
   }
  }
 ],
 "metadata": {
  "kernelspec": {
   "display_name": "Python 3",
   "language": "python",
   "name": "python3"
  },
  "language_info": {
   "codemirror_mode": {
    "name": "ipython",
    "version": 2
   },
   "file_extension": ".py",
   "mimetype": "text/x-python",
   "name": "python",
   "nbconvert_exporter": "python",
   "pygments_lexer": "ipython2",
   "version": "2.7.6"
  }
 },
 "nbformat": 4,
 "nbformat_minor": 0
}