{
 "cells": [
  {
   "cell_type": "code",
   "execution_count": 84,
   "outputs": [
    {
     "name": "stdout",
     "output_type": "stream",
     "text": [
      "The autoreload extension is already loaded. To reload it, use:\n",
      "  %reload_ext autoreload\n"
     ]
    },
    {
     "data": {
      "text/plain": "<module 'defs' from '/home/jovyan/dev/projects/vinx/defs.py'>"
     },
     "execution_count": 84,
     "metadata": {},
     "output_type": "execute_result"
    }
   ],
   "source": [
    "%load_ext autoreload\n",
    "%autoreload 2\n",
    "# coding=utf-8#%%\n",
    "\n",
    "import defs as d\n",
    "import pandas as pd\n",
    "import lightgbm as lgb\n",
    "import loss_functions as lf\n",
    "import base_datasource as bd\n",
    "import matplotlib.pyplot as plt\n",
    "import time_series_cross_validation as cv\n",
    "import json\n",
    "import datetime as dt\n",
    "from datetime import timedelta\n",
    "d"
   ],
   "metadata": {
    "collapsed": false,
    "pycharm": {
     "name": "#%%\n"
    }
   }
  },
  {
   "cell_type": "code",
   "execution_count": 29,
   "outputs": [
    {
     "name": "stdout",
     "output_type": "stream",
     "text": [
      "start\n",
      "CPU times: user 18.7 ms, sys: 17.6 ms, total: 36.3 ms\n",
      "Wall time: 102 ms\n"
     ]
    },
    {
     "data": {
      "text/plain": "        store_cd  customer_count  post_cd     date_t  year  month  day  \\\n0            113            1127  6730041 2020-01-01  2020      1    1   \n1            113            1452  6730041 2020-01-02  2020      1    2   \n2            113            1537  6730041 2020-01-03  2020      1    3   \n3            113            1939  6730041 2020-01-04  2020      1    4   \n4            113            1856  6730041 2020-01-05  2020      1    5   \n...          ...             ...      ...        ...   ...    ...  ...   \n205207       880            3192  6078162 2020-05-07  2020      5    7   \n205208       880            3303  6078162 2020-05-08  2020      5    8   \n205209       880            3282  6078162 2020-05-09  2020      5    9   \n205210       880            3243  6078162 2020-05-10  2020      5   10   \n205211       880            3213  6078162 2020-05-11  2020      5   11   \n\n        day-of-week  maxtemp  mintemp  rain  day_in_year  \n0                 2      9.5      3.2   0.0            1  \n1                 3     11.6      5.2   0.0            2  \n2                 4     13.4      6.5   0.0            3  \n3                 5     12.8      6.4   0.0            4  \n4                 6     10.1      4.9   0.0            5  \n...             ...      ...      ...   ...          ...  \n205207            3     23.5     12.9   0.0          128  \n205208            4     25.9     11.0   0.0          129  \n205209            5     22.2     15.3   2.0          130  \n205210            6     25.1     16.8   4.0          131  \n205211            0     30.4     18.1   0.5          132  \n\n[205212 rows x 12 columns]",
      "text/html": "<div>\n<style scoped>\n    .dataframe tbody tr th:only-of-type {\n        vertical-align: middle;\n    }\n\n    .dataframe tbody tr th {\n        vertical-align: top;\n    }\n\n    .dataframe thead th {\n        text-align: right;\n    }\n</style>\n<table border=\"1\" class=\"dataframe\">\n  <thead>\n    <tr style=\"text-align: right;\">\n      <th></th>\n      <th>store_cd</th>\n      <th>customer_count</th>\n      <th>post_cd</th>\n      <th>date_t</th>\n      <th>year</th>\n      <th>month</th>\n      <th>day</th>\n      <th>day-of-week</th>\n      <th>maxtemp</th>\n      <th>mintemp</th>\n      <th>rain</th>\n      <th>day_in_year</th>\n    </tr>\n  </thead>\n  <tbody>\n    <tr>\n      <th>0</th>\n      <td>113</td>\n      <td>1127</td>\n      <td>6730041</td>\n      <td>2020-01-01</td>\n      <td>2020</td>\n      <td>1</td>\n      <td>1</td>\n      <td>2</td>\n      <td>9.5</td>\n      <td>3.2</td>\n      <td>0.0</td>\n      <td>1</td>\n    </tr>\n    <tr>\n      <th>1</th>\n      <td>113</td>\n      <td>1452</td>\n      <td>6730041</td>\n      <td>2020-01-02</td>\n      <td>2020</td>\n      <td>1</td>\n      <td>2</td>\n      <td>3</td>\n      <td>11.6</td>\n      <td>5.2</td>\n      <td>0.0</td>\n      <td>2</td>\n    </tr>\n    <tr>\n      <th>2</th>\n      <td>113</td>\n      <td>1537</td>\n      <td>6730041</td>\n      <td>2020-01-03</td>\n      <td>2020</td>\n      <td>1</td>\n      <td>3</td>\n      <td>4</td>\n      <td>13.4</td>\n      <td>6.5</td>\n      <td>0.0</td>\n      <td>3</td>\n    </tr>\n    <tr>\n      <th>3</th>\n      <td>113</td>\n      <td>1939</td>\n      <td>6730041</td>\n      <td>2020-01-04</td>\n      <td>2020</td>\n      <td>1</td>\n      <td>4</td>\n      <td>5</td>\n      <td>12.8</td>\n      <td>6.4</td>\n      <td>0.0</td>\n      <td>4</td>\n    </tr>\n    <tr>\n      <th>4</th>\n      <td>113</td>\n      <td>1856</td>\n      <td>6730041</td>\n      <td>2020-01-05</td>\n      <td>2020</td>\n      <td>1</td>\n      <td>5</td>\n      <td>6</td>\n      <td>10.1</td>\n      <td>4.9</td>\n      <td>0.0</td>\n      <td>5</td>\n    </tr>\n    <tr>\n      <th>...</th>\n      <td>...</td>\n      <td>...</td>\n      <td>...</td>\n      <td>...</td>\n      <td>...</td>\n      <td>...</td>\n      <td>...</td>\n      <td>...</td>\n      <td>...</td>\n      <td>...</td>\n      <td>...</td>\n      <td>...</td>\n    </tr>\n    <tr>\n      <th>205207</th>\n      <td>880</td>\n      <td>3192</td>\n      <td>6078162</td>\n      <td>2020-05-07</td>\n      <td>2020</td>\n      <td>5</td>\n      <td>7</td>\n      <td>3</td>\n      <td>23.5</td>\n      <td>12.9</td>\n      <td>0.0</td>\n      <td>128</td>\n    </tr>\n    <tr>\n      <th>205208</th>\n      <td>880</td>\n      <td>3303</td>\n      <td>6078162</td>\n      <td>2020-05-08</td>\n      <td>2020</td>\n      <td>5</td>\n      <td>8</td>\n      <td>4</td>\n      <td>25.9</td>\n      <td>11.0</td>\n      <td>0.0</td>\n      <td>129</td>\n    </tr>\n    <tr>\n      <th>205209</th>\n      <td>880</td>\n      <td>3282</td>\n      <td>6078162</td>\n      <td>2020-05-09</td>\n      <td>2020</td>\n      <td>5</td>\n      <td>9</td>\n      <td>5</td>\n      <td>22.2</td>\n      <td>15.3</td>\n      <td>2.0</td>\n      <td>130</td>\n    </tr>\n    <tr>\n      <th>205210</th>\n      <td>880</td>\n      <td>3243</td>\n      <td>6078162</td>\n      <td>2020-05-10</td>\n      <td>2020</td>\n      <td>5</td>\n      <td>10</td>\n      <td>6</td>\n      <td>25.1</td>\n      <td>16.8</td>\n      <td>4.0</td>\n      <td>131</td>\n    </tr>\n    <tr>\n      <th>205211</th>\n      <td>880</td>\n      <td>3213</td>\n      <td>6078162</td>\n      <td>2020-05-11</td>\n      <td>2020</td>\n      <td>5</td>\n      <td>11</td>\n      <td>0</td>\n      <td>30.4</td>\n      <td>18.1</td>\n      <td>0.5</td>\n      <td>132</td>\n    </tr>\n  </tbody>\n</table>\n<p>205212 rows × 12 columns</p>\n</div>"
     },
     "execution_count": 29,
     "metadata": {},
     "output_type": "execute_result"
    }
   ],
   "source": [
    "%%time\n",
    "print('start')\n",
    "data = bd.read_basedata()\n",
    "data"
   ],
   "metadata": {
    "collapsed": false,
    "pycharm": {
     "name": "#%%\n"
    }
   }
  },
  {
   "cell_type": "code",
   "execution_count": 81,
   "outputs": [
    {
     "name": "stdout",
     "output_type": "stream",
     "text": [
      "Progress: [####################] 99.2% Loop: 121/122\n",
      "CPU times: user 11min 53s, sys: 19.7 s, total: 12min 13s\n",
      "Wall time: 1min 45s\n"
     ]
    },
    {
     "data": {
      "text/plain": "array([0.110867  , 0.10955074, 0.10431979, 0.28780609, 0.11435637,\n       0.12273   , 0.29643565, 0.14877287, 0.12229797, 0.11554087,\n       0.11087114, 0.15188275, 0.10406888, 0.11358322, 0.11158809,\n       0.10914198, 0.11316367, 0.15132962, 0.10486179, 0.10329235,\n       0.12786652, 0.10696662, 0.28978566, 0.09948758, 0.21100287,\n       0.1090912 , 0.15145043, 0.27243153, 0.12301759, 0.1032027 ,\n       0.12756211, 0.14652238, 0.10036182, 0.28619147, 0.11276915,\n       0.15056453, 0.29375345, 0.11987606, 0.15053662, 0.10904849,\n       0.1419933 , 0.11667582, 0.13059016, 0.13537538, 0.09811993,\n       0.11363304, 0.11272372, 0.15153963, 0.14445445, 0.14267992,\n       0.12019257, 0.12278873, 0.14353221, 0.11214847, 0.1134585 ,\n       0.11707394, 0.13500621, 0.10553047, 0.09953038, 0.11094294,\n       0.14929355, 0.11229783, 0.10011931, 0.14825675, 0.42186288,\n       0.12925138, 0.2989805 , 0.09567332, 0.11308402, 0.13354785,\n       0.12905684, 0.09946638, 0.10120905, 0.14080573, 0.14792879,\n       0.10675533, 0.28002184, 0.11577856, 0.1199452 , 0.10344017,\n       0.14465421, 0.10820893, 0.10642717, 0.14897653, 0.14704954,\n       0.14555142, 0.15224711, 0.1024568 , 0.1063493 , 0.10654842,\n       0.14554119, 0.13128763, 0.11289313, 0.1101501 , 0.15680933,\n       0.1282592 , 0.12465907, 0.14832728, 0.11844766, 0.12709697,\n       0.10650582, 0.10060539, 0.11176853, 0.10711676, 0.11104336,\n       0.11276207, 0.11574755, 0.11457047, 0.10740975, 0.14359114,\n       0.1110251 , 0.10112139, 0.14328155, 0.12308225, 0.11187068,\n       0.11281989, 0.10554752, 0.27480956, 0.14086451, 0.11372545,\n       0.12001715, 0.14387236])"
     },
     "execution_count": 81,
     "metadata": {},
     "output_type": "execute_result"
    }
   ],
   "source": [
    "%%time\n",
    "print('start')\n",
    "\n",
    "estimator = lgb.LGBMRegressor()\n",
    "metric = lf.mape\n",
    "scores = cv.cross_val_score(estimator,{}, metric, data)\n",
    "\n",
    "scores"
   ],
   "metadata": {
    "collapsed": false,
    "pycharm": {
     "name": "#%%\n"
    }
   }
  },
  {
   "cell_type": "code",
   "execution_count": 82,
   "outputs": [
    {
     "name": "stdout",
     "output_type": "stream",
     "text": [
      "start\n",
      "CPU times: user 1.45 ms, sys: 1.02 ms, total: 2.47 ms\n",
      "Wall time: 2.32 ms\n"
     ]
    },
    {
     "data": {
      "text/plain": "0.13703126158775195"
     },
     "execution_count": 82,
     "metadata": {},
     "output_type": "execute_result"
    }
   ],
   "source": [
    "%%time\n",
    "print('start')\n",
    "scores.mean()\n"
   ],
   "metadata": {
    "collapsed": false,
    "pycharm": {
     "name": "#%%\n"
    }
   }
  }
 ],
 "metadata": {
  "kernelspec": {
   "name": "python3",
   "language": "python",
   "display_name": "Python 3"
  },
  "language_info": {
   "codemirror_mode": {
    "name": "ipython",
    "version": 2
   },
   "file_extension": ".py",
   "mimetype": "text/x-python",
   "name": "python",
   "nbconvert_exporter": "python",
   "pygments_lexer": "ipython2",
   "version": "2.7.6"
  }
 },
 "nbformat": 4,
 "nbformat_minor": 0
}